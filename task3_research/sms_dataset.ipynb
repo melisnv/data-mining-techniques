{
 "cells": [
  {
   "cell_type": "code",
   "execution_count": 3,
   "id": "eecb5c20",
   "metadata": {},
   "outputs": [],
   "source": [
    "import pandas as pd"
   ]
  },
  {
   "cell_type": "code",
   "execution_count": 19,
   "id": "1d8697cc",
   "metadata": {},
   "outputs": [],
   "source": [
    "data = pd.read_csv(\"SmsCollection.csv\", sep='\\t')"
   ]
  },
  {
   "cell_type": "code",
   "execution_count": 20,
   "id": "73da353a",
   "metadata": {},
   "outputs": [
    {
     "data": {
      "text/html": [
       "<div>\n",
       "<style scoped>\n",
       "    .dataframe tbody tr th:only-of-type {\n",
       "        vertical-align: middle;\n",
       "    }\n",
       "\n",
       "    .dataframe tbody tr th {\n",
       "        vertical-align: top;\n",
       "    }\n",
       "\n",
       "    .dataframe thead th {\n",
       "        text-align: right;\n",
       "    }\n",
       "</style>\n",
       "<table border=\"1\" class=\"dataframe\">\n",
       "  <thead>\n",
       "    <tr style=\"text-align: right;\">\n",
       "      <th></th>\n",
       "      <th>label;text</th>\n",
       "    </tr>\n",
       "  </thead>\n",
       "  <tbody>\n",
       "    <tr>\n",
       "      <th>0</th>\n",
       "      <td>ham;Go until jurong point, crazy.. Available o...</td>\n",
       "    </tr>\n",
       "    <tr>\n",
       "      <th>1</th>\n",
       "      <td>ham;Ok lar... Joking wif u oni...</td>\n",
       "    </tr>\n",
       "    <tr>\n",
       "      <th>2</th>\n",
       "      <td>spam;Free entry in 2 a wkly comp to win FA Cup...</td>\n",
       "    </tr>\n",
       "    <tr>\n",
       "      <th>3</th>\n",
       "      <td>ham;U dun say so early hor... U c already then...</td>\n",
       "    </tr>\n",
       "    <tr>\n",
       "      <th>4</th>\n",
       "      <td>ham;Nah I don't think he goes to usf, he lives...</td>\n",
       "    </tr>\n",
       "  </tbody>\n",
       "</table>\n",
       "</div>"
      ],
      "text/plain": [
       "                                          label;text\n",
       "0  ham;Go until jurong point, crazy.. Available o...\n",
       "1                  ham;Ok lar... Joking wif u oni...\n",
       "2  spam;Free entry in 2 a wkly comp to win FA Cup...\n",
       "3  ham;U dun say so early hor... U c already then...\n",
       "4  ham;Nah I don't think he goes to usf, he lives..."
      ]
     },
     "execution_count": 20,
     "metadata": {},
     "output_type": "execute_result"
    }
   ],
   "source": [
    "data.head()"
   ]
  },
  {
   "cell_type": "code",
   "execution_count": 27,
   "id": "009b8876",
   "metadata": {},
   "outputs": [],
   "source": [
    "new_data = pd.DataFrame(data['label;text'].str.split(';', 1))"
   ]
  },
  {
   "cell_type": "code",
   "execution_count": 28,
   "id": "b9588d69",
   "metadata": {},
   "outputs": [
    {
     "data": {
      "text/html": [
       "<div>\n",
       "<style scoped>\n",
       "    .dataframe tbody tr th:only-of-type {\n",
       "        vertical-align: middle;\n",
       "    }\n",
       "\n",
       "    .dataframe tbody tr th {\n",
       "        vertical-align: top;\n",
       "    }\n",
       "\n",
       "    .dataframe thead th {\n",
       "        text-align: right;\n",
       "    }\n",
       "</style>\n",
       "<table border=\"1\" class=\"dataframe\">\n",
       "  <thead>\n",
       "    <tr style=\"text-align: right;\">\n",
       "      <th></th>\n",
       "      <th>label;text</th>\n",
       "    </tr>\n",
       "  </thead>\n",
       "  <tbody>\n",
       "    <tr>\n",
       "      <th>0</th>\n",
       "      <td>[ham, Go until jurong point, crazy.. Available...</td>\n",
       "    </tr>\n",
       "    <tr>\n",
       "      <th>1</th>\n",
       "      <td>[ham, Ok lar... Joking wif u oni...]</td>\n",
       "    </tr>\n",
       "    <tr>\n",
       "      <th>2</th>\n",
       "      <td>[spam, Free entry in 2 a wkly comp to win FA C...</td>\n",
       "    </tr>\n",
       "    <tr>\n",
       "      <th>3</th>\n",
       "      <td>[ham, U dun say so early hor... U c already th...</td>\n",
       "    </tr>\n",
       "    <tr>\n",
       "      <th>4</th>\n",
       "      <td>[ham, Nah I don't think he goes to usf, he liv...</td>\n",
       "    </tr>\n",
       "    <tr>\n",
       "      <th>...</th>\n",
       "      <td>...</td>\n",
       "    </tr>\n",
       "    <tr>\n",
       "      <th>5569</th>\n",
       "      <td>[spam, This is the 2nd time we have tried 2 co...</td>\n",
       "    </tr>\n",
       "    <tr>\n",
       "      <th>5570</th>\n",
       "      <td>[ham, Will ü b going to esplanade fr home?]</td>\n",
       "    </tr>\n",
       "    <tr>\n",
       "      <th>5571</th>\n",
       "      <td>[ham, Pity, * was in mood for that. So...any o...</td>\n",
       "    </tr>\n",
       "    <tr>\n",
       "      <th>5572</th>\n",
       "      <td>[ham, The guy did some bitching but I acted li...</td>\n",
       "    </tr>\n",
       "    <tr>\n",
       "      <th>5573</th>\n",
       "      <td>[ham, Rofl. Its true to its name]</td>\n",
       "    </tr>\n",
       "  </tbody>\n",
       "</table>\n",
       "<p>5574 rows × 1 columns</p>\n",
       "</div>"
      ],
      "text/plain": [
       "                                             label;text\n",
       "0     [ham, Go until jurong point, crazy.. Available...\n",
       "1                  [ham, Ok lar... Joking wif u oni...]\n",
       "2     [spam, Free entry in 2 a wkly comp to win FA C...\n",
       "3     [ham, U dun say so early hor... U c already th...\n",
       "4     [ham, Nah I don't think he goes to usf, he liv...\n",
       "...                                                 ...\n",
       "5569  [spam, This is the 2nd time we have tried 2 co...\n",
       "5570        [ham, Will ü b going to esplanade fr home?]\n",
       "5571  [ham, Pity, * was in mood for that. So...any o...\n",
       "5572  [ham, The guy did some bitching but I acted li...\n",
       "5573                  [ham, Rofl. Its true to its name]\n",
       "\n",
       "[5574 rows x 1 columns]"
      ]
     },
     "execution_count": 28,
     "metadata": {},
     "output_type": "execute_result"
    }
   ],
   "source": [
    "new_data"
   ]
  },
  {
   "cell_type": "code",
   "execution_count": null,
   "id": "62bd9c60",
   "metadata": {},
   "outputs": [],
   "source": []
  }
 ],
 "metadata": {
  "kernelspec": {
   "display_name": "Python 3 (ipykernel)",
   "language": "python",
   "name": "python3"
  },
  "language_info": {
   "codemirror_mode": {
    "name": "ipython",
    "version": 3
   },
   "file_extension": ".py",
   "mimetype": "text/x-python",
   "name": "python",
   "nbconvert_exporter": "python",
   "pygments_lexer": "ipython3",
   "version": "3.9.5"
  }
 },
 "nbformat": 4,
 "nbformat_minor": 5
}
