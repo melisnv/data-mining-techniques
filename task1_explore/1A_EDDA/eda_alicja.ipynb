{
 "cells": [
  {
   "cell_type": "markdown",
   "id": "6777dbd0",
   "metadata": {},
   "source": [
    "# First look at the data"
   ]
  },
  {
   "cell_type": "markdown",
   "id": "5b49b6d1",
   "metadata": {},
   "source": [
    "## imports libraries"
   ]
  },
  {
   "cell_type": "code",
   "execution_count": 189,
   "id": "ec1208ae",
   "metadata": {},
   "outputs": [],
   "source": [
    "import pandas as pd\n",
    "import numpy as np\n",
    "import matplotlib.pyplot as plt"
   ]
  },
  {
   "cell_type": "markdown",
   "id": "151a8063",
   "metadata": {},
   "source": [
    "## loads data"
   ]
  },
  {
   "cell_type": "code",
   "execution_count": 190,
   "id": "4cf35b93",
   "metadata": {},
   "outputs": [],
   "source": [
    "data = pd.read_csv(\"teacher_data/ODI-2022.csv\", sep=\";\")"
   ]
  },
  {
   "cell_type": "code",
   "execution_count": 191,
   "id": "33bd9316",
   "metadata": {},
   "outputs": [
    {
     "data": {
      "text/html": [
       "<div>\n",
       "<style scoped>\n",
       "    .dataframe tbody tr th:only-of-type {\n",
       "        vertical-align: middle;\n",
       "    }\n",
       "\n",
       "    .dataframe tbody tr th {\n",
       "        vertical-align: top;\n",
       "    }\n",
       "\n",
       "    .dataframe thead th {\n",
       "        text-align: right;\n",
       "    }\n",
       "</style>\n",
       "<table border=\"1\" class=\"dataframe\">\n",
       "  <thead>\n",
       "    <tr style=\"text-align: right;\">\n",
       "      <th></th>\n",
       "      <th>Tijdstempel</th>\n",
       "      <th>What programme are you in?</th>\n",
       "      <th>Have you taken a course on machine learning?</th>\n",
       "      <th>Have you taken a course on information retrieval?</th>\n",
       "      <th>Have you taken a course on statistics?</th>\n",
       "      <th>Have you taken a course on databases?</th>\n",
       "      <th>What is your gender?</th>\n",
       "      <th>Chocolate makes you.....</th>\n",
       "      <th>When is your birthday (date)?</th>\n",
       "      <th>Number of neighbors sitting around you?</th>\n",
       "      <th>Did you stand up?</th>\n",
       "      <th>What is your stress level (0-100)?</th>\n",
       "      <th>You can get 100 euros if you win a local DM competition, or we don’t hold any competitions and I give everyone some money (not the same amount!). How much do you think you would deserve then?</th>\n",
       "      <th>Give a random number</th>\n",
       "      <th>Time you went to be Yesterday</th>\n",
       "      <th>What makes a good day for you (1)?</th>\n",
       "      <th>What makes a good day for you (2)?</th>\n",
       "    </tr>\n",
       "  </thead>\n",
       "  <tbody>\n",
       "    <tr>\n",
       "      <th>0</th>\n",
       "      <td>4-5-2022 12:12:07</td>\n",
       "      <td>artificial intelligence</td>\n",
       "      <td>yes</td>\n",
       "      <td>0</td>\n",
       "      <td>mu</td>\n",
       "      <td>nee</td>\n",
       "      <td>female</td>\n",
       "      <td>neither</td>\n",
       "      <td>02.05.1998</td>\n",
       "      <td>0</td>\n",
       "      <td>no</td>\n",
       "      <td>0</td>\n",
       "      <td>5</td>\n",
       "      <td>888</td>\n",
       "      <td>23:00</td>\n",
       "      <td>coffee</td>\n",
       "      <td>sun</td>\n",
       "    </tr>\n",
       "    <tr>\n",
       "      <th>1</th>\n",
       "      <td>4-5-2022 12:12:07</td>\n",
       "      <td>big data</td>\n",
       "      <td>yes</td>\n",
       "      <td>0</td>\n",
       "      <td>mu</td>\n",
       "      <td>nee</td>\n",
       "      <td>male</td>\n",
       "      <td>fat</td>\n",
       "      <td>29-02-2000</td>\n",
       "      <td>0</td>\n",
       "      <td>yes</td>\n",
       "      <td>200</td>\n",
       "      <td>1</td>\n",
       "      <td>12</td>\n",
       "      <td>32</td>\n",
       "      <td>7777</td>\n",
       "      <td>8964</td>\n",
       "    </tr>\n",
       "    <tr>\n",
       "      <th>2</th>\n",
       "      <td>4-5-2022 12:12:09</td>\n",
       "      <td>Computational  Science</td>\n",
       "      <td>yes</td>\n",
       "      <td>1</td>\n",
       "      <td>mu</td>\n",
       "      <td>ja</td>\n",
       "      <td>male</td>\n",
       "      <td>fat</td>\n",
       "      <td>29-06-1998</td>\n",
       "      <td>1</td>\n",
       "      <td>no</td>\n",
       "      <td>0</td>\n",
       "      <td>100</td>\n",
       "      <td>9</td>\n",
       "      <td>x</td>\n",
       "      <td>0</td>\n",
       "      <td>0</td>\n",
       "    </tr>\n",
       "    <tr>\n",
       "      <th>3</th>\n",
       "      <td>4-5-2022 12:12:09</td>\n",
       "      <td>Bioinformatics and Systems Biology</td>\n",
       "      <td>yes</td>\n",
       "      <td>0</td>\n",
       "      <td>unknown</td>\n",
       "      <td>nee</td>\n",
       "      <td>male</td>\n",
       "      <td>neither</td>\n",
       "      <td>11/05/97</td>\n",
       "      <td>0</td>\n",
       "      <td>no</td>\n",
       "      <td>20</td>\n",
       "      <td>100</td>\n",
       "      <td>31</td>\n",
       "      <td>14:00</td>\n",
       "      <td>good food</td>\n",
       "      <td>no stress</td>\n",
       "    </tr>\n",
       "    <tr>\n",
       "      <th>4</th>\n",
       "      <td>4-5-2022 12:12:15</td>\n",
       "      <td>AI</td>\n",
       "      <td>yes</td>\n",
       "      <td>1</td>\n",
       "      <td>mu</td>\n",
       "      <td>ja</td>\n",
       "      <td>male</td>\n",
       "      <td>fat</td>\n",
       "      <td>03-10-1997</td>\n",
       "      <td>0</td>\n",
       "      <td>no</td>\n",
       "      <td>2</td>\n",
       "      <td>100</td>\n",
       "      <td>86</td>\n",
       "      <td>07:20</td>\n",
       "      <td>Sunshine</td>\n",
       "      <td>Good Food</td>\n",
       "    </tr>\n",
       "  </tbody>\n",
       "</table>\n",
       "</div>"
      ],
      "text/plain": [
       "         Tijdstempel          What programme are you in?  \\\n",
       "0  4-5-2022 12:12:07             artificial intelligence   \n",
       "1  4-5-2022 12:12:07                            big data   \n",
       "2  4-5-2022 12:12:09              Computational  Science   \n",
       "3  4-5-2022 12:12:09  Bioinformatics and Systems Biology   \n",
       "4  4-5-2022 12:12:15                                  AI   \n",
       "\n",
       "  Have you taken a course on machine learning?  \\\n",
       "0                                          yes   \n",
       "1                                          yes   \n",
       "2                                          yes   \n",
       "3                                          yes   \n",
       "4                                          yes   \n",
       "\n",
       "  Have you taken a course on information retrieval?  \\\n",
       "0                                                 0   \n",
       "1                                                 0   \n",
       "2                                                 1   \n",
       "3                                                 0   \n",
       "4                                                 1   \n",
       "\n",
       "  Have you taken a course on statistics?  \\\n",
       "0                                     mu   \n",
       "1                                     mu   \n",
       "2                                     mu   \n",
       "3                                unknown   \n",
       "4                                     mu   \n",
       "\n",
       "  Have you taken a course on databases? What is your gender?  \\\n",
       "0                                   nee               female   \n",
       "1                                   nee                 male   \n",
       "2                                    ja                 male   \n",
       "3                                   nee                 male   \n",
       "4                                    ja                 male   \n",
       "\n",
       "  Chocolate makes you..... When is your birthday (date)?  \\\n",
       "0                  neither                    02.05.1998   \n",
       "1                      fat                    29-02-2000   \n",
       "2                      fat                    29-06-1998   \n",
       "3                  neither                      11/05/97   \n",
       "4                      fat                    03-10-1997   \n",
       "\n",
       "  Number of neighbors sitting around you? Did you stand up?  \\\n",
       "0                                       0                no   \n",
       "1                                       0               yes   \n",
       "2                                       1                no   \n",
       "3                                       0                no   \n",
       "4                                       0                no   \n",
       "\n",
       "  What is your stress level (0-100)?  \\\n",
       "0                                  0   \n",
       "1                                200   \n",
       "2                                  0   \n",
       "3                                 20   \n",
       "4                                  2   \n",
       "\n",
       "  You can get 100 euros if you win a local DM competition, or we don’t hold any competitions and I give everyone some money (not the same amount!). How much do you think you would deserve then?   \\\n",
       "0                                                  5                                                                                                                                                 \n",
       "1                                                  1                                                                                                                                                 \n",
       "2                                                100                                                                                                                                                 \n",
       "3                                                100                                                                                                                                                 \n",
       "4                                                100                                                                                                                                                 \n",
       "\n",
       "  Give a random number Time you went to be Yesterday  \\\n",
       "0                  888                         23:00   \n",
       "1                   12                            32   \n",
       "2                    9                             x   \n",
       "3                   31                         14:00   \n",
       "4                   86                         07:20   \n",
       "\n",
       "  What makes a good day for you (1)? What makes a good day for you (2)?  \n",
       "0                             coffee                                sun  \n",
       "1                               7777                               8964  \n",
       "2                                  0                                  0  \n",
       "3                          good food                          no stress  \n",
       "4                           Sunshine                          Good Food  "
      ]
     },
     "execution_count": 191,
     "metadata": {},
     "output_type": "execute_result"
    }
   ],
   "source": [
    "data.head()"
   ]
  },
  {
   "cell_type": "markdown",
   "id": "ab100b23",
   "metadata": {},
   "source": [
    "## Properties of the data\n",
    "Notice all sorts of properties of the dataset: how many records are there, how many\n",
    "attributes, what kinds of attributes are there, ranges of values, distribution of values,\n",
    "relationships between attributes, and so on. Notice if something is interesting (to you,\n",
    "or in general), make sure you write it down if you find something worth mentioning.\n"
   ]
  },
  {
   "cell_type": "code",
   "execution_count": 192,
   "id": "588c9fbe",
   "metadata": {},
   "outputs": [
    {
     "data": {
      "text/html": [
       "<div>\n",
       "<style scoped>\n",
       "    .dataframe tbody tr th:only-of-type {\n",
       "        vertical-align: middle;\n",
       "    }\n",
       "\n",
       "    .dataframe tbody tr th {\n",
       "        vertical-align: top;\n",
       "    }\n",
       "\n",
       "    .dataframe thead th {\n",
       "        text-align: right;\n",
       "    }\n",
       "</style>\n",
       "<table border=\"1\" class=\"dataframe\">\n",
       "  <thead>\n",
       "    <tr style=\"text-align: right;\">\n",
       "      <th></th>\n",
       "      <th>Tijdstempel</th>\n",
       "      <th>What programme are you in?</th>\n",
       "      <th>Have you taken a course on machine learning?</th>\n",
       "      <th>Have you taken a course on information retrieval?</th>\n",
       "      <th>Have you taken a course on statistics?</th>\n",
       "      <th>Have you taken a course on databases?</th>\n",
       "      <th>What is your gender?</th>\n",
       "      <th>Chocolate makes you.....</th>\n",
       "      <th>When is your birthday (date)?</th>\n",
       "      <th>Number of neighbors sitting around you?</th>\n",
       "      <th>Did you stand up?</th>\n",
       "      <th>What is your stress level (0-100)?</th>\n",
       "      <th>You can get 100 euros if you win a local DM competition, or we don’t hold any competitions and I give everyone some money (not the same amount!). How much do you think you would deserve then?</th>\n",
       "      <th>Give a random number</th>\n",
       "      <th>Time you went to be Yesterday</th>\n",
       "      <th>What makes a good day for you (1)?</th>\n",
       "      <th>What makes a good day for you (2)?</th>\n",
       "    </tr>\n",
       "  </thead>\n",
       "  <tbody>\n",
       "    <tr>\n",
       "      <th>count</th>\n",
       "      <td>304</td>\n",
       "      <td>304</td>\n",
       "      <td>304</td>\n",
       "      <td>304</td>\n",
       "      <td>304</td>\n",
       "      <td>304</td>\n",
       "      <td>304</td>\n",
       "      <td>304</td>\n",
       "      <td>304</td>\n",
       "      <td>304</td>\n",
       "      <td>304</td>\n",
       "      <td>304</td>\n",
       "      <td>303</td>\n",
       "      <td>304</td>\n",
       "      <td>302</td>\n",
       "      <td>304</td>\n",
       "      <td>304</td>\n",
       "    </tr>\n",
       "    <tr>\n",
       "      <th>unique</th>\n",
       "      <td>165</td>\n",
       "      <td>123</td>\n",
       "      <td>3</td>\n",
       "      <td>3</td>\n",
       "      <td>3</td>\n",
       "      <td>3</td>\n",
       "      <td>5</td>\n",
       "      <td>5</td>\n",
       "      <td>295</td>\n",
       "      <td>30</td>\n",
       "      <td>3</td>\n",
       "      <td>77</td>\n",
       "      <td>109</td>\n",
       "      <td>142</td>\n",
       "      <td>177</td>\n",
       "      <td>201</td>\n",
       "      <td>235</td>\n",
       "    </tr>\n",
       "    <tr>\n",
       "      <th>top</th>\n",
       "      <td>4-5-2022 12:16:06</td>\n",
       "      <td>AI</td>\n",
       "      <td>yes</td>\n",
       "      <td>0</td>\n",
       "      <td>mu</td>\n",
       "      <td>ja</td>\n",
       "      <td>male</td>\n",
       "      <td>neither</td>\n",
       "      <td>08-05-1998</td>\n",
       "      <td>0</td>\n",
       "      <td>no</td>\n",
       "      <td>10</td>\n",
       "      <td>100</td>\n",
       "      <td>7</td>\n",
       "      <td>23:00</td>\n",
       "      <td>Sun</td>\n",
       "      <td>Food</td>\n",
       "    </tr>\n",
       "    <tr>\n",
       "      <th>freq</th>\n",
       "      <td>9</td>\n",
       "      <td>39</td>\n",
       "      <td>185</td>\n",
       "      <td>202</td>\n",
       "      <td>243</td>\n",
       "      <td>158</td>\n",
       "      <td>183</td>\n",
       "      <td>105</td>\n",
       "      <td>3</td>\n",
       "      <td>126</td>\n",
       "      <td>236</td>\n",
       "      <td>22</td>\n",
       "      <td>50</td>\n",
       "      <td>19</td>\n",
       "      <td>21</td>\n",
       "      <td>14</td>\n",
       "      <td>11</td>\n",
       "    </tr>\n",
       "  </tbody>\n",
       "</table>\n",
       "</div>"
      ],
      "text/plain": [
       "              Tijdstempel What programme are you in?  \\\n",
       "count                 304                        304   \n",
       "unique                165                        123   \n",
       "top     4-5-2022 12:16:06                         AI   \n",
       "freq                    9                         39   \n",
       "\n",
       "       Have you taken a course on machine learning?  \\\n",
       "count                                           304   \n",
       "unique                                            3   \n",
       "top                                             yes   \n",
       "freq                                            185   \n",
       "\n",
       "       Have you taken a course on information retrieval?  \\\n",
       "count                                                304   \n",
       "unique                                                 3   \n",
       "top                                                    0   \n",
       "freq                                                 202   \n",
       "\n",
       "       Have you taken a course on statistics?  \\\n",
       "count                                     304   \n",
       "unique                                      3   \n",
       "top                                        mu   \n",
       "freq                                      243   \n",
       "\n",
       "       Have you taken a course on databases? What is your gender?  \\\n",
       "count                                    304                  304   \n",
       "unique                                     3                    5   \n",
       "top                                       ja                 male   \n",
       "freq                                     158                  183   \n",
       "\n",
       "       Chocolate makes you..... When is your birthday (date)?  \\\n",
       "count                       304                           304   \n",
       "unique                        5                           295   \n",
       "top                     neither                    08-05-1998   \n",
       "freq                        105                             3   \n",
       "\n",
       "       Number of neighbors sitting around you? Did you stand up?  \\\n",
       "count                                      304               304   \n",
       "unique                                      30                 3   \n",
       "top                                          0                no   \n",
       "freq                                       126               236   \n",
       "\n",
       "       What is your stress level (0-100)?  \\\n",
       "count                                 304   \n",
       "unique                                 77   \n",
       "top                                    10   \n",
       "freq                                   22   \n",
       "\n",
       "       You can get 100 euros if you win a local DM competition, or we don’t hold any competitions and I give everyone some money (not the same amount!). How much do you think you would deserve then?   \\\n",
       "count                                                 303                                                                                                                                                 \n",
       "unique                                                109                                                                                                                                                 \n",
       "top                                                   100                                                                                                                                                 \n",
       "freq                                                   50                                                                                                                                                 \n",
       "\n",
       "       Give a random number Time you went to be Yesterday  \\\n",
       "count                   304                           302   \n",
       "unique                  142                           177   \n",
       "top                       7                         23:00   \n",
       "freq                     19                            21   \n",
       "\n",
       "       What makes a good day for you (1)? What makes a good day for you (2)?  \n",
       "count                                 304                                304  \n",
       "unique                                201                                235  \n",
       "top                                   Sun                               Food  \n",
       "freq                                   14                                 11  "
      ]
     },
     "execution_count": 192,
     "metadata": {},
     "output_type": "execute_result"
    }
   ],
   "source": [
    "data.describe()"
   ]
  },
  {
   "cell_type": "code",
   "execution_count": 193,
   "id": "371d6089",
   "metadata": {},
   "outputs": [
    {
     "data": {
      "text/plain": [
       "(304, 17)"
      ]
     },
     "execution_count": 193,
     "metadata": {},
     "output_type": "execute_result"
    }
   ],
   "source": [
    "data.shape"
   ]
  },
  {
   "cell_type": "markdown",
   "id": "2a8e7db7",
   "metadata": {},
   "source": [
    "## general observations\n",
    "- 304 records\n",
    "- 17 columns with features"
   ]
  },
  {
   "cell_type": "markdown",
   "id": "5e158839",
   "metadata": {},
   "source": [
    "## rename columns"
   ]
  },
  {
   "cell_type": "code",
   "execution_count": 194,
   "id": "fe9298be",
   "metadata": {},
   "outputs": [],
   "source": [
    "data.columns = [\"timestamp\", \"program\", \"if_ml\", \"if_information\", \"if_statistics\", \"if_databases\", \"gender\",\n",
    "               \"chocolate\", \"birthday\", \"neighbors\", \"standing\", \"stress\", \"winning\", \"random\", \"sleeping\",\n",
    "               \"good_day1\", \"good_day2\"]"
   ]
  },
  {
   "cell_type": "markdown",
   "id": "881e3783",
   "metadata": {},
   "source": [
    "## normalize data"
   ]
  },
  {
   "cell_type": "code",
   "execution_count": 195,
   "id": "fd2d0089",
   "metadata": {},
   "outputs": [
    {
     "name": "stdout",
     "output_type": "stream",
     "text": [
      "['mu' 'unknown' 'sigma']\n",
      "[1 None 0]\n"
     ]
    }
   ],
   "source": [
    "print(data['if_statistics'].unique())\n",
    "data['if_statistics'][data['if_statistics']==\"mu\"] = 1\n",
    "data['if_statistics'][data['if_statistics']==\"sigma\"] = 0\n",
    "data['if_statistics'][data['if_statistics']==\"unknown\"] = None\n",
    "print(data['if_statistics'].unique())"
   ]
  },
  {
   "cell_type": "code",
   "execution_count": 196,
   "id": "9b2cefde",
   "metadata": {},
   "outputs": [
    {
     "name": "stdout",
     "output_type": "stream",
     "text": [
      "['yes' 'no' 'unknown']\n",
      "[1 0 None]\n"
     ]
    }
   ],
   "source": [
    "print(data['if_ml'].unique())\n",
    "data['if_ml'][data['if_ml']==\"yes\"] = 1\n",
    "data['if_ml'][data['if_ml']==\"no\"] = 0\n",
    "data['if_ml'][data['if_ml']==\"unknown\"] = None\n",
    "print(data['if_ml'].unique())"
   ]
  },
  {
   "cell_type": "code",
   "execution_count": 197,
   "id": "7d926b17",
   "metadata": {},
   "outputs": [
    {
     "name": "stdout",
     "output_type": "stream",
     "text": [
      "['nee' 'ja' 'unknown']\n",
      "[0 1 None]\n"
     ]
    }
   ],
   "source": [
    "print(data['if_databases'].unique())\n",
    "data['if_databases'][data['if_databases']==\"nee\"] = 0\n",
    "data['if_databases'][data['if_databases']==\"ja\"] = 1\n",
    "data['if_databases'][data['if_databases']==\"unknown\"] = None\n",
    "print(data['if_databases'].unique())"
   ]
  },
  {
   "cell_type": "code",
   "execution_count": 198,
   "id": "9a1460c4",
   "metadata": {},
   "outputs": [
    {
     "name": "stdout",
     "output_type": "stream",
     "text": [
      "['no' 'yes' 'unknown']\n",
      "[0 1 None]\n"
     ]
    }
   ],
   "source": [
    "print(data['standing'].unique())\n",
    "data['standing'][data['standing']==\"no\"] = 0\n",
    "data['standing'][data['standing']==\"yes\"] = 1\n",
    "data['standing'][data['standing']==\"unknown\"] = None\n",
    "print(data['standing'].unique())"
   ]
  },
  {
   "cell_type": "code",
   "execution_count": 199,
   "id": "6d50edcd",
   "metadata": {},
   "outputs": [
    {
     "name": "stdout",
     "output_type": "stream",
     "text": [
      "['0' '1' 'unknown']\n",
      "['0' '1' None]\n"
     ]
    }
   ],
   "source": [
    "print(data['if_information'].unique())\n",
    "data['if_information'][data['if_information']==\"unknown\"] = None\n",
    "print(data['if_information'].unique())"
   ]
  },
  {
   "cell_type": "markdown",
   "id": "d3c11e80",
   "metadata": {},
   "source": [
    "## Missing values"
   ]
  },
  {
   "cell_type": "code",
   "execution_count": 200,
   "id": "3a9b3b6d",
   "metadata": {},
   "outputs": [
    {
     "data": {
      "text/plain": [
       "timestamp          0\n",
       "program            0\n",
       "if_ml              7\n",
       "if_information    27\n",
       "if_statistics     28\n",
       "if_databases       7\n",
       "gender             0\n",
       "chocolate          0\n",
       "birthday           0\n",
       "neighbors          0\n",
       "standing          26\n",
       "stress             0\n",
       "winning            1\n",
       "random             0\n",
       "sleeping           2\n",
       "good_day1          0\n",
       "good_day2          0\n",
       "dtype: int64"
      ]
     },
     "execution_count": 200,
     "metadata": {},
     "output_type": "execute_result"
    }
   ],
   "source": [
    "data.isna().sum() "
   ]
  },
  {
   "cell_type": "code",
   "execution_count": 201,
   "id": "6dc8b52b",
   "metadata": {},
   "outputs": [
    {
     "data": {
      "text/html": [
       "<div>\n",
       "<style scoped>\n",
       "    .dataframe tbody tr th:only-of-type {\n",
       "        vertical-align: middle;\n",
       "    }\n",
       "\n",
       "    .dataframe tbody tr th {\n",
       "        vertical-align: top;\n",
       "    }\n",
       "\n",
       "    .dataframe thead th {\n",
       "        text-align: right;\n",
       "    }\n",
       "</style>\n",
       "<table border=\"1\" class=\"dataframe\">\n",
       "  <thead>\n",
       "    <tr style=\"text-align: right;\">\n",
       "      <th></th>\n",
       "      <th>timestamp</th>\n",
       "      <th>program</th>\n",
       "      <th>if_ml</th>\n",
       "      <th>if_information</th>\n",
       "      <th>if_statistics</th>\n",
       "      <th>if_databases</th>\n",
       "      <th>gender</th>\n",
       "      <th>chocolate</th>\n",
       "      <th>birthday</th>\n",
       "      <th>neighbors</th>\n",
       "      <th>standing</th>\n",
       "      <th>stress</th>\n",
       "      <th>winning</th>\n",
       "      <th>random</th>\n",
       "      <th>sleeping</th>\n",
       "      <th>good_day1</th>\n",
       "      <th>good_day2</th>\n",
       "    </tr>\n",
       "  </thead>\n",
       "  <tbody>\n",
       "    <tr>\n",
       "      <th>0</th>\n",
       "      <td>4-5-2022 12:12:07</td>\n",
       "      <td>artificial intelligence</td>\n",
       "      <td>1</td>\n",
       "      <td>0</td>\n",
       "      <td>1</td>\n",
       "      <td>0</td>\n",
       "      <td>female</td>\n",
       "      <td>neither</td>\n",
       "      <td>02.05.1998</td>\n",
       "      <td>0</td>\n",
       "      <td>0</td>\n",
       "      <td>0</td>\n",
       "      <td>5</td>\n",
       "      <td>888</td>\n",
       "      <td>23:00</td>\n",
       "      <td>coffee</td>\n",
       "      <td>sun</td>\n",
       "    </tr>\n",
       "    <tr>\n",
       "      <th>1</th>\n",
       "      <td>4-5-2022 12:12:07</td>\n",
       "      <td>big data</td>\n",
       "      <td>1</td>\n",
       "      <td>0</td>\n",
       "      <td>1</td>\n",
       "      <td>0</td>\n",
       "      <td>male</td>\n",
       "      <td>fat</td>\n",
       "      <td>29-02-2000</td>\n",
       "      <td>0</td>\n",
       "      <td>1</td>\n",
       "      <td>200</td>\n",
       "      <td>1</td>\n",
       "      <td>12</td>\n",
       "      <td>32</td>\n",
       "      <td>7777</td>\n",
       "      <td>8964</td>\n",
       "    </tr>\n",
       "    <tr>\n",
       "      <th>2</th>\n",
       "      <td>4-5-2022 12:12:09</td>\n",
       "      <td>Computational  Science</td>\n",
       "      <td>1</td>\n",
       "      <td>1</td>\n",
       "      <td>1</td>\n",
       "      <td>1</td>\n",
       "      <td>male</td>\n",
       "      <td>fat</td>\n",
       "      <td>29-06-1998</td>\n",
       "      <td>1</td>\n",
       "      <td>0</td>\n",
       "      <td>0</td>\n",
       "      <td>100</td>\n",
       "      <td>9</td>\n",
       "      <td>x</td>\n",
       "      <td>0</td>\n",
       "      <td>0</td>\n",
       "    </tr>\n",
       "    <tr>\n",
       "      <th>3</th>\n",
       "      <td>4-5-2022 12:12:09</td>\n",
       "      <td>Bioinformatics and Systems Biology</td>\n",
       "      <td>1</td>\n",
       "      <td>0</td>\n",
       "      <td>None</td>\n",
       "      <td>0</td>\n",
       "      <td>male</td>\n",
       "      <td>neither</td>\n",
       "      <td>11/05/97</td>\n",
       "      <td>0</td>\n",
       "      <td>0</td>\n",
       "      <td>20</td>\n",
       "      <td>100</td>\n",
       "      <td>31</td>\n",
       "      <td>14:00</td>\n",
       "      <td>good food</td>\n",
       "      <td>no stress</td>\n",
       "    </tr>\n",
       "    <tr>\n",
       "      <th>4</th>\n",
       "      <td>4-5-2022 12:12:15</td>\n",
       "      <td>AI</td>\n",
       "      <td>1</td>\n",
       "      <td>1</td>\n",
       "      <td>1</td>\n",
       "      <td>1</td>\n",
       "      <td>male</td>\n",
       "      <td>fat</td>\n",
       "      <td>03-10-1997</td>\n",
       "      <td>0</td>\n",
       "      <td>0</td>\n",
       "      <td>2</td>\n",
       "      <td>100</td>\n",
       "      <td>86</td>\n",
       "      <td>07:20</td>\n",
       "      <td>Sunshine</td>\n",
       "      <td>Good Food</td>\n",
       "    </tr>\n",
       "  </tbody>\n",
       "</table>\n",
       "</div>"
      ],
      "text/plain": [
       "           timestamp                             program if_ml if_information  \\\n",
       "0  4-5-2022 12:12:07             artificial intelligence     1              0   \n",
       "1  4-5-2022 12:12:07                            big data     1              0   \n",
       "2  4-5-2022 12:12:09              Computational  Science     1              1   \n",
       "3  4-5-2022 12:12:09  Bioinformatics and Systems Biology     1              0   \n",
       "4  4-5-2022 12:12:15                                  AI     1              1   \n",
       "\n",
       "  if_statistics if_databases  gender chocolate    birthday neighbors standing  \\\n",
       "0             1            0  female   neither  02.05.1998         0        0   \n",
       "1             1            0    male       fat  29-02-2000         0        1   \n",
       "2             1            1    male       fat  29-06-1998         1        0   \n",
       "3          None            0    male   neither    11/05/97         0        0   \n",
       "4             1            1    male       fat  03-10-1997         0        0   \n",
       "\n",
       "  stress winning random sleeping  good_day1  good_day2  \n",
       "0      0       5    888    23:00     coffee        sun  \n",
       "1    200       1     12       32       7777       8964  \n",
       "2      0     100      9        x          0          0  \n",
       "3     20     100     31    14:00  good food  no stress  \n",
       "4      2     100     86    07:20   Sunshine  Good Food  "
      ]
     },
     "execution_count": 201,
     "metadata": {},
     "output_type": "execute_result"
    }
   ],
   "source": [
    "data.head()"
   ]
  },
  {
   "cell_type": "markdown",
   "id": "4a265bc0",
   "metadata": {},
   "source": [
    "## change data type"
   ]
  },
  {
   "cell_type": "code",
   "execution_count": 202,
   "id": "c0badf62",
   "metadata": {},
   "outputs": [],
   "source": [
    "data['if_ml'] = data['if_ml'].apply(pd.to_numeric)\n",
    "data['if_statistics'] = data['if_statistics'].apply(pd.to_numeric)\n",
    "data['if_information'] = data['if_information'].apply(pd.to_numeric)\n",
    "data['if_databases'] = data['if_databases'].apply(pd.to_numeric)\n",
    "data['standing'] = data['standing'].apply(pd.to_numeric)"
   ]
  },
  {
   "cell_type": "code",
   "execution_count": 203,
   "id": "c808611f",
   "metadata": {},
   "outputs": [
    {
     "data": {
      "text/plain": [
       "timestamp          object\n",
       "program            object\n",
       "if_ml             float64\n",
       "if_information    float64\n",
       "if_statistics     float64\n",
       "if_databases      float64\n",
       "gender             object\n",
       "chocolate          object\n",
       "birthday           object\n",
       "neighbors          object\n",
       "standing          float64\n",
       "stress             object\n",
       "winning            object\n",
       "random             object\n",
       "sleeping           object\n",
       "good_day1          object\n",
       "good_day2          object\n",
       "dtype: object"
      ]
     },
     "execution_count": 203,
     "metadata": {},
     "output_type": "execute_result"
    }
   ],
   "source": [
    "data.dtypes"
   ]
  },
  {
   "cell_type": "markdown",
   "id": "ec48c9fd",
   "metadata": {},
   "source": [
    "## messy data"
   ]
  },
  {
   "cell_type": "code",
   "execution_count": 204,
   "id": "c0782ce4",
   "metadata": {},
   "outputs": [
    {
     "data": {
      "text/plain": [
       "array(['5', '1', '100', '1000', '0.1', '10', '100 / the number of people',\n",
       "       '87', '1/n', '0', 'at least 10', '5€', '55',\n",
       "       'The price of Febo kroketje', '99', '30', '0,5', 'A lot', '20',\n",
       "       '2', '1 cent', '200', '0.60', '77', '5 euros :))', 'Billion',\n",
       "       '10 cents', '100/100', '80', '50 euros', '28052', '69',\n",
       "       'An appropriate amount', '3.50', '(100/627)~0.157', 'a lot',\n",
       "       'I prefer not holding competitions and receiving money everone',\n",
       "       '1000000', '12', '1 million euros', '50', '500', '100000',\n",
       "       'You don’t owe me anything ', '100/n', '70', '24.99', '100 euros',\n",
       "       '7', '25', '10eur', '66', '69,69', 'I deserve everything', '0.6',\n",
       "       '0.10', '0.16', 'What?', 'IDK', '0.15', '23', '35',\n",
       "       '100/#people taking the course', '88', '0,00006',\n",
       "       'At least half 😎', '0,16', '6', '0.50', '60', '0.16 ', nan,\n",
       "       '10 euros', '6 cents', 'equal', '40', '-',\n",
       "       'If I win the the competition I feel like I deserve the total amount. Otherwise 1/the group',\n",
       "       '3', '0.5', '100/624=0.16', '4,2', '-2', '125', '33', '0.20',\n",
       "       '0,2', '13', '0.25€', 'Definately',\n",
       "       '100 euros divided over 600 students. 0.6 euros',\n",
       "       '5 euro to buy previously mentioned chocolate', '0.25 cents',\n",
       "       '110', '1 euro', '8', 'yo', '85', '75', '2.5',\n",
       "       \"i don't understand\", '15', \"I don't understand the question\",\n",
       "       'Sixty at least', '0.4€',\n",
       "       '100/n (n=number of Data-Mining students)', '98', '101',\n",
       "       'I will pretend to be a communist, 100/600',\n",
       "       'More than the even share'], dtype=object)"
      ]
     },
     "execution_count": 204,
     "metadata": {},
     "output_type": "execute_result"
    }
   ],
   "source": [
    "data['winning'].unique()"
   ]
  },
  {
   "cell_type": "code",
   "execution_count": 205,
   "id": "c546dd5f",
   "metadata": {},
   "outputs": [
    {
     "data": {
      "text/plain": [
       "array(['0', '200', '20', '2', '48', '100', '50', '60', '5000', '65', '70',\n",
       "       'over 9000', '98', '34', '15', '1000', '10', '90', '1', '56', '69',\n",
       "       '79', '33', '80', '40', '45', '7', '101', '5', '88', '75', '99',\n",
       "       '30', '999', '1E+22', '42', '61', '89', 'yes.', '150', 'Over 9000',\n",
       "       '44', '3', 'Next question', '14', 'yes', '68', '22', '-69', '47',\n",
       "       '36', '12', '85', '55', '23', '7.5', '11', '59', '25', '37', '102',\n",
       "       '29', '72', '77', '32', '81', '-100', '19', '66', '87', '45.8',\n",
       "       'Fifty', '38', 'private matters', '62', '9', '666'], dtype=object)"
      ]
     },
     "execution_count": 205,
     "metadata": {},
     "output_type": "execute_result"
    }
   ],
   "source": [
    "data['stress'].unique()"
   ]
  },
  {
   "cell_type": "code",
   "execution_count": 206,
   "id": "ca331292",
   "metadata": {},
   "outputs": [
    {
     "data": {
      "text/plain": [
       "array(['888', '12', '9', '31', '86', '87', '6', '50', '42', '88', '1',\n",
       "       '56', '7', '8', '420', '22', '17', '0', '800039995', '72', '27',\n",
       "       '6.98', '11', '3.14', '32', '1278946', '651', '24', '2500', '-1',\n",
       "       '1946', '36', '666', '765', '3', '81', '109', '4444', '94', '9999',\n",
       "       '401', '19', '77', '69', '864687452', '280', '67', '2', '33',\n",
       "       '8271', '4', '365', '5', '41', '73',\n",
       "       '029384750928347509832475908347529803475982347598237459802374980572349805723489573298576893475983274598723498572349805738904759082345702345897349857',\n",
       "       '980000000000000789', '432', '100', '10.3', '14', '3645',\n",
       "       '987654321', 'Π', '227', '247', '57',\n",
       "       '73553801531488322931570535984775796225797789', '94736253',\n",
       "       '1947271047294720^10204847', '13', '97', '25', '567', '58', '23',\n",
       "       '43', 'No', '21', '5813', '7823', '47', '76853', '7,66789E+13',\n",
       "       '83', '60', 'omega', '10', '4.34', '68', '651893', '9462648',\n",
       "       '521', '9664367943217790643378', '2230', '163', 'e', '18', '37',\n",
       "       '56799', '55', '66',\n",
       "       '54.727.163.638.182.600.000.000.000.000.000.000.000', '96274374',\n",
       "       '78945', '7654321', '80', '198956654894562566469615', '5792',\n",
       "       '172', '9,13747E+12', '11223344556677889900', '29', '361',\n",
       "       '4729264827364547292736464629', 'sqrt(687458.9665)', '122',\n",
       "       '6,96788E+14', '∞', '333', '34567', '6665437996',\n",
       "       'dont tell me what to do', '83947', '53', '487', '47895734', '893',\n",
       "       '99', '30', '548293748291457322680525896237', '235236236',\n",
       "       '222.223', '626', '69420', '6969', '375', '007', '-34,67', '75',\n",
       "       '123', '789458455584851844184'], dtype=object)"
      ]
     },
     "execution_count": 206,
     "metadata": {},
     "output_type": "execute_result"
    }
   ],
   "source": [
    "data['random'].unique()"
   ]
  },
  {
   "cell_type": "code",
   "execution_count": 207,
   "id": "faa8b7b0",
   "metadata": {},
   "outputs": [
    {
     "data": {
      "text/plain": [
       "array(['0', '1', '5', '-4', '11', '3', '2', '20', '666', '7', '45', '4',\n",
       "       '6', 'sigma', '-2', 'a couple', '250', 'many', '300',\n",
       "       'Master & Margarita', '8', '978000', 'Zero', '>600', '128',\n",
       "       'Im in the web', '12', 'Quattro', 'zero', '9'], dtype=object)"
      ]
     },
     "execution_count": 207,
     "metadata": {},
     "output_type": "execute_result"
    }
   ],
   "source": [
    "data['neighbors'].unique()"
   ]
  },
  {
   "cell_type": "code",
   "execution_count": 208,
   "id": "36e87a6f",
   "metadata": {},
   "outputs": [
    {
     "data": {
      "text/plain": [
       "array(['coffee', '7777', '0', 'good food', 'Sunshine', 'This lecture',\n",
       "       'sunshine', 'Rainy Day', 'Food', 'sun, friends and wine', 'Coffee',\n",
       "       'sun', 'drugs', 'Good sleep', 'Good mental state.', '6', 'food',\n",
       "       'Having a fun lecture', 'Flat white', 'Friends', 'Happy',\n",
       "       'See you smile', 'Having my favorite meal :)', 'Head',\n",
       "       'A good balance between productivity and rest', 'Movies',\n",
       "       'Good food', 'Sunnnn', 'alcohol', 'Datamining', 'Weather', 'Sex',\n",
       "       '1', 'Working hard', 'Beer', 'good night of sleep', 'Good weather',\n",
       "       'Saturday', 'Seeing Friends', 'Satisfaction', '2', 'Chocolate',\n",
       "       'Yes', 'Snacks', 'With family and loved ones', 'Sun', 'Cookies',\n",
       "       'Biking ', 'waking up early', 'Gym', 'whole lotta bread', '420',\n",
       "       'Having a snickers ', 'Free food', 'sleep', 'alive',\n",
       "       'No deadlines/exam', 'waking up ', 'Good food and sports',\n",
       "       'being stoic', 'game', 'Kissing thomas', 'Joy', 'Reading', 'Cake',\n",
       "       'No lectures ', 'Frozen yoghurt', 'Eat food ', 'Chocolate ',\n",
       "       'Passing assignments ', 'no homework', 'Drugs ',\n",
       "       'No complications', 'chocolate', 'Playing', 'Χρεσης',\n",
       "       'Good coffee', 'EDDA grades', 'Surveys', 'no dues',\n",
       "       'delicious food', 'Love 😓', 'Xtc', 'Kafeneion Amsterdam ',\n",
       "       'a nice dinner', 'Fun people', 'Flow state',\n",
       "       'Double fudge brownies', 'Party', 'VIKINGS!', 'Beers', 'Lasagne',\n",
       "       'Food football and sleep', 'Traveling with friends ',\n",
       "       'Nice weather', 'Lack of stress', 'SUNSHINE 😭', 'Pizza', 'Sushi',\n",
       "       'friends', 'music', 'Sun ', 'Sports', '8 hours of sleep ',\n",
       "       'Hours of sleep', 'Spending time with friends', 'Good night',\n",
       "       'coding', 'Sleep', 'Free', 'Laughter', 'Sunny', 'Productive',\n",
       "       'feeling content', 'A nice deep sleep', 'good sleep',\n",
       "       'Get up early', 'Stresslevel', 'A lot of sleep', 'exercise',\n",
       "       'Green', 'weather', 'Good night of sleep', 'SUN',\n",
       "       'Successful debugging', 'Good Sleep', 'Being with friends',\n",
       "       'A dm lecture', 'coffee in the morning', '3', \"I don't know\",\n",
       "       'Applying data mining techniques', 'no class',\n",
       "       'no stress from school', 'my cat purs on me', 'no lecture',\n",
       "       'time for myself', 'socializing', 'Sunny weather', 'Mood',\n",
       "       'blue sky with a shiny sun', 'Sun and park', 'sunshine ',\n",
       "       'Wakker worden naast Lieke', 'No obligations', 'warm weather',\n",
       "       'no work', 'Some love from friends/fam/bf', 'good weather',\n",
       "       'Andrea', 'sleep ', 'Cycling', 'sport', 'Not rain ',\n",
       "       'sleeping long', 'nice weather', 'Doing nothing important',\n",
       "       'No lectures', 'sunlight', 'thuisbezorgd', 'Lots of food',\n",
       "       'Win lottery', 'Workout', 'studying', 'Being productive',\n",
       "       'having a productive day', 'Nice dinner', 'Music',\n",
       "       'Winkel apple pie', 'Wake up late', 'smiles', 'Smile',\n",
       "       'Having coffee', 'Cat', 'insightful things', 'A good sleep',\n",
       "       'breakfast', 'Time with family and friends ',\n",
       "       'Good sleep, good sport', 'do my thing and gym',\n",
       "       'A warm sunny day with no stress', 'good',\n",
       "       'Enough time for relaxing', 'A nice calming Data Mining lecture',\n",
       "       'Lemons', 'having fun', 'Silence', 'Clear skies',\n",
       "       'Ether in the green', 'Come up with a good question',\n",
       "       'A good gym session', 'have enough sleep',\n",
       "       'happiness comes from within, but mental stimulation is always appreciated',\n",
       "       'Quality time spent', 'Sunshi', 'Coffee in the morning', 'no idea',\n",
       "       'Getting work done ', 'Highly productive ', '9', '-'], dtype=object)"
      ]
     },
     "execution_count": 208,
     "metadata": {},
     "output_type": "execute_result"
    }
   ],
   "source": [
    "data['good_day1'].unique()"
   ]
  },
  {
   "cell_type": "code",
   "execution_count": 209,
   "id": "81fa9649",
   "metadata": {},
   "outputs": [
    {
     "data": {
      "text/plain": [
       "array(['sun', '8964', '0', 'no stress', 'Good Food', 'Sun', 'happiness',\n",
       "       'Weekend', 'Relaxation', 'relaxing, watching a show, hockey',\n",
       "       'Not coffee', 'holiday', 'beer', 'Good work', 'A challenge.', '9',\n",
       "       'sleeping', 'Hanging out with my friends', 'tv series',\n",
       "       'good food', 'wind:(', 'Water', 'Faces', 'Monk',\n",
       "       'Getting enough sleep', 'Good weather', 'A good night of sleep',\n",
       "       'Coffee', 'Croissant', 'relax', 'Datamining2', 'sleep', 'Beer',\n",
       "       'Good food', '1', 'Playing volleyball', 'Friends', 'Ajax',\n",
       "       'Nice people around', 'Saturday', 'Nice weather', 'Spare time',\n",
       "       '4', 'beach', 'Clear skies', 'No', 'gym', 'Good grades',\n",
       "       'Being in good health', 'Sleep', 'More beer', \"I don't know \",\n",
       "       'Food', 'Books', 'finishing things for the day', 'good wave check',\n",
       "       'Good coffee', '69', 'Free coffee', 'Chocolate Milk', 'eat',\n",
       "       'awake', 'not rain', 'Good sex', 'eating', '10',\n",
       "       'accepting change', 'beautiful girl', 'Alcohol ', 'More jou',\n",
       "       'Sex', 'Music', 'Pie', 'No assignments ', \"Completed to-do's\",\n",
       "       'Sleep ', 'Passing exams', 'earn money', 'Day off', 'Sport',\n",
       "       'more chocolate', 'Studying ', 'Φετα', 'No class', 'sun x 2',\n",
       "       'friends', 'pasta', 'Challeging works', 'Data mining', 'no school',\n",
       "       'friends company', 'Money', 'More Kafeneion Amsterdam ', 'date',\n",
       "       'Free time', 'the sun', 'being with the people i love', 'Wine',\n",
       "       'Angela', 'Tennis', 'My house not burning down :)',\n",
       "       'deliocious food', 'Movies', 'More lasagne',\n",
       "       'Gym study and drinks', 'Eating with family ',\n",
       "       'Feeling productive', 'Laughter ', 'Spring', 'WFH', 'Anime',\n",
       "       'A smile', 'sex', 'love', 'videogames', 'Rain', 'Meditation',\n",
       "       'no stress about uni', 'Free time ', 'feyenoord winning',\n",
       "       'Fun stuff to do', 'food', 'More Sleep', 'Warmth', 'Vacation',\n",
       "       'good times with friends and family', 'Sports',\n",
       "       'not too much stress', 'Drinking', 'working out in the gym',\n",
       "       'good dinner', 'Sunshine', 'Don’t drink day before', 'Party',\n",
       "       'Social interaction', 'Time to read ', 'good meal', 'Freedom',\n",
       "       'No EDDA', 'Sunday funday', 'no work', 'Low stress level',\n",
       "       'drinks with friends', 'Seeing my girlfriend ', 'Diet on point',\n",
       "       'Eating good food', 'Activity', 'A dm QA', 'beer in the evening',\n",
       "       '2', \"I really don't know\", 'Netflix with girlfriend',\n",
       "       'no homework', 'go to restaurant', 'seeing sun in Netherlands',\n",
       "       'Social interaction ', 'Plan', 'BBQ', 'no home assignment',\n",
       "       'Winning the lottery', 'bouldering', 'productivity', '-',\n",
       "       'Happy moments', 'Weather', 'Knowing i have a spare day',\n",
       "       'Sun and chill', 'fun stuff on the planning',\n",
       "       'Geen ontbijt met Jan', 'Games', 'fun',\n",
       "       'Feeling in tune with yourself and your surroundings',\n",
       "       'not having to get up early', 'My bed', 'DMT', 'Sunlight',\n",
       "       'meeting friends', 'call my mother', 'Feeling good', 'smoke weed',\n",
       "       'Going to the gym', 'free money', 'Talking with friends',\n",
       "       'No responsibility', 'Sunny weather', 'No wind', 'Fun', 'sport',\n",
       "       'Nice whether ', 'Exercise', 'gaming', 'Going out in a sunny day',\n",
       "       'Win lottery again', 'exercise', 'Good people', 'Cookies',\n",
       "       ' progress in the course', 'learning', 'Listening/making music',\n",
       "       'being with friends/family', 'Netflix', 'Neat room', 'Drinks',\n",
       "       'breakfast', 'more smiles', 'Laugh',\n",
       "       'not thinking about tomorrow ', 'Staying with my best friends',\n",
       "       'going outside', 'Good news ', 'Meet friends', 'Good study',\n",
       "       \"lover's kiss\", 'I answered it already', 'drinks',\n",
       "       'Being productive', 'A cool glass of water', 'Lemonade',\n",
       "       'Something to achieve in the day', 'a nice meal', 'Warm weather',\n",
       "       'Chill music', 'Find a solution to the good question',\n",
       "       'Bad weather', 'make progress in anything',\n",
       "       'be healthy, having a growth mindset, mental stimulation (dopamine), exercise (endorphins), hugs (oxytocin), sunlight (serotine)',\n",
       "       'Being more productive ', 'No obligations',\n",
       "       'Hanging out with friends', 'still no idea',\n",
       "       'Doing sports (climbing)', 'Time with friends ', 'Nice food',\n",
       "       'Sleep more than 6 hours ', 'good mood'], dtype=object)"
      ]
     },
     "execution_count": 209,
     "metadata": {},
     "output_type": "execute_result"
    }
   ],
   "source": [
    "data['good_day2'].unique()"
   ]
  },
  {
   "cell_type": "markdown",
   "id": "9728f55a",
   "metadata": {},
   "source": [
    "## Clean this mess"
   ]
  },
  {
   "cell_type": "code",
   "execution_count": 210,
   "id": "ab8d3202",
   "metadata": {},
   "outputs": [],
   "source": [
    "# neighbors\n",
    "data['neighbors'] = pd.to_numeric(data['neighbors'], errors='coerce').astype('Int64')"
   ]
  },
  {
   "cell_type": "code",
   "execution_count": 211,
   "id": "c7c4e396",
   "metadata": {},
   "outputs": [
    {
     "data": {
      "text/plain": [
       "9"
      ]
     },
     "execution_count": 211,
     "metadata": {},
     "output_type": "execute_result"
    }
   ],
   "source": [
    "sum(data['neighbors'].isna())"
   ]
  },
  {
   "cell_type": "code",
   "execution_count": 212,
   "id": "d527ab14",
   "metadata": {},
   "outputs": [],
   "source": [
    "data['neighbors'][data['neighbors']<0] = 0\n",
    "data['neighbors'][data['neighbors']>600] = 600"
   ]
  },
  {
   "cell_type": "code",
   "execution_count": 213,
   "id": "14315edd",
   "metadata": {},
   "outputs": [],
   "source": [
    "tmp_data = data['neighbors'].dropna()\n",
    "mean = int(np.mean(tmp_data))\n",
    "\n",
    "data['neighbors'] = data['neighbors'].fillna(mean)"
   ]
  },
  {
   "cell_type": "code",
   "execution_count": 214,
   "id": "f847b594",
   "metadata": {},
   "outputs": [
    {
     "data": {
      "text/plain": [
       "0"
      ]
     },
     "execution_count": 214,
     "metadata": {},
     "output_type": "execute_result"
    }
   ],
   "source": [
    "sum(data['neighbors'].isna())"
   ]
  },
  {
   "cell_type": "code",
   "execution_count": 58,
   "id": "9e6e69b2",
   "metadata": {},
   "outputs": [
    {
     "data": {
      "text/plain": [
       "array(['888', '12', '9', '31', '86', '87', '6', '50', '42', '88', '1',\n",
       "       '56', '7', '8', '420', '22', '17', '0', '800039995', '72', '27',\n",
       "       '6.98', '11', '3.14', '32', '1278946', '651', '24', '2500', '-1',\n",
       "       '1946', '36', '666', '765', '3', '81', '109', '4444', '94', '9999',\n",
       "       '401', '19', '77', '69', '864687452', '280', '67', '2', '33',\n",
       "       '8271', '4', '365', '5', '41', '73',\n",
       "       '029384750928347509832475908347529803475982347598237459802374980572349805723489573298576893475983274598723498572349805738904759082345702345897349857',\n",
       "       '980000000000000789', '432', '100', '10.3', '14', '3645',\n",
       "       '987654321', 'Π', '227', '247', '57',\n",
       "       '73553801531488322931570535984775796225797789', '94736253',\n",
       "       '1947271047294720^10204847', '13', '97', '25', '567', '58', '23',\n",
       "       '43', 'No', '21', '5813', '7823', '47', '76853', '7,66789E+13',\n",
       "       '83', '60', 'omega', '10', '4.34', '68', '651893', '9462648',\n",
       "       '521', '9664367943217790643378', '2230', '163', 'e', '18', '37',\n",
       "       '56799', '55', '66',\n",
       "       '54.727.163.638.182.600.000.000.000.000.000.000.000', '96274374',\n",
       "       '78945', '7654321', '80', '198956654894562566469615', '5792',\n",
       "       '172', '9,13747E+12', '11223344556677889900', '29', '361',\n",
       "       '4729264827364547292736464629', 'sqrt(687458.9665)', '122',\n",
       "       '6,96788E+14', '∞', '333', '34567', '6665437996',\n",
       "       'dont tell me what to do', '83947', '53', '487', '47895734', '893',\n",
       "       '99', '30', '548293748291457322680525896237', '235236236',\n",
       "       '222.223', '626', '69420', '6969', '375', '007', '-34,67', '75',\n",
       "       '123', '789458455584851844184'], dtype=object)"
      ]
     },
     "execution_count": 58,
     "metadata": {},
     "output_type": "execute_result"
    }
   ],
   "source": [
    "# random\n",
    "data['random'].unique()"
   ]
  },
  {
   "cell_type": "code",
   "execution_count": null,
   "id": "ca0db438",
   "metadata": {},
   "outputs": [],
   "source": []
  },
  {
   "cell_type": "code",
   "execution_count": 29,
   "id": "61b08f42",
   "metadata": {},
   "outputs": [],
   "source": [
    "# stress\n"
   ]
  },
  {
   "cell_type": "code",
   "execution_count": 30,
   "id": "72808a2b",
   "metadata": {},
   "outputs": [],
   "source": [
    "\n",
    "# winning"
   ]
  },
  {
   "cell_type": "code",
   "execution_count": null,
   "id": "ad073205",
   "metadata": {},
   "outputs": [],
   "source": []
  },
  {
   "cell_type": "markdown",
   "id": "e1008d16",
   "metadata": {},
   "source": [
    "### generalize more categorical data to find some insights"
   ]
  },
  {
   "cell_type": "code",
   "execution_count": 31,
   "id": "10ca7e84",
   "metadata": {},
   "outputs": [],
   "source": [
    "# maybe nlp?"
   ]
  },
  {
   "cell_type": "code",
   "execution_count": 32,
   "id": "f8de6b50",
   "metadata": {},
   "outputs": [],
   "source": [
    "# good day 1"
   ]
  },
  {
   "cell_type": "code",
   "execution_count": null,
   "id": "ede013df",
   "metadata": {},
   "outputs": [],
   "source": []
  },
  {
   "cell_type": "code",
   "execution_count": 33,
   "id": "598093bf",
   "metadata": {},
   "outputs": [],
   "source": [
    "# good day 2"
   ]
  },
  {
   "cell_type": "code",
   "execution_count": null,
   "id": "b54527a6",
   "metadata": {},
   "outputs": [],
   "source": []
  },
  {
   "cell_type": "markdown",
   "id": "6d4f4103",
   "metadata": {},
   "source": [
    "## Data visualisation\n",
    "\n",
    "Make various plots of the data. Is there something interesting worth reporting? Re-\n",
    "port the figures, discuss what is in them. What meaning do those bars, lines, dots, etc.\n",
    "convey? Please select essential and interesting plots for discussion, as you have limited\n",
    "space for reporting your findings (see details in a later section)."
   ]
  },
  {
   "cell_type": "code",
   "execution_count": 34,
   "id": "9f1e6d2b",
   "metadata": {},
   "outputs": [
    {
     "data": {
      "text/html": [
       "<div>\n",
       "<style scoped>\n",
       "    .dataframe tbody tr th:only-of-type {\n",
       "        vertical-align: middle;\n",
       "    }\n",
       "\n",
       "    .dataframe tbody tr th {\n",
       "        vertical-align: top;\n",
       "    }\n",
       "\n",
       "    .dataframe thead th {\n",
       "        text-align: right;\n",
       "    }\n",
       "</style>\n",
       "<table border=\"1\" class=\"dataframe\">\n",
       "  <thead>\n",
       "    <tr style=\"text-align: right;\">\n",
       "      <th></th>\n",
       "      <th>timestamp</th>\n",
       "      <th>program</th>\n",
       "      <th>if_ml</th>\n",
       "      <th>if_information</th>\n",
       "      <th>if_statistics</th>\n",
       "      <th>if_databases</th>\n",
       "      <th>gender</th>\n",
       "      <th>chocolate</th>\n",
       "      <th>birthday</th>\n",
       "      <th>neighbors</th>\n",
       "      <th>standing</th>\n",
       "      <th>stress</th>\n",
       "      <th>winning</th>\n",
       "      <th>random</th>\n",
       "      <th>sleeping</th>\n",
       "      <th>good_day1</th>\n",
       "      <th>good_day2</th>\n",
       "    </tr>\n",
       "  </thead>\n",
       "  <tbody>\n",
       "    <tr>\n",
       "      <th>0</th>\n",
       "      <td>4-5-2022 12:12:07</td>\n",
       "      <td>artificial intelligence</td>\n",
       "      <td>1.0</td>\n",
       "      <td>0.0</td>\n",
       "      <td>1.0</td>\n",
       "      <td>0.0</td>\n",
       "      <td>female</td>\n",
       "      <td>neither</td>\n",
       "      <td>02.05.1998</td>\n",
       "      <td>0</td>\n",
       "      <td>0.0</td>\n",
       "      <td>0</td>\n",
       "      <td>5</td>\n",
       "      <td>888</td>\n",
       "      <td>23:00</td>\n",
       "      <td>coffee</td>\n",
       "      <td>sun</td>\n",
       "    </tr>\n",
       "    <tr>\n",
       "      <th>1</th>\n",
       "      <td>4-5-2022 12:12:07</td>\n",
       "      <td>big data</td>\n",
       "      <td>1.0</td>\n",
       "      <td>0.0</td>\n",
       "      <td>1.0</td>\n",
       "      <td>0.0</td>\n",
       "      <td>male</td>\n",
       "      <td>fat</td>\n",
       "      <td>29-02-2000</td>\n",
       "      <td>0</td>\n",
       "      <td>1.0</td>\n",
       "      <td>200</td>\n",
       "      <td>1</td>\n",
       "      <td>12</td>\n",
       "      <td>32</td>\n",
       "      <td>7777</td>\n",
       "      <td>8964</td>\n",
       "    </tr>\n",
       "    <tr>\n",
       "      <th>2</th>\n",
       "      <td>4-5-2022 12:12:09</td>\n",
       "      <td>Computational  Science</td>\n",
       "      <td>1.0</td>\n",
       "      <td>1.0</td>\n",
       "      <td>1.0</td>\n",
       "      <td>1.0</td>\n",
       "      <td>male</td>\n",
       "      <td>fat</td>\n",
       "      <td>29-06-1998</td>\n",
       "      <td>1</td>\n",
       "      <td>0.0</td>\n",
       "      <td>0</td>\n",
       "      <td>100</td>\n",
       "      <td>9</td>\n",
       "      <td>x</td>\n",
       "      <td>0</td>\n",
       "      <td>0</td>\n",
       "    </tr>\n",
       "    <tr>\n",
       "      <th>3</th>\n",
       "      <td>4-5-2022 12:12:09</td>\n",
       "      <td>Bioinformatics and Systems Biology</td>\n",
       "      <td>1.0</td>\n",
       "      <td>0.0</td>\n",
       "      <td>NaN</td>\n",
       "      <td>0.0</td>\n",
       "      <td>male</td>\n",
       "      <td>neither</td>\n",
       "      <td>11/05/97</td>\n",
       "      <td>0</td>\n",
       "      <td>0.0</td>\n",
       "      <td>20</td>\n",
       "      <td>100</td>\n",
       "      <td>31</td>\n",
       "      <td>14:00</td>\n",
       "      <td>good food</td>\n",
       "      <td>no stress</td>\n",
       "    </tr>\n",
       "    <tr>\n",
       "      <th>4</th>\n",
       "      <td>4-5-2022 12:12:15</td>\n",
       "      <td>AI</td>\n",
       "      <td>1.0</td>\n",
       "      <td>1.0</td>\n",
       "      <td>1.0</td>\n",
       "      <td>1.0</td>\n",
       "      <td>male</td>\n",
       "      <td>fat</td>\n",
       "      <td>03-10-1997</td>\n",
       "      <td>0</td>\n",
       "      <td>0.0</td>\n",
       "      <td>2</td>\n",
       "      <td>100</td>\n",
       "      <td>86</td>\n",
       "      <td>07:20</td>\n",
       "      <td>Sunshine</td>\n",
       "      <td>Good Food</td>\n",
       "    </tr>\n",
       "  </tbody>\n",
       "</table>\n",
       "</div>"
      ],
      "text/plain": [
       "           timestamp                             program  if_ml  \\\n",
       "0  4-5-2022 12:12:07             artificial intelligence    1.0   \n",
       "1  4-5-2022 12:12:07                            big data    1.0   \n",
       "2  4-5-2022 12:12:09              Computational  Science    1.0   \n",
       "3  4-5-2022 12:12:09  Bioinformatics and Systems Biology    1.0   \n",
       "4  4-5-2022 12:12:15                                  AI    1.0   \n",
       "\n",
       "   if_information  if_statistics  if_databases  gender chocolate    birthday  \\\n",
       "0             0.0            1.0           0.0  female   neither  02.05.1998   \n",
       "1             0.0            1.0           0.0    male       fat  29-02-2000   \n",
       "2             1.0            1.0           1.0    male       fat  29-06-1998   \n",
       "3             0.0            NaN           0.0    male   neither    11/05/97   \n",
       "4             1.0            1.0           1.0    male       fat  03-10-1997   \n",
       "\n",
       "   neighbors  standing stress winning random sleeping  good_day1  good_day2  \n",
       "0          0       0.0      0       5    888    23:00     coffee        sun  \n",
       "1          0       1.0    200       1     12       32       7777       8964  \n",
       "2          1       0.0      0     100      9        x          0          0  \n",
       "3          0       0.0     20     100     31    14:00  good food  no stress  \n",
       "4          0       0.0      2     100     86    07:20   Sunshine  Good Food  "
      ]
     },
     "execution_count": 34,
     "metadata": {},
     "output_type": "execute_result"
    }
   ],
   "source": [
    "data.head()"
   ]
  },
  {
   "cell_type": "markdown",
   "id": "c98dc7e0",
   "metadata": {},
   "source": [
    "### chocolate"
   ]
  },
  {
   "cell_type": "code",
   "execution_count": 35,
   "id": "deea5c43",
   "metadata": {},
   "outputs": [
    {
     "data": {
      "image/png": "[encoded data removed]",
      "text/plain": [
       "<Figure size 432x288 with 1 Axes>"
      ]
     },
     "metadata": {},
     "output_type": "display_data"
    }
   ],
   "source": [
    "data.groupby('chocolate').size().plot(kind='pie', autopct='%.2f')\n",
    "plt.show()"
   ]
  },
  {
   "cell_type": "markdown",
   "id": "f5759588",
   "metadata": {},
   "source": [
    "### program"
   ]
  },
  {
   "cell_type": "code",
   "execution_count": 36,
   "id": "9c11010e",
   "metadata": {},
   "outputs": [
    {
     "data": {
      "image/png": "[encoded data removed]",
      "text/plain": [
       "<Figure size 432x288 with 1 Axes>"
      ]
     },
     "metadata": {},
     "output_type": "display_data"
    }
   ],
   "source": [
    "data.groupby('program').size().plot(kind='pie', autopct='%.2f')\n",
    "plt.show()"
   ]
  },
  {
   "cell_type": "markdown",
   "id": "780163f3",
   "metadata": {},
   "source": [
    "## gender"
   ]
  },
  {
   "cell_type": "code",
   "execution_count": 37,
   "id": "6dcd781b",
   "metadata": {},
   "outputs": [
    {
     "data": {
      "image/png": "[encoded data removed]",
      "text/plain": [
       "<Figure size 432x288 with 1 Axes>"
      ]
     },
     "metadata": {},
     "output_type": "display_data"
    }
   ],
   "source": [
    "data.groupby('gender').size().plot(kind='pie', autopct='%.2f')\n",
    "plt.show()"
   ]
  },
  {
   "cell_type": "markdown",
   "id": "40c8cf42",
   "metadata": {},
   "source": [
    "## if statistics"
   ]
  },
  {
   "cell_type": "code",
   "execution_count": 38,
   "id": "3b57d9b5",
   "metadata": {},
   "outputs": [
    {
     "data": {
      "text/plain": [
       "<AxesSubplot:>"
      ]
     },
     "execution_count": 38,
     "metadata": {},
     "output_type": "execute_result"
    },
    {
     "data": {
      "image/png": "[encoded data removed]",
      "text/plain": [
       "<Figure size 432x288 with 1 Axes>"
      ]
     },
     "metadata": {
      "needs_background": "light"
     },
     "output_type": "display_data"
    }
   ],
   "source": [
    "data['if_statistics'].value_counts().plot(kind='bar', color=\"orange\")"
   ]
  },
  {
   "cell_type": "markdown",
   "id": "c3f48475",
   "metadata": {},
   "source": [
    "## if database course"
   ]
  },
  {
   "cell_type": "code",
   "execution_count": 39,
   "id": "6d3e9431",
   "metadata": {},
   "outputs": [
    {
     "data": {
      "text/plain": [
       "<AxesSubplot:>"
      ]
     },
     "execution_count": 39,
     "metadata": {},
     "output_type": "execute_result"
    },
    {
     "data": {
      "image/png": "[encoded data removed]",
      "text/plain": [
       "<Figure size 432x288 with 1 Axes>"
      ]
     },
     "metadata": {
      "needs_background": "light"
     },
     "output_type": "display_data"
    }
   ],
   "source": [
    "data['if_databases'].value_counts().plot(kind='bar', color=\"darkgreen\")"
   ]
  },
  {
   "cell_type": "code",
   "execution_count": null,
   "id": "16420160",
   "metadata": {},
   "outputs": [],
   "source": []
  },
  {
   "cell_type": "code",
   "execution_count": null,
   "id": "1c12ba35",
   "metadata": {},
   "outputs": [],
   "source": []
  },
  {
   "cell_type": "code",
   "execution_count": null,
   "id": "f534d11c",
   "metadata": {},
   "outputs": [],
   "source": []
  },
  {
   "cell_type": "markdown",
   "id": "6e105455",
   "metadata": {},
   "source": [
    "## relationships between attributes"
   ]
  },
  {
   "cell_type": "code",
   "execution_count": null,
   "id": "311593c3",
   "metadata": {},
   "outputs": [],
   "source": []
  },
  {
   "cell_type": "code",
   "execution_count": null,
   "id": "88773892",
   "metadata": {},
   "outputs": [],
   "source": []
  },
  {
   "cell_type": "code",
   "execution_count": null,
   "id": "d3c2918f",
   "metadata": {},
   "outputs": [],
   "source": []
  },
  {
   "cell_type": "code",
   "execution_count": null,
   "id": "bbee382e",
   "metadata": {},
   "outputs": [],
   "source": []
  },
  {
   "cell_type": "code",
   "execution_count": null,
   "id": "870fd390",
   "metadata": {},
   "outputs": [],
   "source": []
  }
 ],
 "metadata": {
  "kernelspec": {
   "display_name": "Python 3 (ipykernel)",
   "language": "python",
   "name": "python3"
  },
  "language_info": {
   "codemirror_mode": {
    "name": "ipython",
    "version": 3
   },
   "file_extension": ".py",
   "mimetype": "text/x-python",
   "name": "python",
   "nbconvert_exporter": "python",
   "pygments_lexer": "ipython3",
   "version": "3.9.5"
  }
 },
 "nbformat": 4,
 "nbformat_minor": 5
}
