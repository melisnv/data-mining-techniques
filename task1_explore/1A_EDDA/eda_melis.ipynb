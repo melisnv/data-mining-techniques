{
 "cells": [
  {
   "cell_type": "markdown",
   "metadata": {},
   "source": [
    "# TASK 1: EXPLORE  A SMALL  DATASET\n",
    "\n",
    "    When you do **data mining** (DM), you will need to check for data quality, manipulate data, as well as to build and evaluate models. In this first assignment, the aim is that you get familiar with your chosen DM software. You should learn to use it on a basic level, and carry out elementary DM tasks, so you will be prepared to take on more challenging ones coming to you in the form of subsequent assignments.\n",
    "    \n",
    "## TASK 1A: EXPLORATION \n"
   ]
  },
  {
   "cell_type": "code",
   "execution_count": 1,
   "metadata": {},
   "outputs": [],
   "source": [
    "import pandas as pd\n",
    "import numpy as np\n",
    "import matplotlib.pyplot as plt\n",
    "import seaborn as sns\n",
    "%matplotlib inline\n",
    "import missingno as msno\n",
    "from sklearn.preprocessing import StandardScaler\n",
    "\n",
    "import warnings\n",
    "warnings.filterwarnings('ignore')\n",
    "from decimal import Decimal\n"
   ]
  },
  {
   "cell_type": "code",
   "execution_count": 2,
   "metadata": {},
   "outputs": [
    {
     "data": {
      "text/html": [
       "<div>\n",
       "<style scoped>\n",
       "    .dataframe tbody tr th:only-of-type {\n",
       "        vertical-align: middle;\n",
       "    }\n",
       "\n",
       "    .dataframe tbody tr th {\n",
       "        vertical-align: top;\n",
       "    }\n",
       "\n",
       "    .dataframe thead th {\n",
       "        text-align: right;\n",
       "    }\n",
       "</style>\n",
       "<table border=\"1\" class=\"dataframe\">\n",
       "  <thead>\n",
       "    <tr style=\"text-align: right;\">\n",
       "      <th></th>\n",
       "      <th>Tijdstempel</th>\n",
       "      <th>What programme are you in?</th>\n",
       "      <th>Have you taken a course on machine learning?</th>\n",
       "      <th>Have you taken a course on information retrieval?</th>\n",
       "      <th>Have you taken a course on statistics?</th>\n",
       "      <th>Have you taken a course on databases?</th>\n",
       "      <th>What is your gender?</th>\n",
       "      <th>Chocolate makes you.....</th>\n",
       "      <th>When is your birthday (date)?</th>\n",
       "      <th>Number of neighbors sitting around you?</th>\n",
       "      <th>Did you stand up?</th>\n",
       "      <th>What is your stress level (0-100)?</th>\n",
       "      <th>You can get 100 euros if you win a local DM competition, or we don’t hold any competitions and I give everyone some money (not the same amount!). How much do you think you would deserve then?</th>\n",
       "      <th>Give a random number</th>\n",
       "      <th>Time you went to be Yesterday</th>\n",
       "      <th>What makes a good day for you (1)?</th>\n",
       "      <th>What makes a good day for you (2)?</th>\n",
       "    </tr>\n",
       "  </thead>\n",
       "  <tbody>\n",
       "    <tr>\n",
       "      <th>0</th>\n",
       "      <td>4-5-2022 12:12:07</td>\n",
       "      <td>artificial intelligence</td>\n",
       "      <td>yes</td>\n",
       "      <td>0</td>\n",
       "      <td>mu</td>\n",
       "      <td>nee</td>\n",
       "      <td>female</td>\n",
       "      <td>neither</td>\n",
       "      <td>02.05.1998</td>\n",
       "      <td>0</td>\n",
       "      <td>no</td>\n",
       "      <td>0</td>\n",
       "      <td>5</td>\n",
       "      <td>888</td>\n",
       "      <td>23:00</td>\n",
       "      <td>coffee</td>\n",
       "      <td>sun</td>\n",
       "    </tr>\n",
       "    <tr>\n",
       "      <th>1</th>\n",
       "      <td>4-5-2022 12:12:07</td>\n",
       "      <td>big data</td>\n",
       "      <td>yes</td>\n",
       "      <td>0</td>\n",
       "      <td>mu</td>\n",
       "      <td>nee</td>\n",
       "      <td>male</td>\n",
       "      <td>fat</td>\n",
       "      <td>29-02-2000</td>\n",
       "      <td>0</td>\n",
       "      <td>yes</td>\n",
       "      <td>200</td>\n",
       "      <td>1</td>\n",
       "      <td>12</td>\n",
       "      <td>32</td>\n",
       "      <td>7777</td>\n",
       "      <td>8964</td>\n",
       "    </tr>\n",
       "    <tr>\n",
       "      <th>2</th>\n",
       "      <td>4-5-2022 12:12:09</td>\n",
       "      <td>Computational  Science</td>\n",
       "      <td>yes</td>\n",
       "      <td>1</td>\n",
       "      <td>mu</td>\n",
       "      <td>ja</td>\n",
       "      <td>male</td>\n",
       "      <td>fat</td>\n",
       "      <td>29-06-1998</td>\n",
       "      <td>1</td>\n",
       "      <td>no</td>\n",
       "      <td>0</td>\n",
       "      <td>100</td>\n",
       "      <td>9</td>\n",
       "      <td>x</td>\n",
       "      <td>0</td>\n",
       "      <td>0</td>\n",
       "    </tr>\n",
       "    <tr>\n",
       "      <th>3</th>\n",
       "      <td>4-5-2022 12:12:09</td>\n",
       "      <td>Bioinformatics and Systems Biology</td>\n",
       "      <td>yes</td>\n",
       "      <td>0</td>\n",
       "      <td>unknown</td>\n",
       "      <td>nee</td>\n",
       "      <td>male</td>\n",
       "      <td>neither</td>\n",
       "      <td>11/05/97</td>\n",
       "      <td>0</td>\n",
       "      <td>no</td>\n",
       "      <td>20</td>\n",
       "      <td>100</td>\n",
       "      <td>31</td>\n",
       "      <td>14:00</td>\n",
       "      <td>good food</td>\n",
       "      <td>no stress</td>\n",
       "    </tr>\n",
       "    <tr>\n",
       "      <th>4</th>\n",
       "      <td>4-5-2022 12:12:15</td>\n",
       "      <td>AI</td>\n",
       "      <td>yes</td>\n",
       "      <td>1</td>\n",
       "      <td>mu</td>\n",
       "      <td>ja</td>\n",
       "      <td>male</td>\n",
       "      <td>fat</td>\n",
       "      <td>03-10-1997</td>\n",
       "      <td>0</td>\n",
       "      <td>no</td>\n",
       "      <td>2</td>\n",
       "      <td>100</td>\n",
       "      <td>86</td>\n",
       "      <td>07:20</td>\n",
       "      <td>Sunshine</td>\n",
       "      <td>Good Food</td>\n",
       "    </tr>\n",
       "  </tbody>\n",
       "</table>\n",
       "</div>"
      ],
      "text/plain": [
       "         Tijdstempel          What programme are you in?  \\\n",
       "0  4-5-2022 12:12:07             artificial intelligence   \n",
       "1  4-5-2022 12:12:07                            big data   \n",
       "2  4-5-2022 12:12:09              Computational  Science   \n",
       "3  4-5-2022 12:12:09  Bioinformatics and Systems Biology   \n",
       "4  4-5-2022 12:12:15                                  AI   \n",
       "\n",
       "  Have you taken a course on machine learning?  \\\n",
       "0                                          yes   \n",
       "1                                          yes   \n",
       "2                                          yes   \n",
       "3                                          yes   \n",
       "4                                          yes   \n",
       "\n",
       "  Have you taken a course on information retrieval?  \\\n",
       "0                                                 0   \n",
       "1                                                 0   \n",
       "2                                                 1   \n",
       "3                                                 0   \n",
       "4                                                 1   \n",
       "\n",
       "  Have you taken a course on statistics?  \\\n",
       "0                                     mu   \n",
       "1                                     mu   \n",
       "2                                     mu   \n",
       "3                                unknown   \n",
       "4                                     mu   \n",
       "\n",
       "  Have you taken a course on databases? What is your gender?  \\\n",
       "0                                   nee               female   \n",
       "1                                   nee                 male   \n",
       "2                                    ja                 male   \n",
       "3                                   nee                 male   \n",
       "4                                    ja                 male   \n",
       "\n",
       "  Chocolate makes you..... When is your birthday (date)?  \\\n",
       "0                  neither                    02.05.1998   \n",
       "1                      fat                    29-02-2000   \n",
       "2                      fat                    29-06-1998   \n",
       "3                  neither                      11/05/97   \n",
       "4                      fat                    03-10-1997   \n",
       "\n",
       "  Number of neighbors sitting around you? Did you stand up?  \\\n",
       "0                                       0                no   \n",
       "1                                       0               yes   \n",
       "2                                       1                no   \n",
       "3                                       0                no   \n",
       "4                                       0                no   \n",
       "\n",
       "  What is your stress level (0-100)?  \\\n",
       "0                                  0   \n",
       "1                                200   \n",
       "2                                  0   \n",
       "3                                 20   \n",
       "4                                  2   \n",
       "\n",
       "  You can get 100 euros if you win a local DM competition, or we don’t hold any competitions and I give everyone some money (not the same amount!). How much do you think you would deserve then?   \\\n",
       "0                                                  5                                                                                                                                                 \n",
       "1                                                  1                                                                                                                                                 \n",
       "2                                                100                                                                                                                                                 \n",
       "3                                                100                                                                                                                                                 \n",
       "4                                                100                                                                                                                                                 \n",
       "\n",
       "  Give a random number Time you went to be Yesterday  \\\n",
       "0                  888                         23:00   \n",
       "1                   12                            32   \n",
       "2                    9                             x   \n",
       "3                   31                         14:00   \n",
       "4                   86                         07:20   \n",
       "\n",
       "  What makes a good day for you (1)? What makes a good day for you (2)?  \n",
       "0                             coffee                                sun  \n",
       "1                               7777                               8964  \n",
       "2                                  0                                  0  \n",
       "3                          good food                          no stress  \n",
       "4                           Sunshine                          Good Food  "
      ]
     },
     "execution_count": 2,
     "metadata": {},
     "output_type": "execute_result"
    }
   ],
   "source": [
    "data = pd.read_csv(\"teacher_data/ODI-2022.csv\",sep=';')\n",
    "data.head()"
   ]
  },
  {
   "cell_type": "code",
   "execution_count": 3,
   "metadata": {},
   "outputs": [
    {
     "name": "stdout",
     "output_type": "stream",
     "text": [
      "<class 'pandas.core.frame.DataFrame'>\n",
      "RangeIndex: 304 entries, 0 to 303\n",
      "Data columns (total 17 columns):\n",
      " #   Column                                                                                                                                                                                            Non-Null Count  Dtype \n",
      "---  ------                                                                                                                                                                                            --------------  ----- \n",
      " 0   Tijdstempel                                                                                                                                                                                       304 non-null    object\n",
      " 1   What programme are you in?                                                                                                                                                                        304 non-null    object\n",
      " 2   Have you taken a course on machine learning?                                                                                                                                                      304 non-null    object\n",
      " 3   Have you taken a course on information retrieval?                                                                                                                                                 304 non-null    object\n",
      " 4   Have you taken a course on statistics?                                                                                                                                                            304 non-null    object\n",
      " 5   Have you taken a course on databases?                                                                                                                                                             304 non-null    object\n",
      " 6   What is your gender?                                                                                                                                                                              304 non-null    object\n",
      " 7   Chocolate makes you.....                                                                                                                                                                          304 non-null    object\n",
      " 8   When is your birthday (date)?                                                                                                                                                                     304 non-null    object\n",
      " 9   Number of neighbors sitting around you?                                                                                                                                                           304 non-null    object\n",
      " 10  Did you stand up?                                                                                                                                                                                 304 non-null    object\n",
      " 11  What is your stress level (0-100)?                                                                                                                                                                304 non-null    object\n",
      " 12  You can get 100 euros if you win a local DM competition, or we don’t hold any competitions and I give everyone some money (not the same amount!). How much do you think you would deserve then?   303 non-null    object\n",
      " 13  Give a random number                                                                                                                                                                              304 non-null    object\n",
      " 14  Time you went to be Yesterday                                                                                                                                                                     302 non-null    object\n",
      " 15  What makes a good day for you (1)?                                                                                                                                                                304 non-null    object\n",
      " 16  What makes a good day for you (2)?                                                                                                                                                                304 non-null    object\n",
      "dtypes: object(17)\n",
      "memory usage: 40.5+ KB\n"
     ]
    }
   ],
   "source": [
    "data.info()"
   ]
  },
  {
   "cell_type": "code",
   "execution_count": 4,
   "metadata": {},
   "outputs": [
    {
     "data": {
      "text/html": [
       "<div>\n",
       "<style scoped>\n",
       "    .dataframe tbody tr th:only-of-type {\n",
       "        vertical-align: middle;\n",
       "    }\n",
       "\n",
       "    .dataframe tbody tr th {\n",
       "        vertical-align: top;\n",
       "    }\n",
       "\n",
       "    .dataframe thead th {\n",
       "        text-align: right;\n",
       "    }\n",
       "</style>\n",
       "<table border=\"1\" class=\"dataframe\">\n",
       "  <thead>\n",
       "    <tr style=\"text-align: right;\">\n",
       "      <th></th>\n",
       "      <th>Tijdstempel</th>\n",
       "      <th>What programme are you in?</th>\n",
       "      <th>Have you taken a course on machine learning?</th>\n",
       "      <th>Have you taken a course on information retrieval?</th>\n",
       "      <th>Have you taken a course on statistics?</th>\n",
       "      <th>Have you taken a course on databases?</th>\n",
       "      <th>What is your gender?</th>\n",
       "      <th>Chocolate makes you.....</th>\n",
       "      <th>When is your birthday (date)?</th>\n",
       "      <th>Number of neighbors sitting around you?</th>\n",
       "      <th>Did you stand up?</th>\n",
       "      <th>What is your stress level (0-100)?</th>\n",
       "      <th>You can get 100 euros if you win a local DM competition, or we don’t hold any competitions and I give everyone some money (not the same amount!). How much do you think you would deserve then?</th>\n",
       "      <th>Give a random number</th>\n",
       "      <th>Time you went to be Yesterday</th>\n",
       "      <th>What makes a good day for you (1)?</th>\n",
       "      <th>What makes a good day for you (2)?</th>\n",
       "    </tr>\n",
       "  </thead>\n",
       "  <tbody>\n",
       "    <tr>\n",
       "      <th>count</th>\n",
       "      <td>304</td>\n",
       "      <td>304</td>\n",
       "      <td>304</td>\n",
       "      <td>304</td>\n",
       "      <td>304</td>\n",
       "      <td>304</td>\n",
       "      <td>304</td>\n",
       "      <td>304</td>\n",
       "      <td>304</td>\n",
       "      <td>304</td>\n",
       "      <td>304</td>\n",
       "      <td>304</td>\n",
       "      <td>303</td>\n",
       "      <td>304</td>\n",
       "      <td>302</td>\n",
       "      <td>304</td>\n",
       "      <td>304</td>\n",
       "    </tr>\n",
       "    <tr>\n",
       "      <th>unique</th>\n",
       "      <td>165</td>\n",
       "      <td>123</td>\n",
       "      <td>3</td>\n",
       "      <td>3</td>\n",
       "      <td>3</td>\n",
       "      <td>3</td>\n",
       "      <td>5</td>\n",
       "      <td>5</td>\n",
       "      <td>295</td>\n",
       "      <td>30</td>\n",
       "      <td>3</td>\n",
       "      <td>77</td>\n",
       "      <td>109</td>\n",
       "      <td>142</td>\n",
       "      <td>177</td>\n",
       "      <td>201</td>\n",
       "      <td>235</td>\n",
       "    </tr>\n",
       "    <tr>\n",
       "      <th>top</th>\n",
       "      <td>4-5-2022 12:16:06</td>\n",
       "      <td>AI</td>\n",
       "      <td>yes</td>\n",
       "      <td>0</td>\n",
       "      <td>mu</td>\n",
       "      <td>ja</td>\n",
       "      <td>male</td>\n",
       "      <td>neither</td>\n",
       "      <td>08-05-1998</td>\n",
       "      <td>0</td>\n",
       "      <td>no</td>\n",
       "      <td>10</td>\n",
       "      <td>100</td>\n",
       "      <td>7</td>\n",
       "      <td>23:00</td>\n",
       "      <td>Sun</td>\n",
       "      <td>Food</td>\n",
       "    </tr>\n",
       "    <tr>\n",
       "      <th>freq</th>\n",
       "      <td>9</td>\n",
       "      <td>39</td>\n",
       "      <td>185</td>\n",
       "      <td>202</td>\n",
       "      <td>243</td>\n",
       "      <td>158</td>\n",
       "      <td>183</td>\n",
       "      <td>105</td>\n",
       "      <td>3</td>\n",
       "      <td>126</td>\n",
       "      <td>236</td>\n",
       "      <td>22</td>\n",
       "      <td>50</td>\n",
       "      <td>19</td>\n",
       "      <td>21</td>\n",
       "      <td>14</td>\n",
       "      <td>11</td>\n",
       "    </tr>\n",
       "  </tbody>\n",
       "</table>\n",
       "</div>"
      ],
      "text/plain": [
       "              Tijdstempel What programme are you in?  \\\n",
       "count                 304                        304   \n",
       "unique                165                        123   \n",
       "top     4-5-2022 12:16:06                         AI   \n",
       "freq                    9                         39   \n",
       "\n",
       "       Have you taken a course on machine learning?  \\\n",
       "count                                           304   \n",
       "unique                                            3   \n",
       "top                                             yes   \n",
       "freq                                            185   \n",
       "\n",
       "       Have you taken a course on information retrieval?  \\\n",
       "count                                                304   \n",
       "unique                                                 3   \n",
       "top                                                    0   \n",
       "freq                                                 202   \n",
       "\n",
       "       Have you taken a course on statistics?  \\\n",
       "count                                     304   \n",
       "unique                                      3   \n",
       "top                                        mu   \n",
       "freq                                      243   \n",
       "\n",
       "       Have you taken a course on databases? What is your gender?  \\\n",
       "count                                    304                  304   \n",
       "unique                                     3                    5   \n",
       "top                                       ja                 male   \n",
       "freq                                     158                  183   \n",
       "\n",
       "       Chocolate makes you..... When is your birthday (date)?  \\\n",
       "count                       304                           304   \n",
       "unique                        5                           295   \n",
       "top                     neither                    08-05-1998   \n",
       "freq                        105                             3   \n",
       "\n",
       "       Number of neighbors sitting around you? Did you stand up?  \\\n",
       "count                                      304               304   \n",
       "unique                                      30                 3   \n",
       "top                                          0                no   \n",
       "freq                                       126               236   \n",
       "\n",
       "       What is your stress level (0-100)?  \\\n",
       "count                                 304   \n",
       "unique                                 77   \n",
       "top                                    10   \n",
       "freq                                   22   \n",
       "\n",
       "       You can get 100 euros if you win a local DM competition, or we don’t hold any competitions and I give everyone some money (not the same amount!). How much do you think you would deserve then?   \\\n",
       "count                                                 303                                                                                                                                                 \n",
       "unique                                                109                                                                                                                                                 \n",
       "top                                                   100                                                                                                                                                 \n",
       "freq                                                   50                                                                                                                                                 \n",
       "\n",
       "       Give a random number Time you went to be Yesterday  \\\n",
       "count                   304                           302   \n",
       "unique                  142                           177   \n",
       "top                       7                         23:00   \n",
       "freq                     19                            21   \n",
       "\n",
       "       What makes a good day for you (1)? What makes a good day for you (2)?  \n",
       "count                                 304                                304  \n",
       "unique                                201                                235  \n",
       "top                                   Sun                               Food  \n",
       "freq                                   14                                 11  "
      ]
     },
     "execution_count": 4,
     "metadata": {},
     "output_type": "execute_result"
    }
   ],
   "source": [
    "data.describe()"
   ]
  },
  {
   "cell_type": "code",
   "execution_count": 5,
   "metadata": {},
   "outputs": [
    {
     "data": {
      "text/plain": [
       "(304, 17)"
      ]
     },
     "execution_count": 5,
     "metadata": {},
     "output_type": "execute_result"
    }
   ],
   "source": [
    "data.shape # dimension of data"
   ]
  },
  {
   "cell_type": "code",
   "execution_count": 6,
   "metadata": {},
   "outputs": [
    {
     "data": {
      "text/plain": [
       "Index(['Tijdstempel', 'What programme are you in?',\n",
       "       'Have you taken a course on machine learning?',\n",
       "       'Have you taken a course on information retrieval?',\n",
       "       'Have you taken a course on statistics?',\n",
       "       'Have you taken a course on databases?', 'What is your gender?',\n",
       "       'Chocolate makes you.....', 'When is your birthday (date)?',\n",
       "       'Number of neighbors sitting around you?', 'Did you stand up?',\n",
       "       'What is your stress level (0-100)?',\n",
       "       'You can get 100 euros if you win a local DM competition, or we don’t hold any competitions and I give everyone some money (not the same amount!). How much do you think you would deserve then? ',\n",
       "       'Give a random number', 'Time you went to be Yesterday',\n",
       "       'What makes a good day for you (1)?',\n",
       "       'What makes a good day for you (2)?'],\n",
       "      dtype='object')"
      ]
     },
     "execution_count": 6,
     "metadata": {},
     "output_type": "execute_result"
    }
   ],
   "source": [
    "data.columns"
   ]
  },
  {
   "cell_type": "code",
   "execution_count": 7,
   "metadata": {},
   "outputs": [
    {
     "data": {
      "text/html": [
       "<div>\n",
       "<style scoped>\n",
       "    .dataframe tbody tr th:only-of-type {\n",
       "        vertical-align: middle;\n",
       "    }\n",
       "\n",
       "    .dataframe tbody tr th {\n",
       "        vertical-align: top;\n",
       "    }\n",
       "\n",
       "    .dataframe thead th {\n",
       "        text-align: right;\n",
       "    }\n",
       "</style>\n",
       "<table border=\"1\" class=\"dataframe\">\n",
       "  <thead>\n",
       "    <tr style=\"text-align: right;\">\n",
       "      <th></th>\n",
       "      <th>timestamp</th>\n",
       "      <th>programme</th>\n",
       "      <th>ml_course</th>\n",
       "      <th>ir_course</th>\n",
       "      <th>stat_course</th>\n",
       "      <th>db_course</th>\n",
       "      <th>gender</th>\n",
       "      <th>chocolate</th>\n",
       "      <th>birth_date</th>\n",
       "      <th>neighbours</th>\n",
       "      <th>standed_up</th>\n",
       "      <th>stress_level</th>\n",
       "      <th>money</th>\n",
       "      <th>rand_num</th>\n",
       "      <th>time_yesterday</th>\n",
       "      <th>good_day</th>\n",
       "      <th>good_day2</th>\n",
       "    </tr>\n",
       "  </thead>\n",
       "  <tbody>\n",
       "    <tr>\n",
       "      <th>0</th>\n",
       "      <td>4-5-2022 12:12:07</td>\n",
       "      <td>artificial intelligence</td>\n",
       "      <td>yes</td>\n",
       "      <td>0</td>\n",
       "      <td>mu</td>\n",
       "      <td>nee</td>\n",
       "      <td>female</td>\n",
       "      <td>neither</td>\n",
       "      <td>02.05.1998</td>\n",
       "      <td>0</td>\n",
       "      <td>no</td>\n",
       "      <td>0</td>\n",
       "      <td>5</td>\n",
       "      <td>888</td>\n",
       "      <td>23:00</td>\n",
       "      <td>coffee</td>\n",
       "      <td>sun</td>\n",
       "    </tr>\n",
       "    <tr>\n",
       "      <th>1</th>\n",
       "      <td>4-5-2022 12:12:07</td>\n",
       "      <td>big data</td>\n",
       "      <td>yes</td>\n",
       "      <td>0</td>\n",
       "      <td>mu</td>\n",
       "      <td>nee</td>\n",
       "      <td>male</td>\n",
       "      <td>fat</td>\n",
       "      <td>29-02-2000</td>\n",
       "      <td>0</td>\n",
       "      <td>yes</td>\n",
       "      <td>200</td>\n",
       "      <td>1</td>\n",
       "      <td>12</td>\n",
       "      <td>32</td>\n",
       "      <td>7777</td>\n",
       "      <td>8964</td>\n",
       "    </tr>\n",
       "    <tr>\n",
       "      <th>2</th>\n",
       "      <td>4-5-2022 12:12:09</td>\n",
       "      <td>Computational  Science</td>\n",
       "      <td>yes</td>\n",
       "      <td>1</td>\n",
       "      <td>mu</td>\n",
       "      <td>ja</td>\n",
       "      <td>male</td>\n",
       "      <td>fat</td>\n",
       "      <td>29-06-1998</td>\n",
       "      <td>1</td>\n",
       "      <td>no</td>\n",
       "      <td>0</td>\n",
       "      <td>100</td>\n",
       "      <td>9</td>\n",
       "      <td>x</td>\n",
       "      <td>0</td>\n",
       "      <td>0</td>\n",
       "    </tr>\n",
       "    <tr>\n",
       "      <th>3</th>\n",
       "      <td>4-5-2022 12:12:09</td>\n",
       "      <td>Bioinformatics and Systems Biology</td>\n",
       "      <td>yes</td>\n",
       "      <td>0</td>\n",
       "      <td>unknown</td>\n",
       "      <td>nee</td>\n",
       "      <td>male</td>\n",
       "      <td>neither</td>\n",
       "      <td>11/05/97</td>\n",
       "      <td>0</td>\n",
       "      <td>no</td>\n",
       "      <td>20</td>\n",
       "      <td>100</td>\n",
       "      <td>31</td>\n",
       "      <td>14:00</td>\n",
       "      <td>good food</td>\n",
       "      <td>no stress</td>\n",
       "    </tr>\n",
       "    <tr>\n",
       "      <th>4</th>\n",
       "      <td>4-5-2022 12:12:15</td>\n",
       "      <td>AI</td>\n",
       "      <td>yes</td>\n",
       "      <td>1</td>\n",
       "      <td>mu</td>\n",
       "      <td>ja</td>\n",
       "      <td>male</td>\n",
       "      <td>fat</td>\n",
       "      <td>03-10-1997</td>\n",
       "      <td>0</td>\n",
       "      <td>no</td>\n",
       "      <td>2</td>\n",
       "      <td>100</td>\n",
       "      <td>86</td>\n",
       "      <td>07:20</td>\n",
       "      <td>Sunshine</td>\n",
       "      <td>Good Food</td>\n",
       "    </tr>\n",
       "  </tbody>\n",
       "</table>\n",
       "</div>"
      ],
      "text/plain": [
       "           timestamp                           programme ml_course ir_course  \\\n",
       "0  4-5-2022 12:12:07             artificial intelligence       yes         0   \n",
       "1  4-5-2022 12:12:07                            big data       yes         0   \n",
       "2  4-5-2022 12:12:09              Computational  Science       yes         1   \n",
       "3  4-5-2022 12:12:09  Bioinformatics and Systems Biology       yes         0   \n",
       "4  4-5-2022 12:12:15                                  AI       yes         1   \n",
       "\n",
       "  stat_course db_course  gender chocolate  birth_date neighbours standed_up  \\\n",
       "0          mu       nee  female   neither  02.05.1998          0         no   \n",
       "1          mu       nee    male       fat  29-02-2000          0        yes   \n",
       "2          mu        ja    male       fat  29-06-1998          1         no   \n",
       "3     unknown       nee    male   neither    11/05/97          0         no   \n",
       "4          mu        ja    male       fat  03-10-1997          0         no   \n",
       "\n",
       "  stress_level money rand_num time_yesterday   good_day  good_day2  \n",
       "0            0     5      888          23:00     coffee        sun  \n",
       "1          200     1       12             32       7777       8964  \n",
       "2            0   100        9              x          0          0  \n",
       "3           20   100       31          14:00  good food  no stress  \n",
       "4            2   100       86          07:20   Sunshine  Good Food  "
      ]
     },
     "execution_count": 7,
     "metadata": {},
     "output_type": "execute_result"
    }
   ],
   "source": [
    "# Renaming columns names to more readable names\n",
    "data.columns =['timestamp','programme','ml_course','ir_course','stat_course','db_course',\n",
    "               'gender','chocolate','birth_date','neighbours','standed_up','stress_level',\n",
    "               'money','rand_num','time_yesterday','good_day','good_day2']\n",
    "\n",
    "data.head()"
   ]
  },
  {
   "cell_type": "code",
   "execution_count": 8,
   "metadata": {},
   "outputs": [
    {
     "data": {
      "text/plain": [
       "AI                           39\n",
       "Artificial Intelligence      31\n",
       "Computational Science        23\n",
       "Business Analytics           14\n",
       "Computer Science             10\n",
       "                             ..\n",
       "Computer science - BDE        1\n",
       "None                          1\n",
       "computational science         1\n",
       "Medical Natural Sciences      1\n",
       "MSc Computational Science     1\n",
       "Name: programme, Length: 123, dtype: int64"
      ]
     },
     "execution_count": 8,
     "metadata": {},
     "output_type": "execute_result"
    }
   ],
   "source": [
    "data[\"programme\"].value_counts()"
   ]
  },
  {
   "cell_type": "code",
   "execution_count": 9,
   "metadata": {},
   "outputs": [
    {
     "data": {
      "text/html": [
       "<div>\n",
       "<style scoped>\n",
       "    .dataframe tbody tr th:only-of-type {\n",
       "        vertical-align: middle;\n",
       "    }\n",
       "\n",
       "    .dataframe tbody tr th {\n",
       "        vertical-align: top;\n",
       "    }\n",
       "\n",
       "    .dataframe thead th {\n",
       "        text-align: right;\n",
       "    }\n",
       "</style>\n",
       "<table border=\"1\" class=\"dataframe\">\n",
       "  <thead>\n",
       "    <tr style=\"text-align: right;\">\n",
       "      <th></th>\n",
       "      <th>timestamp</th>\n",
       "      <th>programme</th>\n",
       "      <th>ml_course</th>\n",
       "      <th>ir_course</th>\n",
       "      <th>stat_course</th>\n",
       "      <th>db_course</th>\n",
       "      <th>gender</th>\n",
       "      <th>chocolate</th>\n",
       "      <th>birth_date</th>\n",
       "      <th>neighbours</th>\n",
       "      <th>standed_up</th>\n",
       "      <th>stress_level</th>\n",
       "      <th>money</th>\n",
       "      <th>rand_num</th>\n",
       "      <th>time_yesterday</th>\n",
       "      <th>good_day</th>\n",
       "      <th>good_day2</th>\n",
       "    </tr>\n",
       "  </thead>\n",
       "  <tbody>\n",
       "    <tr>\n",
       "      <th>117</th>\n",
       "      <td>4-5-2022 12:15:37</td>\n",
       "      <td>AI</td>\n",
       "      <td>yes</td>\n",
       "      <td>0</td>\n",
       "      <td>mu</td>\n",
       "      <td>ja</td>\n",
       "      <td>female</td>\n",
       "      <td>fat</td>\n",
       "      <td>01/01/1998</td>\n",
       "      <td>1</td>\n",
       "      <td>no</td>\n",
       "      <td>0</td>\n",
       "      <td>50</td>\n",
       "      <td>23</td>\n",
       "      <td>3AM</td>\n",
       "      <td>food</td>\n",
       "      <td>being with the people i love</td>\n",
       "    </tr>\n",
       "    <tr>\n",
       "      <th>250</th>\n",
       "      <td>4-5-2022 12:16:18</td>\n",
       "      <td>AI</td>\n",
       "      <td>yes</td>\n",
       "      <td>0</td>\n",
       "      <td>mu</td>\n",
       "      <td>nee</td>\n",
       "      <td>male</td>\n",
       "      <td>neither</td>\n",
       "      <td>1989.9.2</td>\n",
       "      <td>4</td>\n",
       "      <td>no</td>\n",
       "      <td>80</td>\n",
       "      <td>70</td>\n",
       "      <td>9</td>\n",
       "      <td>9:00</td>\n",
       "      <td>food</td>\n",
       "      <td>sleep</td>\n",
       "    </tr>\n",
       "    <tr>\n",
       "      <th>61</th>\n",
       "      <td>4-5-2022 12:14:12</td>\n",
       "      <td>AI</td>\n",
       "      <td>yes</td>\n",
       "      <td>0</td>\n",
       "      <td>mu</td>\n",
       "      <td>ja</td>\n",
       "      <td>male</td>\n",
       "      <td>fat</td>\n",
       "      <td>19-02-1998</td>\n",
       "      <td>1</td>\n",
       "      <td>yes</td>\n",
       "      <td>20</td>\n",
       "      <td>1000</td>\n",
       "      <td>864687452</td>\n",
       "      <td>Gym</td>\n",
       "      <td>Food</td>\n",
       "      <td>Good coffee</td>\n",
       "    </tr>\n",
       "    <tr>\n",
       "      <th>84</th>\n",
       "      <td>4-5-2022 12:14:40</td>\n",
       "      <td>AI</td>\n",
       "      <td>yes</td>\n",
       "      <td>0</td>\n",
       "      <td>mu</td>\n",
       "      <td>nee</td>\n",
       "      <td>male</td>\n",
       "      <td>I have no idea what you are talking about</td>\n",
       "      <td>02/11/1896</td>\n",
       "      <td>5</td>\n",
       "      <td>unknown</td>\n",
       "      <td>1000</td>\n",
       "      <td>0</td>\n",
       "      <td>980000000000000789</td>\n",
       "      <td>00:00</td>\n",
       "      <td>Beer</td>\n",
       "      <td>Beer</td>\n",
       "    </tr>\n",
       "    <tr>\n",
       "      <th>34</th>\n",
       "      <td>4-5-2022 12:13:34</td>\n",
       "      <td>AI</td>\n",
       "      <td>no</td>\n",
       "      <td>0</td>\n",
       "      <td>sigma</td>\n",
       "      <td>ja</td>\n",
       "      <td>male</td>\n",
       "      <td>I have no idea what you are talking about</td>\n",
       "      <td>14.05.1996</td>\n",
       "      <td>5</td>\n",
       "      <td>no</td>\n",
       "      <td>70</td>\n",
       "      <td>20</td>\n",
       "      <td>2500</td>\n",
       "      <td>5</td>\n",
       "      <td>Weather</td>\n",
       "      <td>Beer</td>\n",
       "    </tr>\n",
       "    <tr>\n",
       "      <th>210</th>\n",
       "      <td>4-5-2022 12:16:03</td>\n",
       "      <td>AI</td>\n",
       "      <td>no</td>\n",
       "      <td>0</td>\n",
       "      <td>mu</td>\n",
       "      <td>nee</td>\n",
       "      <td>female</td>\n",
       "      <td>neither</td>\n",
       "      <td>21'12'1995</td>\n",
       "      <td>4</td>\n",
       "      <td>no</td>\n",
       "      <td>1</td>\n",
       "      <td>0</td>\n",
       "      <td>21</td>\n",
       "      <td>23.34</td>\n",
       "      <td>sunshine</td>\n",
       "      <td>fun stuff on the planning</td>\n",
       "    </tr>\n",
       "    <tr>\n",
       "      <th>175</th>\n",
       "      <td>4-5-2022 12:15:56</td>\n",
       "      <td>AI</td>\n",
       "      <td>yes</td>\n",
       "      <td>1</td>\n",
       "      <td>mu</td>\n",
       "      <td>ja</td>\n",
       "      <td>female</td>\n",
       "      <td>fat</td>\n",
       "      <td>18-06-1999</td>\n",
       "      <td>2</td>\n",
       "      <td>no</td>\n",
       "      <td>60</td>\n",
       "      <td>25</td>\n",
       "      <td>6</td>\n",
       "      <td>23:00</td>\n",
       "      <td>exercise</td>\n",
       "      <td>good food</td>\n",
       "    </tr>\n",
       "    <tr>\n",
       "      <th>153</th>\n",
       "      <td>4-5-2022 12:15:49</td>\n",
       "      <td>AI</td>\n",
       "      <td>yes</td>\n",
       "      <td>unknown</td>\n",
       "      <td>mu</td>\n",
       "      <td>nee</td>\n",
       "      <td>male</td>\n",
       "      <td>fat</td>\n",
       "      <td>19.10.1997</td>\n",
       "      <td>1</td>\n",
       "      <td>yes</td>\n",
       "      <td>30</td>\n",
       "      <td>1000</td>\n",
       "      <td>42</td>\n",
       "      <td>01:00</td>\n",
       "      <td>coding</td>\n",
       "      <td>food</td>\n",
       "    </tr>\n",
       "    <tr>\n",
       "      <th>81</th>\n",
       "      <td>4-5-2022 12:14:34</td>\n",
       "      <td>AI</td>\n",
       "      <td>yes</td>\n",
       "      <td>0</td>\n",
       "      <td>unknown</td>\n",
       "      <td>nee</td>\n",
       "      <td>male</td>\n",
       "      <td>neither</td>\n",
       "      <td>20/03/1998</td>\n",
       "      <td>2</td>\n",
       "      <td>yes</td>\n",
       "      <td>61</td>\n",
       "      <td>3.50</td>\n",
       "      <td>0293847509283475098324759083475298034759823475...</td>\n",
       "      <td>Wot</td>\n",
       "      <td>Cake</td>\n",
       "      <td>Pie</td>\n",
       "    </tr>\n",
       "    <tr>\n",
       "      <th>249</th>\n",
       "      <td>4-5-2022 12:16:17</td>\n",
       "      <td>AI</td>\n",
       "      <td>yes</td>\n",
       "      <td>1</td>\n",
       "      <td>mu</td>\n",
       "      <td>ja</td>\n",
       "      <td>male</td>\n",
       "      <td>neither</td>\n",
       "      <td>is prive</td>\n",
       "      <td>0</td>\n",
       "      <td>no</td>\n",
       "      <td>5</td>\n",
       "      <td>0</td>\n",
       "      <td>dont tell me what to do</td>\n",
       "      <td>?</td>\n",
       "      <td>studying</td>\n",
       "      <td>learning</td>\n",
       "    </tr>\n",
       "  </tbody>\n",
       "</table>\n",
       "</div>"
      ],
      "text/plain": [
       "             timestamp programme ml_course ir_course stat_course db_course  \\\n",
       "117  4-5-2022 12:15:37        AI       yes         0          mu        ja   \n",
       "250  4-5-2022 12:16:18        AI       yes         0          mu       nee   \n",
       "61   4-5-2022 12:14:12        AI       yes         0          mu        ja   \n",
       "84   4-5-2022 12:14:40        AI       yes         0          mu       nee   \n",
       "34   4-5-2022 12:13:34        AI        no         0       sigma        ja   \n",
       "210  4-5-2022 12:16:03        AI        no         0          mu       nee   \n",
       "175  4-5-2022 12:15:56        AI       yes         1          mu        ja   \n",
       "153  4-5-2022 12:15:49        AI       yes   unknown          mu       nee   \n",
       "81   4-5-2022 12:14:34        AI       yes         0     unknown       nee   \n",
       "249  4-5-2022 12:16:17        AI       yes         1          mu        ja   \n",
       "\n",
       "     gender                                  chocolate  birth_date neighbours  \\\n",
       "117  female                                        fat  01/01/1998          1   \n",
       "250    male                                    neither    1989.9.2          4   \n",
       "61     male                                        fat  19-02-1998          1   \n",
       "84     male  I have no idea what you are talking about  02/11/1896          5   \n",
       "34     male  I have no idea what you are talking about  14.05.1996          5   \n",
       "210  female                                    neither  21'12'1995          4   \n",
       "175  female                                        fat  18-06-1999          2   \n",
       "153    male                                        fat  19.10.1997          1   \n",
       "81     male                                    neither  20/03/1998          2   \n",
       "249    male                                    neither    is prive          0   \n",
       "\n",
       "    standed_up stress_level money  \\\n",
       "117         no            0    50   \n",
       "250         no           80    70   \n",
       "61         yes           20  1000   \n",
       "84     unknown         1000     0   \n",
       "34          no           70    20   \n",
       "210         no            1     0   \n",
       "175         no           60    25   \n",
       "153        yes           30  1000   \n",
       "81         yes           61  3.50   \n",
       "249         no            5     0   \n",
       "\n",
       "                                              rand_num time_yesterday  \\\n",
       "117                                                 23            3AM   \n",
       "250                                                  9           9:00   \n",
       "61                                           864687452            Gym   \n",
       "84                                  980000000000000789          00:00   \n",
       "34                                                2500              5   \n",
       "210                                                 21          23.34   \n",
       "175                                                  6          23:00   \n",
       "153                                                 42          01:00   \n",
       "81   0293847509283475098324759083475298034759823475...            Wot   \n",
       "249                            dont tell me what to do              ?   \n",
       "\n",
       "      good_day                     good_day2  \n",
       "117       food  being with the people i love  \n",
       "250       food                         sleep  \n",
       "61        Food                   Good coffee  \n",
       "84        Beer                          Beer  \n",
       "34     Weather                          Beer  \n",
       "210  sunshine      fun stuff on the planning  \n",
       "175   exercise                     good food  \n",
       "153     coding                          food  \n",
       "81        Cake                           Pie  \n",
       "249   studying                      learning  "
      ]
     },
     "execution_count": 9,
     "metadata": {},
     "output_type": "execute_result"
    }
   ],
   "source": [
    "data.sort_values(by=\"programme\").head(10)"
   ]
  },
  {
   "cell_type": "markdown",
   "metadata": {},
   "source": [
    "### Checking for wrong entries like symbols -,?,#,*,etc."
   ]
  },
  {
   "cell_type": "code",
   "execution_count": 10,
   "metadata": {},
   "outputs": [
    {
     "data": {
      "text/plain": [
       "array(['0', '200', '20', '2', '48', '100', '50', '60', '5000', '65', '70',\n",
       "       'over 9000', '98', '34', '15', '1000', '10', '90', '1', '56', '69',\n",
       "       '79', '33', '80', '40', '45', '7', '101', '5', '88', '75', '99',\n",
       "       '30', '999', '1E+22', '42', '61', '89', 'yes.', '150', 'Over 9000',\n",
       "       '44', '3', 'Next question', '14', 'yes', '68', '22', '-69', '47',\n",
       "       '36', '12', '85', '55', '23', '7.5', '11', '59', '25', '37', '102',\n",
       "       '29', '72', '77', '32', '81', '-100', '19', '66', '87', '45.8',\n",
       "       'Fifty', '38', 'private matters', '62', '9', '666'], dtype=object)"
      ]
     },
     "execution_count": 10,
     "metadata": {},
     "output_type": "execute_result"
    }
   ],
   "source": [
    "data['stress_level'].unique()"
   ]
  },
  {
   "cell_type": "code",
   "execution_count": 11,
   "metadata": {},
   "outputs": [],
   "source": [
    "#for i in range(0,len(data['stress_level'])):\n",
    "#    print(type(data['stress_level'][i]))"
   ]
  },
  {
   "cell_type": "code",
   "execution_count": 12,
   "metadata": {},
   "outputs": [],
   "source": [
    "#spec_chars = [\"!\",'\"',\"#\",\"%\",\"&\",\"'\",\"(\",\")\",\n",
    "#              \"*\",\"+\",\",\",\"-\",\".\",\"/\",\":\",\";\",\"<\",\n",
    "#              \"=\",\">\",\"?\",\"@\",\"[\",\"\\\\\",\"]\",\"^\",\"_\",\n",
    "#              \"`\",\"{\",\"|\",\"}\",\"~\",\"–\"]\n",
    "#for char in spec_chars:\n",
    "#    df['stress_level'] = df['stress_level'].str.replace(char, np.nan)"
   ]
  },
  {
   "cell_type": "markdown",
   "metadata": {},
   "source": [
    "There are null values in the dataset in form of `‘-’` only but pandas are not reading them so, will replace them into **np.nan** form."
   ]
  },
  {
   "cell_type": "code",
   "execution_count": 13,
   "metadata": {},
   "outputs": [
    {
     "data": {
      "text/html": [
       "<div>\n",
       "<style scoped>\n",
       "    .dataframe tbody tr th:only-of-type {\n",
       "        vertical-align: middle;\n",
       "    }\n",
       "\n",
       "    .dataframe tbody tr th {\n",
       "        vertical-align: top;\n",
       "    }\n",
       "\n",
       "    .dataframe thead th {\n",
       "        text-align: right;\n",
       "    }\n",
       "</style>\n",
       "<table border=\"1\" class=\"dataframe\">\n",
       "  <thead>\n",
       "    <tr style=\"text-align: right;\">\n",
       "      <th></th>\n",
       "      <th>timestamp</th>\n",
       "      <th>programme</th>\n",
       "      <th>ml_course</th>\n",
       "      <th>ir_course</th>\n",
       "      <th>stat_course</th>\n",
       "      <th>db_course</th>\n",
       "      <th>gender</th>\n",
       "      <th>chocolate</th>\n",
       "      <th>birth_date</th>\n",
       "      <th>neighbours</th>\n",
       "      <th>standed_up</th>\n",
       "      <th>stress_level</th>\n",
       "      <th>money</th>\n",
       "      <th>rand_num</th>\n",
       "      <th>time_yesterday</th>\n",
       "      <th>good_day</th>\n",
       "      <th>good_day2</th>\n",
       "    </tr>\n",
       "  </thead>\n",
       "  <tbody>\n",
       "    <tr>\n",
       "      <th>0</th>\n",
       "      <td>4-5-2022 12:12:07</td>\n",
       "      <td>artificial intelligence</td>\n",
       "      <td>yes</td>\n",
       "      <td>0</td>\n",
       "      <td>mu</td>\n",
       "      <td>nee</td>\n",
       "      <td>female</td>\n",
       "      <td>neither</td>\n",
       "      <td>02.05.1998</td>\n",
       "      <td>0</td>\n",
       "      <td>no</td>\n",
       "      <td>0</td>\n",
       "      <td>5</td>\n",
       "      <td>888</td>\n",
       "      <td>23:00</td>\n",
       "      <td>coffee</td>\n",
       "      <td>sun</td>\n",
       "    </tr>\n",
       "    <tr>\n",
       "      <th>1</th>\n",
       "      <td>4-5-2022 12:12:07</td>\n",
       "      <td>big data</td>\n",
       "      <td>yes</td>\n",
       "      <td>0</td>\n",
       "      <td>mu</td>\n",
       "      <td>nee</td>\n",
       "      <td>male</td>\n",
       "      <td>fat</td>\n",
       "      <td>29-02-2000</td>\n",
       "      <td>0</td>\n",
       "      <td>yes</td>\n",
       "      <td>200</td>\n",
       "      <td>1</td>\n",
       "      <td>12</td>\n",
       "      <td>32</td>\n",
       "      <td>7777</td>\n",
       "      <td>8964</td>\n",
       "    </tr>\n",
       "    <tr>\n",
       "      <th>2</th>\n",
       "      <td>4-5-2022 12:12:09</td>\n",
       "      <td>Computational  Science</td>\n",
       "      <td>yes</td>\n",
       "      <td>1</td>\n",
       "      <td>mu</td>\n",
       "      <td>ja</td>\n",
       "      <td>male</td>\n",
       "      <td>fat</td>\n",
       "      <td>29-06-1998</td>\n",
       "      <td>1</td>\n",
       "      <td>no</td>\n",
       "      <td>0</td>\n",
       "      <td>100</td>\n",
       "      <td>9</td>\n",
       "      <td>x</td>\n",
       "      <td>0</td>\n",
       "      <td>0</td>\n",
       "    </tr>\n",
       "    <tr>\n",
       "      <th>3</th>\n",
       "      <td>4-5-2022 12:12:09</td>\n",
       "      <td>Bioinformatics and Systems Biology</td>\n",
       "      <td>yes</td>\n",
       "      <td>0</td>\n",
       "      <td>unknown</td>\n",
       "      <td>nee</td>\n",
       "      <td>male</td>\n",
       "      <td>neither</td>\n",
       "      <td>11/05/97</td>\n",
       "      <td>0</td>\n",
       "      <td>no</td>\n",
       "      <td>20</td>\n",
       "      <td>100</td>\n",
       "      <td>31</td>\n",
       "      <td>14:00</td>\n",
       "      <td>good food</td>\n",
       "      <td>no stress</td>\n",
       "    </tr>\n",
       "    <tr>\n",
       "      <th>4</th>\n",
       "      <td>4-5-2022 12:12:15</td>\n",
       "      <td>AI</td>\n",
       "      <td>yes</td>\n",
       "      <td>1</td>\n",
       "      <td>mu</td>\n",
       "      <td>ja</td>\n",
       "      <td>male</td>\n",
       "      <td>fat</td>\n",
       "      <td>03-10-1997</td>\n",
       "      <td>0</td>\n",
       "      <td>no</td>\n",
       "      <td>2</td>\n",
       "      <td>100</td>\n",
       "      <td>86</td>\n",
       "      <td>07:20</td>\n",
       "      <td>Sunshine</td>\n",
       "      <td>Good Food</td>\n",
       "    </tr>\n",
       "  </tbody>\n",
       "</table>\n",
       "</div>"
      ],
      "text/plain": [
       "           timestamp                           programme ml_course ir_course  \\\n",
       "0  4-5-2022 12:12:07             artificial intelligence       yes         0   \n",
       "1  4-5-2022 12:12:07                            big data       yes         0   \n",
       "2  4-5-2022 12:12:09              Computational  Science       yes         1   \n",
       "3  4-5-2022 12:12:09  Bioinformatics and Systems Biology       yes         0   \n",
       "4  4-5-2022 12:12:15                                  AI       yes         1   \n",
       "\n",
       "  stat_course db_course  gender chocolate  birth_date neighbours standed_up  \\\n",
       "0          mu       nee  female   neither  02.05.1998          0         no   \n",
       "1          mu       nee    male       fat  29-02-2000          0        yes   \n",
       "2          mu        ja    male       fat  29-06-1998          1         no   \n",
       "3     unknown       nee    male   neither    11/05/97          0         no   \n",
       "4          mu        ja    male       fat  03-10-1997          0         no   \n",
       "\n",
       "  stress_level money rand_num time_yesterday   good_day  good_day2  \n",
       "0            0     5      888          23:00     coffee        sun  \n",
       "1          200     1       12             32       7777       8964  \n",
       "2            0   100        9              x          0          0  \n",
       "3           20   100       31          14:00  good food  no stress  \n",
       "4            2   100       86          07:20   Sunshine  Good Food  "
      ]
     },
     "execution_count": 13,
     "metadata": {},
     "output_type": "execute_result"
    }
   ],
   "source": [
    "for col in data.columns:\n",
    "    data[col].replace({'-':None},inplace=True)\n",
    "    \n",
    "data.head()"
   ]
  },
  {
   "cell_type": "code",
   "execution_count": 14,
   "metadata": {},
   "outputs": [
    {
     "name": "stdout",
     "output_type": "stream",
     "text": [
      "['yes' 'no' 'unknown']\n",
      "[ 1.  0. nan]\n"
     ]
    }
   ],
   "source": [
    "print(data['ml_course'].unique())\n",
    "data['ml_course'] = data['ml_course'].replace(to_replace=\"yes\",value=1)\n",
    "data['ml_course'] = data['ml_course'].replace(to_replace=\"no\",value=0)\n",
    "data['ml_course'] = data['ml_course'].replace(to_replace=\"unknown\",value=np.nan)\n",
    "print(data['ml_course'].unique())"
   ]
  },
  {
   "cell_type": "code",
   "execution_count": 15,
   "metadata": {},
   "outputs": [
    {
     "name": "stdout",
     "output_type": "stream",
     "text": [
      "['0' '1' 'unknown']\n",
      "[ 0.  1. nan]\n"
     ]
    }
   ],
   "source": [
    "print(data['ir_course'].unique())\n",
    "data['ir_course'] = data['ir_course'].replace(to_replace=\"1\",value=1)\n",
    "data['ir_course'] = data['ir_course'].replace(to_replace=\"0\",value=0)\n",
    "data['ir_course'] = data['ir_course'].replace(to_replace=\"unknown\",value=np.nan)\n",
    "print(data['ir_course'].unique())"
   ]
  },
  {
   "cell_type": "code",
   "execution_count": 16,
   "metadata": {},
   "outputs": [
    {
     "name": "stdout",
     "output_type": "stream",
     "text": [
      "['mu' 'unknown' 'sigma']\n",
      "[ 1. nan  0.]\n"
     ]
    }
   ],
   "source": [
    "print(data['stat_course'].unique())\n",
    "data['stat_course'] = data['stat_course'].replace(to_replace=\"mu\",value=1)\n",
    "data['stat_course'] = data['stat_course'].replace(to_replace=\"sigma\",value=0)\n",
    "data['stat_course'] = data['stat_course'].replace(to_replace=\"unknown\",value=np.nan)\n",
    "print(data['stat_course'].unique())"
   ]
  },
  {
   "cell_type": "code",
   "execution_count": 17,
   "metadata": {},
   "outputs": [
    {
     "name": "stdout",
     "output_type": "stream",
     "text": [
      "['nee' 'ja' 'unknown']\n",
      "[ 1.  0. nan]\n"
     ]
    }
   ],
   "source": [
    "print(data['db_course'].unique())\n",
    "data['db_course'] = data['db_course'].replace(to_replace=\"nee\",value=1)\n",
    "data['db_course'] = data['db_course'].replace(to_replace=\"ja\",value=0)\n",
    "data['db_course'] = data['db_course'].replace(to_replace=\"unknown\",value=np.nan)\n",
    "print(data['db_course'].unique())"
   ]
  },
  {
   "cell_type": "code",
   "execution_count": 18,
   "metadata": {},
   "outputs": [
    {
     "name": "stdout",
     "output_type": "stream",
     "text": [
      "['neither' 'fat' 'I have no idea what you are talking about' 'slim'\n",
      " 'unknown']\n",
      "['neither' 'fat' 'I have no idea what you are talking about' 'slim' nan]\n"
     ]
    }
   ],
   "source": [
    "print(data['chocolate'].unique())\n",
    "data['chocolate'] = data['chocolate'].replace(to_replace=\"unknown\",value=np.nan)\n",
    "print(data['chocolate'].unique())"
   ]
  },
  {
   "cell_type": "code",
   "execution_count": 19,
   "metadata": {},
   "outputs": [
    {
     "name": "stdout",
     "output_type": "stream",
     "text": [
      "['no' 'yes' 'unknown']\n",
      "[ 0.  1. nan]\n"
     ]
    }
   ],
   "source": [
    "print(data['standed_up'].unique())\n",
    "data['standed_up'] = data['standed_up'].replace(to_replace=\"yes\",value=1)\n",
    "data['standed_up'] = data['standed_up'].replace(to_replace=\"no\",value=0)\n",
    "data['standed_up'] = data['standed_up'].replace(to_replace=\"unknown\",value=np.nan)\n",
    "print(data['standed_up'].unique())"
   ]
  },
  {
   "cell_type": "markdown",
   "metadata": {},
   "source": [
    "### Checking Missing Values"
   ]
  },
  {
   "cell_type": "code",
   "execution_count": 20,
   "metadata": {},
   "outputs": [
    {
     "data": {
      "text/plain": [
       "timestamp          0\n",
       "programme          0\n",
       "ml_course          7\n",
       "ir_course         27\n",
       "stat_course       28\n",
       "db_course          7\n",
       "gender             0\n",
       "chocolate          6\n",
       "birth_date         0\n",
       "neighbours         0\n",
       "standed_up        26\n",
       "stress_level       0\n",
       "money              2\n",
       "rand_num           0\n",
       "time_yesterday     3\n",
       "good_day           1\n",
       "good_day2          2\n",
       "dtype: int64"
      ]
     },
     "execution_count": 20,
     "metadata": {},
     "output_type": "execute_result"
    }
   ],
   "source": [
    "data.isnull().sum()"
   ]
  },
  {
   "cell_type": "code",
   "execution_count": 21,
   "metadata": {},
   "outputs": [
    {
     "data": {
      "image/png": "[encoded data removed]",
      "text/plain": [
       "<Figure size 432x288 with 1 Axes>"
      ]
     },
     "metadata": {
      "needs_background": "light"
     },
     "output_type": "display_data"
    }
   ],
   "source": [
    "sns.heatmap(data.isnull(),cbar=False,cmap='viridis');"
   ]
  },
  {
   "cell_type": "code",
   "execution_count": 22,
   "metadata": {},
   "outputs": [
    {
     "data": {
      "image/png": "[encoded data removed]",
      "text/plain": [
       "<Figure size 1800x720 with 2 Axes>"
      ]
     },
     "metadata": {
      "needs_background": "light"
     },
     "output_type": "display_data"
    }
   ],
   "source": [
    "msno.matrix(df=data);"
   ]
  },
  {
   "cell_type": "markdown",
   "metadata": {},
   "source": [
    "### Handling Missing Value"
   ]
  },
  {
   "cell_type": "code",
   "execution_count": 23,
   "metadata": {},
   "outputs": [
    {
     "data": {
      "text/html": [
       "<div>\n",
       "<style scoped>\n",
       "    .dataframe tbody tr th:only-of-type {\n",
       "        vertical-align: middle;\n",
       "    }\n",
       "\n",
       "    .dataframe tbody tr th {\n",
       "        vertical-align: top;\n",
       "    }\n",
       "\n",
       "    .dataframe thead th {\n",
       "        text-align: right;\n",
       "    }\n",
       "</style>\n",
       "<table border=\"1\" class=\"dataframe\">\n",
       "  <thead>\n",
       "    <tr style=\"text-align: right;\">\n",
       "      <th></th>\n",
       "      <th>timestamp</th>\n",
       "      <th>programme</th>\n",
       "      <th>ml_course</th>\n",
       "      <th>ir_course</th>\n",
       "      <th>stat_course</th>\n",
       "      <th>db_course</th>\n",
       "      <th>gender</th>\n",
       "      <th>chocolate</th>\n",
       "      <th>birth_date</th>\n",
       "      <th>neighbours</th>\n",
       "      <th>standed_up</th>\n",
       "      <th>stress_level</th>\n",
       "      <th>money</th>\n",
       "      <th>rand_num</th>\n",
       "      <th>time_yesterday</th>\n",
       "      <th>good_day</th>\n",
       "      <th>good_day2</th>\n",
       "    </tr>\n",
       "  </thead>\n",
       "  <tbody>\n",
       "    <tr>\n",
       "      <th>0</th>\n",
       "      <td>4-5-2022 12:12:07</td>\n",
       "      <td>artificial intelligence</td>\n",
       "      <td>1.0</td>\n",
       "      <td>0.0</td>\n",
       "      <td>1.0</td>\n",
       "      <td>1.0</td>\n",
       "      <td>female</td>\n",
       "      <td>neither</td>\n",
       "      <td>02.05.1998</td>\n",
       "      <td>0</td>\n",
       "      <td>0.0</td>\n",
       "      <td>0</td>\n",
       "      <td>5</td>\n",
       "      <td>888</td>\n",
       "      <td>23:00</td>\n",
       "      <td>coffee</td>\n",
       "      <td>sun</td>\n",
       "    </tr>\n",
       "    <tr>\n",
       "      <th>1</th>\n",
       "      <td>4-5-2022 12:12:07</td>\n",
       "      <td>big data</td>\n",
       "      <td>1.0</td>\n",
       "      <td>0.0</td>\n",
       "      <td>1.0</td>\n",
       "      <td>1.0</td>\n",
       "      <td>male</td>\n",
       "      <td>fat</td>\n",
       "      <td>29-02-2000</td>\n",
       "      <td>0</td>\n",
       "      <td>1.0</td>\n",
       "      <td>200</td>\n",
       "      <td>1</td>\n",
       "      <td>12</td>\n",
       "      <td>32</td>\n",
       "      <td>7777</td>\n",
       "      <td>8964</td>\n",
       "    </tr>\n",
       "    <tr>\n",
       "      <th>2</th>\n",
       "      <td>4-5-2022 12:12:09</td>\n",
       "      <td>Computational  Science</td>\n",
       "      <td>1.0</td>\n",
       "      <td>1.0</td>\n",
       "      <td>1.0</td>\n",
       "      <td>0.0</td>\n",
       "      <td>male</td>\n",
       "      <td>fat</td>\n",
       "      <td>29-06-1998</td>\n",
       "      <td>1</td>\n",
       "      <td>0.0</td>\n",
       "      <td>0</td>\n",
       "      <td>100</td>\n",
       "      <td>9</td>\n",
       "      <td>x</td>\n",
       "      <td>0</td>\n",
       "      <td>0</td>\n",
       "    </tr>\n",
       "    <tr>\n",
       "      <th>4</th>\n",
       "      <td>4-5-2022 12:12:15</td>\n",
       "      <td>AI</td>\n",
       "      <td>1.0</td>\n",
       "      <td>1.0</td>\n",
       "      <td>1.0</td>\n",
       "      <td>0.0</td>\n",
       "      <td>male</td>\n",
       "      <td>fat</td>\n",
       "      <td>03-10-1997</td>\n",
       "      <td>0</td>\n",
       "      <td>0.0</td>\n",
       "      <td>2</td>\n",
       "      <td>100</td>\n",
       "      <td>86</td>\n",
       "      <td>07:20</td>\n",
       "      <td>Sunshine</td>\n",
       "      <td>Good Food</td>\n",
       "    </tr>\n",
       "    <tr>\n",
       "      <th>8</th>\n",
       "      <td>4-5-2022 12:12:29</td>\n",
       "      <td>FinTech</td>\n",
       "      <td>1.0</td>\n",
       "      <td>0.0</td>\n",
       "      <td>1.0</td>\n",
       "      <td>0.0</td>\n",
       "      <td>male</td>\n",
       "      <td>neither</td>\n",
       "      <td>1995</td>\n",
       "      <td>0</td>\n",
       "      <td>0.0</td>\n",
       "      <td>20</td>\n",
       "      <td>100 / the number of people</td>\n",
       "      <td>42</td>\n",
       "      <td>23:00</td>\n",
       "      <td>Food</td>\n",
       "      <td>Relaxation</td>\n",
       "    </tr>\n",
       "    <tr>\n",
       "      <th>9</th>\n",
       "      <td>4-5-2022 12:12:29</td>\n",
       "      <td>Artificial Intelligence</td>\n",
       "      <td>0.0</td>\n",
       "      <td>0.0</td>\n",
       "      <td>1.0</td>\n",
       "      <td>0.0</td>\n",
       "      <td>female</td>\n",
       "      <td>fat</td>\n",
       "      <td>21-07-2000</td>\n",
       "      <td>5</td>\n",
       "      <td>1.0</td>\n",
       "      <td>50</td>\n",
       "      <td>10</td>\n",
       "      <td>88</td>\n",
       "      <td>12 hours</td>\n",
       "      <td>sun, friends and wine</td>\n",
       "      <td>relaxing, watching a show, hockey</td>\n",
       "    </tr>\n",
       "    <tr>\n",
       "      <th>10</th>\n",
       "      <td>4-5-2022 12:12:31</td>\n",
       "      <td>Artificial Intelligence MsC</td>\n",
       "      <td>0.0</td>\n",
       "      <td>0.0</td>\n",
       "      <td>1.0</td>\n",
       "      <td>1.0</td>\n",
       "      <td>male</td>\n",
       "      <td>I have no idea what you are talking about</td>\n",
       "      <td>29-05-1998</td>\n",
       "      <td>0</td>\n",
       "      <td>0.0</td>\n",
       "      <td>60</td>\n",
       "      <td>1000</td>\n",
       "      <td>1</td>\n",
       "      <td>Banana</td>\n",
       "      <td>Coffee</td>\n",
       "      <td>Not coffee</td>\n",
       "    </tr>\n",
       "    <tr>\n",
       "      <th>12</th>\n",
       "      <td>4-5-2022 12:12:34</td>\n",
       "      <td>ai</td>\n",
       "      <td>1.0</td>\n",
       "      <td>1.0</td>\n",
       "      <td>1.0</td>\n",
       "      <td>0.0</td>\n",
       "      <td>male</td>\n",
       "      <td>I have no idea what you are talking about</td>\n",
       "      <td>0102</td>\n",
       "      <td>0</td>\n",
       "      <td>0.0</td>\n",
       "      <td>5000</td>\n",
       "      <td>100</td>\n",
       "      <td>7</td>\n",
       "      <td>to be?</td>\n",
       "      <td>drugs</td>\n",
       "      <td>beer</td>\n",
       "    </tr>\n",
       "    <tr>\n",
       "      <th>13</th>\n",
       "      <td>4-5-2022 12:12:36</td>\n",
       "      <td>programme?</td>\n",
       "      <td>0.0</td>\n",
       "      <td>0.0</td>\n",
       "      <td>1.0</td>\n",
       "      <td>1.0</td>\n",
       "      <td>male</td>\n",
       "      <td>fat</td>\n",
       "      <td>19/10/1982</td>\n",
       "      <td>0</td>\n",
       "      <td>1.0</td>\n",
       "      <td>65</td>\n",
       "      <td>100</td>\n",
       "      <td>8</td>\n",
       "      <td>00:00</td>\n",
       "      <td>Good sleep</td>\n",
       "      <td>Good work</td>\n",
       "    </tr>\n",
       "    <tr>\n",
       "      <th>14</th>\n",
       "      <td>4-5-2022 12:12:42</td>\n",
       "      <td>Masters in Artificial Intelligence</td>\n",
       "      <td>1.0</td>\n",
       "      <td>0.0</td>\n",
       "      <td>1.0</td>\n",
       "      <td>0.0</td>\n",
       "      <td>male</td>\n",
       "      <td>fat</td>\n",
       "      <td>22/02/1999</td>\n",
       "      <td>0</td>\n",
       "      <td>1.0</td>\n",
       "      <td>70</td>\n",
       "      <td>100</td>\n",
       "      <td>420</td>\n",
       "      <td>12:00</td>\n",
       "      <td>Good mental state.</td>\n",
       "      <td>A challenge.</td>\n",
       "    </tr>\n",
       "  </tbody>\n",
       "</table>\n",
       "</div>"
      ],
      "text/plain": [
       "            timestamp                           programme  ml_course  \\\n",
       "0   4-5-2022 12:12:07             artificial intelligence        1.0   \n",
       "1   4-5-2022 12:12:07                            big data        1.0   \n",
       "2   4-5-2022 12:12:09              Computational  Science        1.0   \n",
       "4   4-5-2022 12:12:15                                  AI        1.0   \n",
       "8   4-5-2022 12:12:29                             FinTech        1.0   \n",
       "9   4-5-2022 12:12:29             Artificial Intelligence        0.0   \n",
       "10  4-5-2022 12:12:31         Artificial Intelligence MsC        0.0   \n",
       "12  4-5-2022 12:12:34                                  ai        1.0   \n",
       "13  4-5-2022 12:12:36                          programme?        0.0   \n",
       "14  4-5-2022 12:12:42  Masters in Artificial Intelligence        1.0   \n",
       "\n",
       "    ir_course  stat_course  db_course  gender  \\\n",
       "0         0.0          1.0        1.0  female   \n",
       "1         0.0          1.0        1.0    male   \n",
       "2         1.0          1.0        0.0    male   \n",
       "4         1.0          1.0        0.0    male   \n",
       "8         0.0          1.0        0.0    male   \n",
       "9         0.0          1.0        0.0  female   \n",
       "10        0.0          1.0        1.0    male   \n",
       "12        1.0          1.0        0.0    male   \n",
       "13        0.0          1.0        1.0    male   \n",
       "14        0.0          1.0        0.0    male   \n",
       "\n",
       "                                    chocolate  birth_date neighbours  \\\n",
       "0                                     neither  02.05.1998          0   \n",
       "1                                         fat  29-02-2000          0   \n",
       "2                                         fat  29-06-1998          1   \n",
       "4                                         fat  03-10-1997          0   \n",
       "8                                     neither        1995          0   \n",
       "9                                         fat  21-07-2000          5   \n",
       "10  I have no idea what you are talking about  29-05-1998          0   \n",
       "12  I have no idea what you are talking about        0102          0   \n",
       "13                                        fat  19/10/1982          0   \n",
       "14                                        fat  22/02/1999          0   \n",
       "\n",
       "    standed_up stress_level                       money rand_num  \\\n",
       "0          0.0            0                           5      888   \n",
       "1          1.0          200                           1       12   \n",
       "2          0.0            0                         100        9   \n",
       "4          0.0            2                         100       86   \n",
       "8          0.0           20  100 / the number of people       42   \n",
       "9          1.0           50                          10       88   \n",
       "10         0.0           60                        1000        1   \n",
       "12         0.0         5000                         100        7   \n",
       "13         1.0           65                         100        8   \n",
       "14         1.0           70                         100      420   \n",
       "\n",
       "   time_yesterday               good_day                          good_day2  \n",
       "0           23:00                 coffee                                sun  \n",
       "1              32                   7777                               8964  \n",
       "2               x                      0                                  0  \n",
       "4           07:20               Sunshine                          Good Food  \n",
       "8           23:00                   Food                         Relaxation  \n",
       "9        12 hours  sun, friends and wine  relaxing, watching a show, hockey  \n",
       "10         Banana                 Coffee                         Not coffee  \n",
       "12         to be?                  drugs                               beer  \n",
       "13          00:00             Good sleep                          Good work  \n",
       "14          12:00     Good mental state.                       A challenge.  "
      ]
     },
     "execution_count": 23,
     "metadata": {},
     "output_type": "execute_result"
    }
   ],
   "source": [
    "data.dropna().head(10)"
   ]
  },
  {
   "cell_type": "markdown",
   "metadata": {},
   "source": [
    "### Handling Duplicate Records"
   ]
  },
  {
   "cell_type": "code",
   "execution_count": 24,
   "metadata": {},
   "outputs": [
    {
     "name": "stdout",
     "output_type": "stream",
     "text": [
      "0\n"
     ]
    }
   ],
   "source": [
    "duplicate = data.duplicated()\n",
    "print(duplicate.sum()) # there is no duplicate data"
   ]
  },
  {
   "cell_type": "markdown",
   "metadata": {},
   "source": [
    "### Correlation"
   ]
  },
  {
   "cell_type": "code",
   "execution_count": 25,
   "metadata": {},
   "outputs": [
    {
     "data": {
      "text/html": [
       "<div>\n",
       "<style scoped>\n",
       "    .dataframe tbody tr th:only-of-type {\n",
       "        vertical-align: middle;\n",
       "    }\n",
       "\n",
       "    .dataframe tbody tr th {\n",
       "        vertical-align: top;\n",
       "    }\n",
       "\n",
       "    .dataframe thead th {\n",
       "        text-align: right;\n",
       "    }\n",
       "</style>\n",
       "<table border=\"1\" class=\"dataframe\">\n",
       "  <thead>\n",
       "    <tr style=\"text-align: right;\">\n",
       "      <th></th>\n",
       "      <th>ml_course</th>\n",
       "      <th>ir_course</th>\n",
       "      <th>stat_course</th>\n",
       "      <th>db_course</th>\n",
       "      <th>standed_up</th>\n",
       "    </tr>\n",
       "  </thead>\n",
       "  <tbody>\n",
       "    <tr>\n",
       "      <th>ml_course</th>\n",
       "      <td>1.000000</td>\n",
       "      <td>0.289754</td>\n",
       "      <td>0.055331</td>\n",
       "      <td>-0.208864</td>\n",
       "      <td>0.003147</td>\n",
       "    </tr>\n",
       "    <tr>\n",
       "      <th>ir_course</th>\n",
       "      <td>0.289754</td>\n",
       "      <td>1.000000</td>\n",
       "      <td>0.064373</td>\n",
       "      <td>-0.377607</td>\n",
       "      <td>-0.087102</td>\n",
       "    </tr>\n",
       "    <tr>\n",
       "      <th>stat_course</th>\n",
       "      <td>0.055331</td>\n",
       "      <td>0.064373</td>\n",
       "      <td>1.000000</td>\n",
       "      <td>-0.067132</td>\n",
       "      <td>-0.010364</td>\n",
       "    </tr>\n",
       "    <tr>\n",
       "      <th>db_course</th>\n",
       "      <td>-0.208864</td>\n",
       "      <td>-0.377607</td>\n",
       "      <td>-0.067132</td>\n",
       "      <td>1.000000</td>\n",
       "      <td>0.034677</td>\n",
       "    </tr>\n",
       "    <tr>\n",
       "      <th>standed_up</th>\n",
       "      <td>0.003147</td>\n",
       "      <td>-0.087102</td>\n",
       "      <td>-0.010364</td>\n",
       "      <td>0.034677</td>\n",
       "      <td>1.000000</td>\n",
       "    </tr>\n",
       "  </tbody>\n",
       "</table>\n",
       "</div>"
      ],
      "text/plain": [
       "             ml_course  ir_course  stat_course  db_course  standed_up\n",
       "ml_course     1.000000   0.289754     0.055331  -0.208864    0.003147\n",
       "ir_course     0.289754   1.000000     0.064373  -0.377607   -0.087102\n",
       "stat_course   0.055331   0.064373     1.000000  -0.067132   -0.010364\n",
       "db_course    -0.208864  -0.377607    -0.067132   1.000000    0.034677\n",
       "standed_up    0.003147  -0.087102    -0.010364   0.034677    1.000000"
      ]
     },
     "execution_count": 25,
     "metadata": {},
     "output_type": "execute_result"
    }
   ],
   "source": [
    "data.corr()"
   ]
  },
  {
   "cell_type": "markdown",
   "metadata": {},
   "source": [
    "### Data Cleaning"
   ]
  },
  {
   "cell_type": "code",
   "execution_count": 26,
   "metadata": {},
   "outputs": [],
   "source": [
    "data['ml_course'] = data['ml_course'].apply(pd.to_numeric)\n",
    "data['stat_course'] = data['stat_course'].apply(pd.to_numeric)\n",
    "data['ir_course'] = data['ir_course'].apply(pd.to_numeric)\n",
    "data['db_course'] = data['db_course'].apply(pd.to_numeric)\n",
    "data['standed_up'] = data['standed_up'].apply(pd.to_numeric)"
   ]
  },
  {
   "cell_type": "code",
   "execution_count": 27,
   "metadata": {},
   "outputs": [
    {
     "data": {
      "text/plain": [
       "timestamp          object\n",
       "programme          object\n",
       "ml_course         float64\n",
       "ir_course         float64\n",
       "stat_course       float64\n",
       "db_course         float64\n",
       "gender             object\n",
       "chocolate          object\n",
       "birth_date         object\n",
       "neighbours         object\n",
       "standed_up        float64\n",
       "stress_level       object\n",
       "money              object\n",
       "rand_num           object\n",
       "time_yesterday     object\n",
       "good_day           object\n",
       "good_day2          object\n",
       "dtype: object"
      ]
     },
     "execution_count": 27,
     "metadata": {},
     "output_type": "execute_result"
    }
   ],
   "source": [
    "data.dtypes"
   ]
  },
  {
   "cell_type": "code",
   "execution_count": 28,
   "metadata": {},
   "outputs": [],
   "source": [
    "#pd.to_numeric(data[\"stress_level\"], errors='coerce')\n",
    "#data[\"stress_level\"] = pd.to_numeric(data[\"stress_level\"], errors='coerce')\n",
    "#data[\"money\"] = pd.to_numeric(data[\"money\"], errors='coerce')\n",
    "#data[\"rand_num\"] = pd.to_numeric(data[\"rand_num\"], errors='coerce')\n",
    "#data[\"time_yesterday\"] = pd.to_numeric(data[\"time_yesterday\"], errors='coerce')\n",
    "data[\"neighbours\"] = pd.to_numeric(data[\"neighbours\"], errors='coerce').astype('Int64')"
   ]
  },
  {
   "cell_type": "markdown",
   "metadata": {},
   "source": [
    "## data[\"neighbours\"]"
   ]
  },
  {
   "cell_type": "code",
   "execution_count": 29,
   "metadata": {},
   "outputs": [
    {
     "data": {
      "text/plain": [
       "<IntegerArray>\n",
       "[     0,      1,      5,     -4,     11,      3,      2,     20,    666,\n",
       "      7,     45,      4,      6,   <NA>,     -2,    250,    300,      8,\n",
       " 978000,    128,     12,      9]\n",
       "Length: 22, dtype: Int64"
      ]
     },
     "execution_count": 29,
     "metadata": {},
     "output_type": "execute_result"
    }
   ],
   "source": [
    "data[\"neighbours\"].unique()"
   ]
  },
  {
   "cell_type": "code",
   "execution_count": 30,
   "metadata": {},
   "outputs": [],
   "source": [
    "data['neighbours'][data['neighbours']<0] = 0\n",
    "data['neighbours'][data['neighbours']>600] = 600"
   ]
  },
  {
   "cell_type": "code",
   "execution_count": 31,
   "metadata": {},
   "outputs": [
    {
     "data": {
      "text/plain": [
       "<IntegerArray>\n",
       "[0, 1, 5, 11, 3, 2, 20, 600, 7, 45, 4, 6, <NA>, 250, 300, 8, 128, 12, 9]\n",
       "Length: 19, dtype: Int64"
      ]
     },
     "execution_count": 31,
     "metadata": {},
     "output_type": "execute_result"
    }
   ],
   "source": [
    "data[\"neighbours\"].unique()"
   ]
  },
  {
   "cell_type": "code",
   "execution_count": 32,
   "metadata": {},
   "outputs": [
    {
     "data": {
      "text/plain": [
       "<IntegerArray>\n",
       "[0, 1, 5, 11, 3, 2, 20, 600, 7, 45, 4, 6, 8, 250, 300, 128, 12, 9]\n",
       "Length: 18, dtype: Int64"
      ]
     },
     "execution_count": 32,
     "metadata": {},
     "output_type": "execute_result"
    }
   ],
   "source": [
    "tmp_data = data['neighbours'].dropna()\n",
    "mean = int(np.mean(tmp_data))\n",
    "\n",
    "data['neighbours'] = data['neighbours'].fillna(mean)\n",
    "data['neighbours'].unique()"
   ]
  },
  {
   "cell_type": "markdown",
   "metadata": {},
   "source": [
    "## data[\"rand_num\"]"
   ]
  },
  {
   "cell_type": "code",
   "execution_count": 33,
   "metadata": {},
   "outputs": [
    {
     "data": {
      "text/plain": [
       "array(['888', '12', '9', '31', '86', '87', '6', '50', '42', '88', '1',\n",
       "       '56', '7', '8', '420', '22', '17', '0', '800039995', '72', '27',\n",
       "       '6.98', '11', '3.14', '32', '1278946', '651', '24', '2500', '-1',\n",
       "       '1946', '36', '666', '765', '3', '81', '109', '4444', '94', '9999',\n",
       "       '401', '19', '77', '69', '864687452', '280', '67', '2', '33',\n",
       "       '8271', '4', '365', '5', '41', '73',\n",
       "       '029384750928347509832475908347529803475982347598237459802374980572349805723489573298576893475983274598723498572349805738904759082345702345897349857',\n",
       "       '980000000000000789', '432', '100', '10.3', '14', '3645',\n",
       "       '987654321', 'Π', '227', '247', '57',\n",
       "       '73553801531488322931570535984775796225797789', '94736253',\n",
       "       '1947271047294720^10204847', '13', '97', '25', '567', '58', '23',\n",
       "       '43', 'No', '21', '5813', '7823', '47', '76853', '7,66789E+13',\n",
       "       '83', '60', 'omega', '10', '4.34', '68', '651893', '9462648',\n",
       "       '521', '9664367943217790643378', '2230', '163', 'e', '18', '37',\n",
       "       '56799', '55', '66',\n",
       "       '54.727.163.638.182.600.000.000.000.000.000.000.000', '96274374',\n",
       "       '78945', '7654321', '80', '198956654894562566469615', '5792',\n",
       "       '172', '9,13747E+12', '11223344556677889900', '29', '361',\n",
       "       '4729264827364547292736464629', 'sqrt(687458.9665)', '122',\n",
       "       '6,96788E+14', '∞', '333', '34567', '6665437996',\n",
       "       'dont tell me what to do', '83947', '53', '487', '47895734', '893',\n",
       "       '99', '30', '548293748291457322680525896237', '235236236',\n",
       "       '222.223', '626', '69420', '6969', '375', '007', '-34,67', '75',\n",
       "       '123', '789458455584851844184'], dtype=object)"
      ]
     },
     "execution_count": 33,
     "metadata": {},
     "output_type": "execute_result"
    }
   ],
   "source": [
    "data[\"rand_num\"].unique()"
   ]
  },
  {
   "cell_type": "code",
   "execution_count": 34,
   "metadata": {},
   "outputs": [
    {
     "data": {
      "text/plain": [
       "array([ 8.88000000e+002,  1.20000000e+001,  9.00000000e+000,\n",
       "        3.10000000e+001,  8.60000000e+001,  8.70000000e+001,\n",
       "        6.00000000e+000,  5.00000000e+001,  4.20000000e+001,\n",
       "        8.80000000e+001,  1.00000000e+000,  5.60000000e+001,\n",
       "        7.00000000e+000,  8.00000000e+000,  4.20000000e+002,\n",
       "        2.20000000e+001,  1.70000000e+001,  0.00000000e+000,\n",
       "        8.00039995e+008,  7.20000000e+001,  2.70000000e+001,\n",
       "        6.98000000e+000,  1.10000000e+001,  3.14000000e+000,\n",
       "        3.20000000e+001,  1.27894600e+006,  6.51000000e+002,\n",
       "        2.40000000e+001,  2.50000000e+003, -1.00000000e+000,\n",
       "        1.94600000e+003,  3.60000000e+001,  6.66000000e+002,\n",
       "        7.65000000e+002,  3.00000000e+000,  8.10000000e+001,\n",
       "        1.09000000e+002,  4.44400000e+003,  9.40000000e+001,\n",
       "        9.99900000e+003,  4.01000000e+002,  1.90000000e+001,\n",
       "        7.70000000e+001,  6.90000000e+001,  8.64687452e+008,\n",
       "        2.80000000e+002,  6.70000000e+001,  2.00000000e+000,\n",
       "        3.30000000e+001,  8.27100000e+003,  4.00000000e+000,\n",
       "        3.65000000e+002,  5.00000000e+000,  4.10000000e+001,\n",
       "        7.30000000e+001,  2.93847509e+145,  9.80000000e+017,\n",
       "        4.32000000e+002,  1.00000000e+002,  1.03000000e+001,\n",
       "        1.40000000e+001,  3.64500000e+003,  9.87654321e+008,\n",
       "                    nan,  2.27000000e+002,  2.47000000e+002,\n",
       "        5.70000000e+001,  7.35538015e+043,  9.47362530e+007,\n",
       "        1.30000000e+001,  9.70000000e+001,  2.50000000e+001,\n",
       "        5.67000000e+002,  5.80000000e+001,  2.30000000e+001,\n",
       "        4.30000000e+001,  2.10000000e+001,  5.81300000e+003,\n",
       "        7.82300000e+003,  4.70000000e+001,  7.68530000e+004,\n",
       "        8.30000000e+001,  6.00000000e+001,  1.00000000e+001,\n",
       "        4.34000000e+000,  6.80000000e+001,  6.51893000e+005,\n",
       "        9.46264800e+006,  5.21000000e+002,  9.66436794e+021,\n",
       "        2.23000000e+003,  1.63000000e+002,  1.80000000e+001,\n",
       "        3.70000000e+001,  5.67990000e+004,  5.50000000e+001,\n",
       "        6.60000000e+001,  9.62743740e+007,  7.89450000e+004,\n",
       "        7.65432100e+006,  8.00000000e+001,  1.98956655e+023,\n",
       "        5.79200000e+003,  1.72000000e+002,  1.12233446e+019,\n",
       "        2.90000000e+001,  3.61000000e+002,  4.72926483e+027,\n",
       "        1.22000000e+002,  3.33000000e+002,  3.45670000e+004,\n",
       "        6.66543800e+009,  8.39470000e+004,  5.30000000e+001,\n",
       "        4.87000000e+002,  4.78957340e+007,  8.93000000e+002,\n",
       "        9.90000000e+001,  3.00000000e+001,  5.48293748e+029,\n",
       "        2.35236236e+008,  2.22223000e+002,  6.26000000e+002,\n",
       "        6.94200000e+004,  6.96900000e+003,  3.75000000e+002,\n",
       "        7.50000000e+001,  1.23000000e+002,  7.89458456e+020])"
      ]
     },
     "execution_count": 34,
     "metadata": {},
     "output_type": "execute_result"
    }
   ],
   "source": [
    "data[\"rand_num\"] = pd.to_numeric(data[\"rand_num\"], errors='coerce').astype('float64')\n",
    "\n",
    "data[\"rand_num\"].unique()"
   ]
  },
  {
   "cell_type": "code",
   "execution_count": 35,
   "metadata": {},
   "outputs": [],
   "source": [
    "tmp_data = data['rand_num'].dropna()\n",
    "median = float(np.median(tmp_data))\n",
    "\n",
    "data['rand_num'] = data['rand_num'].fillna(median)"
   ]
  },
  {
   "cell_type": "code",
   "execution_count": 36,
   "metadata": {},
   "outputs": [
    {
     "name": "stdout",
     "output_type": "stream",
     "text": [
      "0\n"
     ]
    }
   ],
   "source": [
    "print(sum(data['rand_num'].isna()))"
   ]
  },
  {
   "cell_type": "code",
   "execution_count": 37,
   "metadata": {},
   "outputs": [],
   "source": [
    "data['rand_num'] = data['rand_num'].apply(Decimal)"
   ]
  },
  {
   "cell_type": "code",
   "execution_count": 38,
   "metadata": {},
   "outputs": [
    {
     "data": {
      "text/plain": [
       "0    888\n",
       "1     12\n",
       "2      9\n",
       "3     31\n",
       "4     86\n",
       "Name: rand_num, dtype: object"
      ]
     },
     "execution_count": 38,
     "metadata": {},
     "output_type": "execute_result"
    }
   ],
   "source": [
    "data[\"rand_num\"].head()"
   ]
  },
  {
   "cell_type": "code",
   "execution_count": 39,
   "metadata": {},
   "outputs": [
    {
     "data": {
      "text/plain": [
       "array([Decimal('888'), Decimal('12'), Decimal('9'), Decimal('31'),\n",
       "       Decimal('86'), Decimal('87'), Decimal('6'), Decimal('50'),\n",
       "       Decimal('42'), Decimal('88'), Decimal('1'), Decimal('56'),\n",
       "       Decimal('7'), Decimal('8'), Decimal('420'), Decimal('22'),\n",
       "       Decimal('17'), Decimal('0'), Decimal('800039995'), Decimal('72'),\n",
       "       Decimal('27'),\n",
       "       Decimal('6.980000000000000426325641456060111522674560546875'),\n",
       "       Decimal('11'),\n",
       "       Decimal('3.140000000000000124344978758017532527446746826171875'),\n",
       "       Decimal('32'), Decimal('1278946'), Decimal('651'), Decimal('24'),\n",
       "       Decimal('2500'), Decimal('-1'), Decimal('1946'), Decimal('36'),\n",
       "       Decimal('666'), Decimal('765'), Decimal('3'), Decimal('81'),\n",
       "       Decimal('109'), Decimal('4444'), Decimal('94'), Decimal('9999'),\n",
       "       Decimal('401'), Decimal('19'), Decimal('77'), Decimal('69'),\n",
       "       Decimal('864687452'), Decimal('280'), Decimal('67'), Decimal('2'),\n",
       "       Decimal('33'), Decimal('8271'), Decimal('4'), Decimal('365'),\n",
       "       Decimal('5'), Decimal('41'), Decimal('73'),\n",
       "       Decimal('29384750928347499560434448463534449820050270431064549549200446569517562551670727265808878110080266894953352068947737749502696802665892191678758912'),\n",
       "       Decimal('980000000000001024'), Decimal('432'), Decimal('100'),\n",
       "       Decimal('10.300000000000000710542735760100185871124267578125'),\n",
       "       Decimal('14'), Decimal('3645'), Decimal('987654321'),\n",
       "       Decimal('37'), Decimal('227'), Decimal('247'), Decimal('57'),\n",
       "       Decimal('73553801531488323617875067703012623007088640'),\n",
       "       Decimal('94736253'), Decimal('13'), Decimal('97'), Decimal('25'),\n",
       "       Decimal('567'), Decimal('58'), Decimal('23'), Decimal('43'),\n",
       "       Decimal('21'), Decimal('5813'), Decimal('7823'), Decimal('47'),\n",
       "       Decimal('76853'), Decimal('83'), Decimal('60'), Decimal('10'),\n",
       "       Decimal('4.339999999999999857891452847979962825775146484375'),\n",
       "       Decimal('68'), Decimal('651893'), Decimal('9462648'),\n",
       "       Decimal('521'), Decimal('9664367943217789796352'), Decimal('2230'),\n",
       "       Decimal('163'), Decimal('18'), Decimal('56799'), Decimal('55'),\n",
       "       Decimal('66'), Decimal('96274374'), Decimal('78945'),\n",
       "       Decimal('7654321'), Decimal('80'),\n",
       "       Decimal('198956654894562561490944'), Decimal('5792'),\n",
       "       Decimal('172'), Decimal('11223344556677888000'), Decimal('29'),\n",
       "       Decimal('361'), Decimal('4729264827364547416259821568'),\n",
       "       Decimal('122'), Decimal('333'), Decimal('34567'),\n",
       "       Decimal('6665437996'), Decimal('83947'), Decimal('53'),\n",
       "       Decimal('487'), Decimal('47895734'), Decimal('893'), Decimal('99'),\n",
       "       Decimal('30'), Decimal('548293748291457261907952533504'),\n",
       "       Decimal('235236236'),\n",
       "       Decimal('222.22300000000001318767317570745944976806640625'),\n",
       "       Decimal('626'), Decimal('69420'), Decimal('6969'), Decimal('375'),\n",
       "       Decimal('75'), Decimal('123'), Decimal('789458455584851886080')],\n",
       "      dtype=object)"
      ]
     },
     "execution_count": 39,
     "metadata": {},
     "output_type": "execute_result"
    }
   ],
   "source": [
    "data[\"rand_num\"].unique()"
   ]
  },
  {
   "cell_type": "code",
   "execution_count": 40,
   "metadata": {},
   "outputs": [
    {
     "data": {
      "text/html": [
       "<div>\n",
       "<style scoped>\n",
       "    .dataframe tbody tr th:only-of-type {\n",
       "        vertical-align: middle;\n",
       "    }\n",
       "\n",
       "    .dataframe tbody tr th {\n",
       "        vertical-align: top;\n",
       "    }\n",
       "\n",
       "    .dataframe thead th {\n",
       "        text-align: right;\n",
       "    }\n",
       "</style>\n",
       "<table border=\"1\" class=\"dataframe\">\n",
       "  <thead>\n",
       "    <tr style=\"text-align: right;\">\n",
       "      <th></th>\n",
       "      <th>timestamp</th>\n",
       "      <th>programme</th>\n",
       "      <th>ml_course</th>\n",
       "      <th>ir_course</th>\n",
       "      <th>stat_course</th>\n",
       "      <th>db_course</th>\n",
       "      <th>gender</th>\n",
       "      <th>chocolate</th>\n",
       "      <th>birth_date</th>\n",
       "      <th>neighbours</th>\n",
       "      <th>standed_up</th>\n",
       "      <th>stress_level</th>\n",
       "      <th>money</th>\n",
       "      <th>rand_num</th>\n",
       "      <th>time_yesterday</th>\n",
       "      <th>good_day</th>\n",
       "      <th>good_day2</th>\n",
       "    </tr>\n",
       "  </thead>\n",
       "  <tbody>\n",
       "    <tr>\n",
       "      <th>0</th>\n",
       "      <td>4-5-2022 12:12:07</td>\n",
       "      <td>artificial intelligence</td>\n",
       "      <td>1.0</td>\n",
       "      <td>0.0</td>\n",
       "      <td>1.0</td>\n",
       "      <td>1.0</td>\n",
       "      <td>female</td>\n",
       "      <td>neither</td>\n",
       "      <td>02.05.1998</td>\n",
       "      <td>0</td>\n",
       "      <td>0.0</td>\n",
       "      <td>0</td>\n",
       "      <td>5</td>\n",
       "      <td>888</td>\n",
       "      <td>23:00</td>\n",
       "      <td>coffee</td>\n",
       "      <td>sun</td>\n",
       "    </tr>\n",
       "    <tr>\n",
       "      <th>1</th>\n",
       "      <td>4-5-2022 12:12:07</td>\n",
       "      <td>big data</td>\n",
       "      <td>1.0</td>\n",
       "      <td>0.0</td>\n",
       "      <td>1.0</td>\n",
       "      <td>1.0</td>\n",
       "      <td>male</td>\n",
       "      <td>fat</td>\n",
       "      <td>29-02-2000</td>\n",
       "      <td>0</td>\n",
       "      <td>1.0</td>\n",
       "      <td>200</td>\n",
       "      <td>1</td>\n",
       "      <td>12</td>\n",
       "      <td>32</td>\n",
       "      <td>7777</td>\n",
       "      <td>8964</td>\n",
       "    </tr>\n",
       "    <tr>\n",
       "      <th>2</th>\n",
       "      <td>4-5-2022 12:12:09</td>\n",
       "      <td>Computational  Science</td>\n",
       "      <td>1.0</td>\n",
       "      <td>1.0</td>\n",
       "      <td>1.0</td>\n",
       "      <td>0.0</td>\n",
       "      <td>male</td>\n",
       "      <td>fat</td>\n",
       "      <td>29-06-1998</td>\n",
       "      <td>1</td>\n",
       "      <td>0.0</td>\n",
       "      <td>0</td>\n",
       "      <td>100</td>\n",
       "      <td>9</td>\n",
       "      <td>x</td>\n",
       "      <td>0</td>\n",
       "      <td>0</td>\n",
       "    </tr>\n",
       "    <tr>\n",
       "      <th>3</th>\n",
       "      <td>4-5-2022 12:12:09</td>\n",
       "      <td>Bioinformatics and Systems Biology</td>\n",
       "      <td>1.0</td>\n",
       "      <td>0.0</td>\n",
       "      <td>NaN</td>\n",
       "      <td>1.0</td>\n",
       "      <td>male</td>\n",
       "      <td>neither</td>\n",
       "      <td>11/05/97</td>\n",
       "      <td>0</td>\n",
       "      <td>0.0</td>\n",
       "      <td>20</td>\n",
       "      <td>100</td>\n",
       "      <td>31</td>\n",
       "      <td>14:00</td>\n",
       "      <td>good food</td>\n",
       "      <td>no stress</td>\n",
       "    </tr>\n",
       "    <tr>\n",
       "      <th>4</th>\n",
       "      <td>4-5-2022 12:12:15</td>\n",
       "      <td>AI</td>\n",
       "      <td>1.0</td>\n",
       "      <td>1.0</td>\n",
       "      <td>1.0</td>\n",
       "      <td>0.0</td>\n",
       "      <td>male</td>\n",
       "      <td>fat</td>\n",
       "      <td>03-10-1997</td>\n",
       "      <td>0</td>\n",
       "      <td>0.0</td>\n",
       "      <td>2</td>\n",
       "      <td>100</td>\n",
       "      <td>86</td>\n",
       "      <td>07:20</td>\n",
       "      <td>Sunshine</td>\n",
       "      <td>Good Food</td>\n",
       "    </tr>\n",
       "  </tbody>\n",
       "</table>\n",
       "</div>"
      ],
      "text/plain": [
       "           timestamp                           programme  ml_course  \\\n",
       "0  4-5-2022 12:12:07             artificial intelligence        1.0   \n",
       "1  4-5-2022 12:12:07                            big data        1.0   \n",
       "2  4-5-2022 12:12:09              Computational  Science        1.0   \n",
       "3  4-5-2022 12:12:09  Bioinformatics and Systems Biology        1.0   \n",
       "4  4-5-2022 12:12:15                                  AI        1.0   \n",
       "\n",
       "   ir_course  stat_course  db_course  gender chocolate  birth_date  \\\n",
       "0        0.0          1.0        1.0  female   neither  02.05.1998   \n",
       "1        0.0          1.0        1.0    male       fat  29-02-2000   \n",
       "2        1.0          1.0        0.0    male       fat  29-06-1998   \n",
       "3        0.0          NaN        1.0    male   neither    11/05/97   \n",
       "4        1.0          1.0        0.0    male       fat  03-10-1997   \n",
       "\n",
       "   neighbours  standed_up stress_level money rand_num time_yesterday  \\\n",
       "0           0         0.0            0     5      888          23:00   \n",
       "1           0         1.0          200     1       12             32   \n",
       "2           1         0.0            0   100        9              x   \n",
       "3           0         0.0           20   100       31          14:00   \n",
       "4           0         0.0            2   100       86          07:20   \n",
       "\n",
       "    good_day  good_day2  \n",
       "0     coffee        sun  \n",
       "1       7777       8964  \n",
       "2          0          0  \n",
       "3  good food  no stress  \n",
       "4   Sunshine  Good Food  "
      ]
     },
     "execution_count": 40,
     "metadata": {},
     "output_type": "execute_result"
    }
   ],
   "source": [
    "data.head()"
   ]
  },
  {
   "cell_type": "markdown",
   "metadata": {},
   "source": [
    "## data[\"money\"]"
   ]
  },
  {
   "cell_type": "code",
   "execution_count": 41,
   "metadata": {},
   "outputs": [
    {
     "data": {
      "text/plain": [
       "array(['5', '1', '100', '1000', '0.1', '10', '100 / the number of people',\n",
       "       '87', '1/n', '0', 'at least 10', '5€', '55',\n",
       "       'The price of Febo kroketje', '99', '30', '0,5', 'A lot', '20',\n",
       "       '2', '1 cent', '200', '0.60', '77', '5 euros :))', 'Billion',\n",
       "       '10 cents', '100/100', '80', '50 euros', '28052', '69',\n",
       "       'An appropriate amount', '3.50', '(100/627)~0.157', 'a lot',\n",
       "       'I prefer not holding competitions and receiving money everone',\n",
       "       '1000000', '12', '1 million euros', '50', '500', '100000',\n",
       "       'You don’t owe me anything ', '100/n', '70', '24.99', '100 euros',\n",
       "       '7', '25', '10eur', '66', '69,69', 'I deserve everything', '0.6',\n",
       "       '0.10', '0.16', 'What?', 'IDK', '0.15', '23', '35',\n",
       "       '100/#people taking the course', '88', '0,00006',\n",
       "       'At least half 😎', '0,16', '6', '0.50', '60', '0.16 ', nan,\n",
       "       '10 euros', '6 cents', 'equal', '40', None,\n",
       "       'If I win the the competition I feel like I deserve the total amount. Otherwise 1/the group',\n",
       "       '3', '0.5', '100/624=0.16', '4,2', '-2', '125', '33', '0.20',\n",
       "       '0,2', '13', '0.25€', 'Definately',\n",
       "       '100 euros divided over 600 students. 0.6 euros',\n",
       "       '5 euro to buy previously mentioned chocolate', '0.25 cents',\n",
       "       '110', '1 euro', '8', 'yo', '85', '75', '2.5',\n",
       "       \"i don't understand\", '15', \"I don't understand the question\",\n",
       "       'Sixty at least', '0.4€',\n",
       "       '100/n (n=number of Data-Mining students)', '98', '101',\n",
       "       'I will pretend to be a communist, 100/600',\n",
       "       'More than the even share'], dtype=object)"
      ]
     },
     "execution_count": 41,
     "metadata": {},
     "output_type": "execute_result"
    }
   ],
   "source": [
    "data[\"money\"].unique()"
   ]
  },
  {
   "cell_type": "code",
   "execution_count": 42,
   "metadata": {},
   "outputs": [
    {
     "data": {
      "text/plain": [
       "55"
      ]
     },
     "execution_count": 42,
     "metadata": {},
     "output_type": "execute_result"
    }
   ],
   "source": [
    "data['money'] = pd.to_numeric(data['money'], errors='coerce').astype(float)\n",
    "sum(data['money'].isna())"
   ]
  },
  {
   "cell_type": "code",
   "execution_count": 43,
   "metadata": {},
   "outputs": [],
   "source": [
    "data['money'][data['money'] < 0] = 0.0\n",
    "data['money'][data['money'] > 100] = 100.0 # since the max given money is 100\n",
    "\n",
    "tmp_data = data['money'].dropna()\n",
    "mean = int(np.mean(tmp_data))\n",
    "\n",
    "data['money'] = data['money'].fillna(mean)"
   ]
  },
  {
   "cell_type": "code",
   "execution_count": 44,
   "metadata": {},
   "outputs": [
    {
     "data": {
      "text/plain": [
       "0"
      ]
     },
     "execution_count": 44,
     "metadata": {},
     "output_type": "execute_result"
    }
   ],
   "source": [
    "sum(data['money'].isna())"
   ]
  },
  {
   "cell_type": "code",
   "execution_count": 45,
   "metadata": {},
   "outputs": [
    {
     "data": {
      "text/plain": [
       "0      5.0\n",
       "1      1.0\n",
       "2    100.0\n",
       "3    100.0\n",
       "4    100.0\n",
       "Name: money, dtype: float64"
      ]
     },
     "execution_count": 45,
     "metadata": {},
     "output_type": "execute_result"
    }
   ],
   "source": [
    "data['money'].head()"
   ]
  },
  {
   "cell_type": "markdown",
   "metadata": {},
   "source": [
    "## data['stress_level']"
   ]
  },
  {
   "cell_type": "code",
   "execution_count": 46,
   "metadata": {},
   "outputs": [
    {
     "data": {
      "text/plain": [
       "array(['0', '200', '20', '2', '48', '100', '50', '60', '5000', '65', '70',\n",
       "       'over 9000', '98', '34', '15', '1000', '10', '90', '1', '56', '69',\n",
       "       '79', '33', '80', '40', '45', '7', '101', '5', '88', '75', '99',\n",
       "       '30', '999', '1E+22', '42', '61', '89', 'yes.', '150', 'Over 9000',\n",
       "       '44', '3', 'Next question', '14', 'yes', '68', '22', '-69', '47',\n",
       "       '36', '12', '85', '55', '23', '7.5', '11', '59', '25', '37', '102',\n",
       "       '29', '72', '77', '32', '81', '-100', '19', '66', '87', '45.8',\n",
       "       'Fifty', '38', 'private matters', '62', '9', '666'], dtype=object)"
      ]
     },
     "execution_count": 46,
     "metadata": {},
     "output_type": "execute_result"
    }
   ],
   "source": [
    "data['stress_level'].unique()"
   ]
  },
  {
   "cell_type": "code",
   "execution_count": 47,
   "metadata": {},
   "outputs": [
    {
     "data": {
      "text/plain": [
       "7"
      ]
     },
     "execution_count": 47,
     "metadata": {},
     "output_type": "execute_result"
    }
   ],
   "source": [
    "data['stress_level'] = pd.to_numeric(data['stress_level'], errors='coerce').astype(float)\n",
    "sum(data['stress_level'].isna())"
   ]
  },
  {
   "cell_type": "code",
   "execution_count": 48,
   "metadata": {},
   "outputs": [],
   "source": [
    "data['stress_level'][data['stress_level'] < 0] = 0  # since the min limit money is 0\n",
    "data['stress_level'][data['stress_level'] > 100] = 100 # since the max limit is 100\n",
    "\n",
    "tmp_data = data['stress_level'].dropna()\n",
    "mean = int(np.mean(tmp_data))\n",
    "\n",
    "data['stress_level'] = data['stress_level'].fillna(mean)"
   ]
  },
  {
   "cell_type": "code",
   "execution_count": 49,
   "metadata": {},
   "outputs": [
    {
     "data": {
      "text/plain": [
       "array([  0. , 100. ,  20. ,   2. ,  48. ,  50. ,  60. ,  65. ,  70. ,\n",
       "        98. ,  34. ,  15. ,  10. ,  90. ,   1. ,  56. ,  69. ,  79. ,\n",
       "        33. ,  80. ,  40. ,  45. ,   7. ,   5. ,  88. ,  75. ,  99. ,\n",
       "        30. ,  42. ,  61. ,  89. ,  44. ,   3. ,  14. ,  68. ,  22. ,\n",
       "        47. ,  36. ,  12. ,  85. ,  55. ,  23. ,   7.5,  11. ,  59. ,\n",
       "        25. ,  37. ,  29. ,  72. ,  77. ,  32. ,  81. ,  19. ,  66. ,\n",
       "        87. ,  45.8,  38. ,  62. ,   9. ])"
      ]
     },
     "execution_count": 49,
     "metadata": {},
     "output_type": "execute_result"
    }
   ],
   "source": [
    "data['stress_level'].unique()"
   ]
  },
  {
   "cell_type": "markdown",
   "metadata": {},
   "source": [
    "## data['time_yesterday']"
   ]
  },
  {
   "cell_type": "code",
   "execution_count": 50,
   "metadata": {},
   "outputs": [
    {
     "name": "stdout",
     "output_type": "stream",
     "text": [
      "['23:00' '32' 'x' '14:00' '07:20' '2130' '00:35' '23' '12 hours' 'Banana'\n",
      " '00:00' 'to be?' '12:00' '4 years ago' 'noon' '12:55' '12' '20:00'\n",
      " 'definitely 7' '03:00' 'Ja' '2.30AM' 'Yellow' '23:32' '?' '23.30' '12:30'\n",
      " '90' '5' 'What?' '01.30' '1:34' '09:00' 'midnight' 'huh' 'Yesterday' '11'\n",
      " '23:30' '1' '0200' 'Today' 'Haha' '4' '01:00' '10:00 pm' '23:45' '24'\n",
      " '12.00' 'Yes' nan '00:34' '13:15' '7' 'Gym' '2.00' '22:30' '15:30' 'yes'\n",
      " '11pm' '2 am' '2300' '0530 am' '13:12' '01.00' \"4 o' clock\" '4:35' '2:00'\n",
      " 'Wot' '10:45' '20.09' '10' '22:00' '12:45' '6 am' '7 hours' '12.15' 'Ω'\n",
      " '9.00 am' 'I do not know' '10:00' '00:45' '11.30pm' '6' '10:21:39' '4:20'\n",
      " 'idk' '00:55' 'today' '0100' '01:30' '21:20' '2am' '45' '3AM'\n",
      " 'Dizzy Miss Lizzy was a terrible song to end Help! with' '02:20' '1.00'\n",
      " '23:40' '05:00' '1am' '00' '20.30' '2:30' '11:30' '11:45' '00:40' '00:15'\n",
      " '7:00' '00:07' '23pm' '4:15' '4am' '01:53' '0:00' '1 am' '23:15' '00.20'\n",
      " '0:15h' '4.30' '12 am' '2230' '06:00' '21:43' '23.45' '00:12' '2:00am'\n",
      " '9 AM' '02:00' '22.30' '23:28' '5:30' '2' '8 pm' '22:09' '00:30' '23:50'\n",
      " '00:25' '23;00' '12.30' '23.34' 'To be or not to be?' '2:34' '3' '1:30'\n",
      " '1:00' '15.00' '0:37' '3am' '5:00 PM' '22:22' '01 AM' '22.00' ':)' '??'\n",
      " '23:56' 'about 1am' '9:00' '0' '11:00 PM' '3:00' '1:30 AM' '1:45' '9'\n",
      " '11:50pm' \"00:30 o'clock\" '0:30' '12:44' '13:30' '2350' '02h00'\n",
      " '6 hours, plenty' None '11.20' 'what?' '1:30AM' '2.30' '555' '04:00 AM']\n"
     ]
    }
   ],
   "source": [
    "print(data['time_yesterday'].unique())\n"
   ]
  },
  {
   "cell_type": "code",
   "execution_count": 51,
   "metadata": {},
   "outputs": [],
   "source": [
    "data['time_yesterday'] = pd.to_numeric(data['time_yesterday'], errors='coerce').astype(float)\n",
    "data['time_yesterday'].unique()\n",
    "\n",
    "tmp_data = data['time_yesterday'].dropna()\n",
    "mean = int(np.mean(tmp_data))\n",
    "data['time_yesterday'] = data['time_yesterday'].fillna(mean)"
   ]
  },
  {
   "cell_type": "code",
   "execution_count": 52,
   "metadata": {},
   "outputs": [
    {
     "data": {
      "text/plain": [
       "array([1.540e+02, 3.200e+01, 2.130e+03, 2.300e+01, 1.200e+01, 2.330e+01,\n",
       "       9.000e+01, 5.000e+00, 1.300e+00, 1.100e+01, 1.000e+00, 2.000e+02,\n",
       "       4.000e+00, 2.400e+01, 7.000e+00, 2.000e+00, 2.300e+03, 2.009e+01,\n",
       "       1.000e+01, 1.215e+01, 6.000e+00, 1.000e+02, 4.500e+01, 0.000e+00,\n",
       "       2.030e+01, 2.000e-01, 4.300e+00, 2.230e+03, 2.345e+01, 2.230e+01,\n",
       "       1.230e+01, 2.334e+01, 3.000e+00, 1.500e+01, 2.200e+01, 9.000e+00,\n",
       "       2.350e+03, 1.120e+01, 2.300e+00, 5.550e+02])"
      ]
     },
     "execution_count": 52,
     "metadata": {},
     "output_type": "execute_result"
    }
   ],
   "source": [
    "data['time_yesterday'].unique()"
   ]
  },
  {
   "cell_type": "code",
   "execution_count": 53,
   "metadata": {},
   "outputs": [
    {
     "data": {
      "text/plain": [
       "0      6 days 10:00:00\n",
       "1      1 days 08:00:00\n",
       "2      6 days 10:00:00\n",
       "3      6 days 10:00:00\n",
       "4      6 days 10:00:00\n",
       "            ...       \n",
       "299    0 days 05:00:00\n",
       "300    0 days 09:00:00\n",
       "301   23 days 03:00:00\n",
       "302    0 days 00:00:00\n",
       "303    6 days 10:00:00\n",
       "Name: date, Length: 304, dtype: timedelta64[ns]"
      ]
     },
     "execution_count": 53,
     "metadata": {},
     "output_type": "execute_result"
    }
   ],
   "source": [
    "data['date'] = [\"2022-04-05\"] * len(data['time_yesterday'])\n",
    "#data['date'] = data['date'] + pd.to_timedelta(data['time_yesterday'], unit='h',errors='coerce')\n",
    "data['date'] =pd.to_timedelta(data['time_yesterday'], unit='h',errors='coerce')\n",
    "data['date']\n",
    "#data['date'] = pd.concat([data['date'], data['time_yesterday']], axis=1)"
   ]
  },
  {
   "cell_type": "code",
   "execution_count": 54,
   "metadata": {},
   "outputs": [],
   "source": [
    "data['time_yesterday'] = data['date'].apply(\n",
    "    lambda x: f'{x.components.hours:02d}:{x.components.minutes:02d}:{x.components.seconds:02d}'\n",
    "              if not pd.isnull(x) else ''\n",
    ")"
   ]
  },
  {
   "cell_type": "code",
   "execution_count": 55,
   "metadata": {},
   "outputs": [
    {
     "data": {
      "text/plain": [
       "array(['10:00:00', '08:00:00', '18:00:00', '23:00:00', '12:00:00',\n",
       "       '23:18:00', '05:00:00', '01:18:00', '11:00:00', '01:00:00',\n",
       "       '04:00:00', '00:00:00', '07:00:00', '02:00:00', '20:00:00',\n",
       "       '20:05:24', '12:09:00', '06:00:00', '21:00:00', '20:18:00',\n",
       "       '00:12:00', '04:18:00', '22:00:00', '23:27:00', '22:18:00',\n",
       "       '12:18:00', '23:20:24', '03:00:00', '15:00:00', '09:00:00',\n",
       "       '11:12:00', '02:18:00'], dtype=object)"
      ]
     },
     "execution_count": 55,
     "metadata": {},
     "output_type": "execute_result"
    }
   ],
   "source": [
    "data['time_yesterday'].unique()"
   ]
  },
  {
   "cell_type": "code",
   "execution_count": 56,
   "metadata": {},
   "outputs": [
    {
     "data": {
      "text/plain": [
       "30    10:00:00\n",
       "31    18:00:00\n",
       "32    23:00:00\n",
       "33    05:00:00\n",
       "34    05:00:00\n",
       "35    10:00:00\n",
       "36    10:00:00\n",
       "37    01:18:00\n",
       "38    10:00:00\n",
       "39    10:00:00\n",
       "Name: time_yesterday, dtype: object"
      ]
     },
     "execution_count": 56,
     "metadata": {},
     "output_type": "execute_result"
    }
   ],
   "source": [
    "data['time_yesterday'][30:40]"
   ]
  },
  {
   "cell_type": "code",
   "execution_count": 57,
   "metadata": {},
   "outputs": [
    {
     "data": {
      "text/html": [
       "<div>\n",
       "<style scoped>\n",
       "    .dataframe tbody tr th:only-of-type {\n",
       "        vertical-align: middle;\n",
       "    }\n",
       "\n",
       "    .dataframe tbody tr th {\n",
       "        vertical-align: top;\n",
       "    }\n",
       "\n",
       "    .dataframe thead th {\n",
       "        text-align: right;\n",
       "    }\n",
       "</style>\n",
       "<table border=\"1\" class=\"dataframe\">\n",
       "  <thead>\n",
       "    <tr style=\"text-align: right;\">\n",
       "      <th></th>\n",
       "      <th>timestamp</th>\n",
       "      <th>programme</th>\n",
       "      <th>ml_course</th>\n",
       "      <th>ir_course</th>\n",
       "      <th>stat_course</th>\n",
       "      <th>db_course</th>\n",
       "      <th>gender</th>\n",
       "      <th>chocolate</th>\n",
       "      <th>birth_date</th>\n",
       "      <th>neighbours</th>\n",
       "      <th>standed_up</th>\n",
       "      <th>stress_level</th>\n",
       "      <th>money</th>\n",
       "      <th>rand_num</th>\n",
       "      <th>time_yesterday</th>\n",
       "      <th>good_day</th>\n",
       "      <th>good_day2</th>\n",
       "    </tr>\n",
       "  </thead>\n",
       "  <tbody>\n",
       "    <tr>\n",
       "      <th>0</th>\n",
       "      <td>4-5-2022 12:12:07</td>\n",
       "      <td>artificial intelligence</td>\n",
       "      <td>1.0</td>\n",
       "      <td>0.0</td>\n",
       "      <td>1.0</td>\n",
       "      <td>1.0</td>\n",
       "      <td>female</td>\n",
       "      <td>neither</td>\n",
       "      <td>02.05.1998</td>\n",
       "      <td>0</td>\n",
       "      <td>0.0</td>\n",
       "      <td>0.0</td>\n",
       "      <td>5.0</td>\n",
       "      <td>888</td>\n",
       "      <td>10:00:00</td>\n",
       "      <td>coffee</td>\n",
       "      <td>sun</td>\n",
       "    </tr>\n",
       "    <tr>\n",
       "      <th>1</th>\n",
       "      <td>4-5-2022 12:12:07</td>\n",
       "      <td>big data</td>\n",
       "      <td>1.0</td>\n",
       "      <td>0.0</td>\n",
       "      <td>1.0</td>\n",
       "      <td>1.0</td>\n",
       "      <td>male</td>\n",
       "      <td>fat</td>\n",
       "      <td>29-02-2000</td>\n",
       "      <td>0</td>\n",
       "      <td>1.0</td>\n",
       "      <td>100.0</td>\n",
       "      <td>1.0</td>\n",
       "      <td>12</td>\n",
       "      <td>08:00:00</td>\n",
       "      <td>7777</td>\n",
       "      <td>8964</td>\n",
       "    </tr>\n",
       "    <tr>\n",
       "      <th>2</th>\n",
       "      <td>4-5-2022 12:12:09</td>\n",
       "      <td>Computational  Science</td>\n",
       "      <td>1.0</td>\n",
       "      <td>1.0</td>\n",
       "      <td>1.0</td>\n",
       "      <td>0.0</td>\n",
       "      <td>male</td>\n",
       "      <td>fat</td>\n",
       "      <td>29-06-1998</td>\n",
       "      <td>1</td>\n",
       "      <td>0.0</td>\n",
       "      <td>0.0</td>\n",
       "      <td>100.0</td>\n",
       "      <td>9</td>\n",
       "      <td>10:00:00</td>\n",
       "      <td>0</td>\n",
       "      <td>0</td>\n",
       "    </tr>\n",
       "    <tr>\n",
       "      <th>3</th>\n",
       "      <td>4-5-2022 12:12:09</td>\n",
       "      <td>Bioinformatics and Systems Biology</td>\n",
       "      <td>1.0</td>\n",
       "      <td>0.0</td>\n",
       "      <td>NaN</td>\n",
       "      <td>1.0</td>\n",
       "      <td>male</td>\n",
       "      <td>neither</td>\n",
       "      <td>11/05/97</td>\n",
       "      <td>0</td>\n",
       "      <td>0.0</td>\n",
       "      <td>20.0</td>\n",
       "      <td>100.0</td>\n",
       "      <td>31</td>\n",
       "      <td>10:00:00</td>\n",
       "      <td>good food</td>\n",
       "      <td>no stress</td>\n",
       "    </tr>\n",
       "    <tr>\n",
       "      <th>4</th>\n",
       "      <td>4-5-2022 12:12:15</td>\n",
       "      <td>AI</td>\n",
       "      <td>1.0</td>\n",
       "      <td>1.0</td>\n",
       "      <td>1.0</td>\n",
       "      <td>0.0</td>\n",
       "      <td>male</td>\n",
       "      <td>fat</td>\n",
       "      <td>03-10-1997</td>\n",
       "      <td>0</td>\n",
       "      <td>0.0</td>\n",
       "      <td>2.0</td>\n",
       "      <td>100.0</td>\n",
       "      <td>86</td>\n",
       "      <td>10:00:00</td>\n",
       "      <td>Sunshine</td>\n",
       "      <td>Good Food</td>\n",
       "    </tr>\n",
       "  </tbody>\n",
       "</table>\n",
       "</div>"
      ],
      "text/plain": [
       "           timestamp                           programme  ml_course  \\\n",
       "0  4-5-2022 12:12:07             artificial intelligence        1.0   \n",
       "1  4-5-2022 12:12:07                            big data        1.0   \n",
       "2  4-5-2022 12:12:09              Computational  Science        1.0   \n",
       "3  4-5-2022 12:12:09  Bioinformatics and Systems Biology        1.0   \n",
       "4  4-5-2022 12:12:15                                  AI        1.0   \n",
       "\n",
       "   ir_course  stat_course  db_course  gender chocolate  birth_date  \\\n",
       "0        0.0          1.0        1.0  female   neither  02.05.1998   \n",
       "1        0.0          1.0        1.0    male       fat  29-02-2000   \n",
       "2        1.0          1.0        0.0    male       fat  29-06-1998   \n",
       "3        0.0          NaN        1.0    male   neither    11/05/97   \n",
       "4        1.0          1.0        0.0    male       fat  03-10-1997   \n",
       "\n",
       "   neighbours  standed_up  stress_level  money rand_num time_yesterday  \\\n",
       "0           0         0.0           0.0    5.0      888       10:00:00   \n",
       "1           0         1.0         100.0    1.0       12       08:00:00   \n",
       "2           1         0.0           0.0  100.0        9       10:00:00   \n",
       "3           0         0.0          20.0  100.0       31       10:00:00   \n",
       "4           0         0.0           2.0  100.0       86       10:00:00   \n",
       "\n",
       "    good_day  good_day2  \n",
       "0     coffee        sun  \n",
       "1       7777       8964  \n",
       "2          0          0  \n",
       "3  good food  no stress  \n",
       "4   Sunshine  Good Food  "
      ]
     },
     "execution_count": 57,
     "metadata": {},
     "output_type": "execute_result"
    }
   ],
   "source": [
    "data = data.drop([\"date\"],axis=1)\n",
    "data.head()"
   ]
  },
  {
   "cell_type": "code",
   "execution_count": 58,
   "metadata": {},
   "outputs": [
    {
     "name": "stdout",
     "output_type": "stream",
     "text": [
      "<class 'pandas.core.frame.DataFrame'>\n",
      "RangeIndex: 304 entries, 0 to 303\n",
      "Data columns (total 17 columns):\n",
      " #   Column          Non-Null Count  Dtype  \n",
      "---  ------          --------------  -----  \n",
      " 0   timestamp       304 non-null    object \n",
      " 1   programme       304 non-null    object \n",
      " 2   ml_course       297 non-null    float64\n",
      " 3   ir_course       277 non-null    float64\n",
      " 4   stat_course     276 non-null    float64\n",
      " 5   db_course       297 non-null    float64\n",
      " 6   gender          304 non-null    object \n",
      " 7   chocolate       298 non-null    object \n",
      " 8   birth_date      304 non-null    object \n",
      " 9   neighbours      304 non-null    Int64  \n",
      " 10  standed_up      278 non-null    float64\n",
      " 11  stress_level    304 non-null    float64\n",
      " 12  money           304 non-null    float64\n",
      " 13  rand_num        304 non-null    object \n",
      " 14  time_yesterday  304 non-null    object \n",
      " 15  good_day        303 non-null    object \n",
      " 16  good_day2       302 non-null    object \n",
      "dtypes: Int64(1), float64(7), object(9)\n",
      "memory usage: 40.8+ KB\n"
     ]
    }
   ],
   "source": [
    "data.info()"
   ]
  },
  {
   "cell_type": "markdown",
   "metadata": {},
   "source": [
    "## data['birth_date']"
   ]
  },
  {
   "cell_type": "code",
   "execution_count": 59,
   "metadata": {},
   "outputs": [],
   "source": [
    "#data['birth_date'].unique()"
   ]
  },
  {
   "cell_type": "code",
   "execution_count": 60,
   "metadata": {},
   "outputs": [
    {
     "data": {
      "text/plain": [
       "array(['02/05/1998', '29/02/2000', '29/06/1998', '11/05/97', '03/10/1997',\n",
       "       '28', '15/10/98', '17 November', '1995', '21/07/2000',\n",
       "       '29/05/1998', '05/03', '0102', '19/10/1982', '22/02/1999', '23/7',\n",
       "       'august', '11/11/1999', '22/04/1994', '30/01/1997', '1999/08/23',\n",
       "       '10/07/1998', '03/11/1995', '08/05/1998', 'Ah', '30/03/1998',\n",
       "       '01/09/1998', '07/09/1997', '02/07/1997', '19/06/1998', '26/08/97',\n",
       "       '1999', '1/1/1900', '01/04/2022', '14/05/1996', 'March 9/ 1995',\n",
       "       '2/18', '02/11/1996', '02/10/1998', '09/06/1998', '12 july',\n",
       "       '27/06/1998', '/600 BC', '10/06/1998', '30/08/1997', '01/01',\n",
       "       '09/04/1997', 'January 1 1997', '22/07/1992', '03/04/2000',\n",
       "       '07/09/1999', '30/08/1999', '15/03/2000', '24/06/1998',\n",
       "       '15/02/1974', '24/9', '4', '19/10/1998', '13/07', '19/02/1998',\n",
       "       '08/08/1997', '23 December ', '28/07/1997',\n",
       "       'fifteenth of december nineteenhundredninetyfive', '19971205',\n",
       "       '01/01/2001', 'december 9th', '1999/7/12', '12/09/1999',\n",
       "       '06/12/1994', '20/08/1999', '06/12/1997', '10/07/1995',\n",
       "       '06/09/1997', '03/03/1997', '18 of January ', '25/04/2001',\n",
       "       '20/11/1998', 'July 23', '20/03/1998', '20', '19/05/1996',\n",
       "       '02/11/1896', '13/02/2001', '1999/1/24', '04/04/1999',\n",
       "       '1997/03/01', 'Oct 11', '6/9/420', '31/5/2000', '11 October',\n",
       "       '01/01/1900', '27/03/1998', '6 May ', '04/08/1998', '16/08',\n",
       "       '13/03', '11/13', '08/06/1999', '01/12/1982', '21/10/2000',\n",
       "       '11/03/98', '4/20/1969', '25/10/1998', '4/22', '08/03/1999',\n",
       "       '11/02/1999', '13/10/95', '1997/04/03', '22/11/1998', '26/05',\n",
       "       '07/04/1998', '04/09/1997', '20/10/1996', '01/01/1998',\n",
       "       '25/03/1999', 'Qwerty/keyboard', '9/2', '01/01/2000', '08/08/1998',\n",
       "       '11/11/1995', '26/09/1998', '29/04/1991', '25/12', '18/12/1997',\n",
       "       '08/07/1997', '12/04/2000', '2000', '27/11', '24/02/1997',\n",
       "       '26/04/1996', '1/09', '17/08/1998', '22/07/1999', '30/10/1997',\n",
       "       '04/25/1997', '30/21/1057', '16/02/1998', '02/04/1996',\n",
       "       '18/03/1996', '22/05/1996', '23/6', '11/10/1999',\n",
       "       'somewhere between Januari and December', '31 October',\n",
       "       '05/04/1998', '23/11/1996', '16/07/1998', '19/10/1997',\n",
       "       '23th of June', '29 Nov', '1 September', '18/04/1998',\n",
       "       '20 december', '12/11/1996', '19 June ', '19/04/1999', 'June 5th',\n",
       "       '21/04/1995', '11/11', '16/10/1998', '16/07/1994', '08/10/1999',\n",
       "       '14/04/1999', '18/02/1999', '13/07/1998', '22/10/1998', '15/01',\n",
       "       '12/10 /1998', 'August 3rd', '18/06/1999', '15081995',\n",
       "       '31/12/1999', '27/04/1997', '06/07/1997', '11/11/1900',\n",
       "       '12/12/1996', '03/06/1996', '27/01/1998', '26/02/1999', '1102',\n",
       "       '1996', '01/10/1996', 'may the 4th be with you', '15/07/1999',\n",
       "       '18/08', '19/03/1995', '29/03', '24/08/1996', '21/06/1997',\n",
       "       '02/07/1999', '12/10/1994', '27/08/1998', '06/17/1997', '1/1/1111',\n",
       "       '01/04', '12/11/1998', '12/03/2004', '16 dec', '28/08/1999',\n",
       "       '13/01/1997', '1990', '09/08', '08/12/1998', \"21'12'1995\",\n",
       "       'Yesterday', '17/10/2000', '12/07/1991', '12/12/1997',\n",
       "       '13/08/1999', '1997', '7/11/1997', '01/01/91', '05/02/98',\n",
       "       '09/03/1999', '1999/08/27', '11041995', '01/10/1998', '20may',\n",
       "       '18/07/2000', '01/05/1994', '15/07/1993', '13/04/1999', '24/12',\n",
       "       '14/07', '05/06/1998', '20/01/1995', 'Today', '04/11',\n",
       "       '21/08/1996', '10th December', '01/08/1995', '08/12/1997',\n",
       "       '14/06/1999', '18/12/1992', '14/11/1997', '23/04/1998',\n",
       "       '11/09/1997', '03 Feb 1999', '07 June', '11th', 'is prive',\n",
       "       '1989/9/2', '16/08/1998', 'May 15th', '20 December', '31/5',\n",
       "       '33th', '03/08/1999', '2nd July', '27/10', '24/04/1996',\n",
       "       '17/02/1996', '02/22/2222', '25/02/98', '02/06/1996', '15/6/1998',\n",
       "       '18/08/1999', '12/05/2001', '10/11/97', 'Somewhere in May',\n",
       "       '29/11', '14 Feb 1982', '03/02/2000', '11/06/1997', '32/12',\n",
       "       '3/3/2000', '16/7/2022', '29th of April 2001', '19/01', '1/2/2003',\n",
       "       '11/01/1996', '7 february', '16/10/1990', '6/9', '29/04/1998',\n",
       "       '28/03', '9th April 1999', '23/05/1998', '20/09/1995', '17/06/98',\n",
       "       '29/07/1998', '04/01/1997', 'not willing to tell', '1996/08/22',\n",
       "       '23rd January', '11/03', 'June', '13', '1/1/1956', '9',\n",
       "       '17/07/1995', '17', '12/05/1998'], dtype=object)"
      ]
     },
     "execution_count": 60,
     "metadata": {},
     "output_type": "execute_result"
    }
   ],
   "source": [
    "for i in range(0,len(data['birth_date'])):\n",
    "    data['birth_date'][i] = data['birth_date'][i].translate ({ord(c): \"/\" for c in \"!@#$%^&*()[]{};:,.<>?\\|`~-=_+\"})\n",
    "\n",
    "data['birth_date'].unique()"
   ]
  },
  {
   "cell_type": "code",
   "execution_count": 61,
   "metadata": {},
   "outputs": [
    {
     "data": {
      "text/plain": [
       "array(['02/05/1998', '29/02/2000', '29/06/1998', nan, '03/10/1997',\n",
       "       '21/07/2000', '29/05/1998', '19/10/1982', '22/02/1999',\n",
       "       '11/11/1999', '22/04/1994', '30/01/1997', '10/07/1998',\n",
       "       '03/11/1995', '08/05/1998', '30/03/1998', '01/09/1998',\n",
       "       '07/09/1997', '02/07/1997', '19/06/1998', '01/01/1900',\n",
       "       '01/04/2022', '14/05/1996', '02/11/1996', '02/10/1998',\n",
       "       '09/06/1998', '27/06/1998', '10/06/1998', '30/08/1997',\n",
       "       '09/04/1997', '22/07/1992', '03/04/2000', '07/09/1999',\n",
       "       '30/08/1999', '15/03/2000', '24/06/1998', '15/02/1974',\n",
       "       '19/10/1998', '19/02/1998', '08/08/1997', '28/07/1997',\n",
       "       '01/01/2001', '12/09/1999', '06/12/1994', '20/08/1999',\n",
       "       '06/12/1997', '10/07/1995', '06/09/1997', '03/03/1997',\n",
       "       '25/04/2001', '20/11/1998', '20/03/1998', '19/05/1996',\n",
       "       '02/11/1896', '13/02/2001', '04/04/1999', '31/05/2000',\n",
       "       '27/03/1998', '04/08/1998', '08/06/1999', '01/12/1982',\n",
       "       '21/10/2000', '25/10/1998', '08/03/1999', '11/02/1999',\n",
       "       '22/11/1998', '07/04/1998', '04/09/1997', '20/10/1996',\n",
       "       '01/01/1998', '25/03/1999', '01/01/2000', '08/08/1998',\n",
       "       '11/11/1995', '26/09/1998', '29/04/1991', '18/12/1997',\n",
       "       '08/07/1997', '12/04/2000', '24/02/1997', '26/04/1996',\n",
       "       '17/08/1998', '22/07/1999', '30/10/1997', '16/02/1998',\n",
       "       '02/04/1996', '18/03/1996', '22/05/1996', '11/10/1999',\n",
       "       '05/04/1998', '23/11/1996', '16/07/1998', '19/10/1997',\n",
       "       '18/04/1998', '12/11/1996', '19/04/1999', '21/04/1995',\n",
       "       '16/10/1998', '16/07/1994', '08/10/1999', '14/04/1999',\n",
       "       '18/02/1999', '13/07/1998', '22/10/1998', '18/06/1999',\n",
       "       '31/12/1999', '27/04/1997', '06/07/1997', '11/11/1900',\n",
       "       '12/12/1996', '03/06/1996', '27/01/1998', '26/02/1999',\n",
       "       '01/10/1996', '15/07/1999', '19/03/1995', '24/08/1996',\n",
       "       '21/06/1997', '02/07/1999', '12/10/1994', '27/08/1998',\n",
       "       '12/11/1998', '12/03/2004', '28/08/1999', '13/01/1997',\n",
       "       '08/12/1998', '17/10/2000', '12/07/1991', '12/12/1997',\n",
       "       '13/08/1999', '07/11/1997', '09/03/1999', '01/10/1998',\n",
       "       '18/07/2000', '01/05/1994', '15/07/1993', '13/04/1999',\n",
       "       '05/06/1998', '20/01/1995', '21/08/1996', '01/08/1995',\n",
       "       '08/12/1997', '14/06/1999', '18/12/1992', '14/11/1997',\n",
       "       '23/04/1998', '11/09/1997', '16/08/1998', '03/08/1999',\n",
       "       '24/04/1996', '17/02/1996', '02/06/1996', '15/06/1998',\n",
       "       '18/08/1999', '12/05/2001', '03/02/2000', '11/06/1997',\n",
       "       '03/03/2000', '16/07/2022', '01/02/2003', '11/01/1996',\n",
       "       '16/10/1990', '29/04/1998', '23/05/1998', '20/09/1995',\n",
       "       '29/07/1998', '04/01/1997', '01/01/1956', '17/07/1995',\n",
       "       '12/05/1998'], dtype=object)"
      ]
     },
     "execution_count": 61,
     "metadata": {},
     "output_type": "execute_result"
    }
   ],
   "source": [
    "data['birth_date'] = pd.to_datetime(data['birth_date'],format='%d/%m/%Y', errors='coerce')\n",
    "data['birth_date'] = data['birth_date'].dt.strftime('%d/%m/%Y')\n",
    "data['birth_date'].unique()"
   ]
  },
  {
   "cell_type": "code",
   "execution_count": 62,
   "metadata": {},
   "outputs": [
    {
     "data": {
      "text/plain": [
       "126"
      ]
     },
     "execution_count": 62,
     "metadata": {},
     "output_type": "execute_result"
    }
   ],
   "source": [
    "sum(data['birth_date'].isna())"
   ]
  },
  {
   "cell_type": "code",
   "execution_count": 63,
   "metadata": {},
   "outputs": [
    {
     "data": {
      "text/html": [
       "<div>\n",
       "<style scoped>\n",
       "    .dataframe tbody tr th:only-of-type {\n",
       "        vertical-align: middle;\n",
       "    }\n",
       "\n",
       "    .dataframe tbody tr th {\n",
       "        vertical-align: top;\n",
       "    }\n",
       "\n",
       "    .dataframe thead th {\n",
       "        text-align: right;\n",
       "    }\n",
       "</style>\n",
       "<table border=\"1\" class=\"dataframe\">\n",
       "  <thead>\n",
       "    <tr style=\"text-align: right;\">\n",
       "      <th></th>\n",
       "      <th>timestamp</th>\n",
       "      <th>programme</th>\n",
       "      <th>ml_course</th>\n",
       "      <th>ir_course</th>\n",
       "      <th>stat_course</th>\n",
       "      <th>db_course</th>\n",
       "      <th>gender</th>\n",
       "      <th>chocolate</th>\n",
       "      <th>birth_date</th>\n",
       "      <th>neighbours</th>\n",
       "      <th>standed_up</th>\n",
       "      <th>stress_level</th>\n",
       "      <th>money</th>\n",
       "      <th>rand_num</th>\n",
       "      <th>time_yesterday</th>\n",
       "      <th>good_day</th>\n",
       "      <th>good_day2</th>\n",
       "    </tr>\n",
       "  </thead>\n",
       "  <tbody>\n",
       "    <tr>\n",
       "      <th>0</th>\n",
       "      <td>4-5-2022 12:12:07</td>\n",
       "      <td>artificial intelligence</td>\n",
       "      <td>1.0</td>\n",
       "      <td>0.0</td>\n",
       "      <td>1.0</td>\n",
       "      <td>1.0</td>\n",
       "      <td>female</td>\n",
       "      <td>neither</td>\n",
       "      <td>02/05/1998</td>\n",
       "      <td>0</td>\n",
       "      <td>0.0</td>\n",
       "      <td>0.0</td>\n",
       "      <td>5.0</td>\n",
       "      <td>888</td>\n",
       "      <td>10:00:00</td>\n",
       "      <td>coffee</td>\n",
       "      <td>sun</td>\n",
       "    </tr>\n",
       "    <tr>\n",
       "      <th>1</th>\n",
       "      <td>4-5-2022 12:12:07</td>\n",
       "      <td>big data</td>\n",
       "      <td>1.0</td>\n",
       "      <td>0.0</td>\n",
       "      <td>1.0</td>\n",
       "      <td>1.0</td>\n",
       "      <td>male</td>\n",
       "      <td>fat</td>\n",
       "      <td>29/02/2000</td>\n",
       "      <td>0</td>\n",
       "      <td>1.0</td>\n",
       "      <td>100.0</td>\n",
       "      <td>1.0</td>\n",
       "      <td>12</td>\n",
       "      <td>08:00:00</td>\n",
       "      <td>7777</td>\n",
       "      <td>8964</td>\n",
       "    </tr>\n",
       "    <tr>\n",
       "      <th>2</th>\n",
       "      <td>4-5-2022 12:12:09</td>\n",
       "      <td>Computational  Science</td>\n",
       "      <td>1.0</td>\n",
       "      <td>1.0</td>\n",
       "      <td>1.0</td>\n",
       "      <td>0.0</td>\n",
       "      <td>male</td>\n",
       "      <td>fat</td>\n",
       "      <td>29/06/1998</td>\n",
       "      <td>1</td>\n",
       "      <td>0.0</td>\n",
       "      <td>0.0</td>\n",
       "      <td>100.0</td>\n",
       "      <td>9</td>\n",
       "      <td>10:00:00</td>\n",
       "      <td>0</td>\n",
       "      <td>0</td>\n",
       "    </tr>\n",
       "    <tr>\n",
       "      <th>3</th>\n",
       "      <td>4-5-2022 12:12:09</td>\n",
       "      <td>Bioinformatics and Systems Biology</td>\n",
       "      <td>1.0</td>\n",
       "      <td>0.0</td>\n",
       "      <td>NaN</td>\n",
       "      <td>1.0</td>\n",
       "      <td>male</td>\n",
       "      <td>neither</td>\n",
       "      <td>NaN</td>\n",
       "      <td>0</td>\n",
       "      <td>0.0</td>\n",
       "      <td>20.0</td>\n",
       "      <td>100.0</td>\n",
       "      <td>31</td>\n",
       "      <td>10:00:00</td>\n",
       "      <td>good food</td>\n",
       "      <td>no stress</td>\n",
       "    </tr>\n",
       "    <tr>\n",
       "      <th>4</th>\n",
       "      <td>4-5-2022 12:12:15</td>\n",
       "      <td>AI</td>\n",
       "      <td>1.0</td>\n",
       "      <td>1.0</td>\n",
       "      <td>1.0</td>\n",
       "      <td>0.0</td>\n",
       "      <td>male</td>\n",
       "      <td>fat</td>\n",
       "      <td>03/10/1997</td>\n",
       "      <td>0</td>\n",
       "      <td>0.0</td>\n",
       "      <td>2.0</td>\n",
       "      <td>100.0</td>\n",
       "      <td>86</td>\n",
       "      <td>10:00:00</td>\n",
       "      <td>Sunshine</td>\n",
       "      <td>Good Food</td>\n",
       "    </tr>\n",
       "  </tbody>\n",
       "</table>\n",
       "</div>"
      ],
      "text/plain": [
       "           timestamp                           programme  ml_course  \\\n",
       "0  4-5-2022 12:12:07             artificial intelligence        1.0   \n",
       "1  4-5-2022 12:12:07                            big data        1.0   \n",
       "2  4-5-2022 12:12:09              Computational  Science        1.0   \n",
       "3  4-5-2022 12:12:09  Bioinformatics and Systems Biology        1.0   \n",
       "4  4-5-2022 12:12:15                                  AI        1.0   \n",
       "\n",
       "   ir_course  stat_course  db_course  gender chocolate  birth_date  \\\n",
       "0        0.0          1.0        1.0  female   neither  02/05/1998   \n",
       "1        0.0          1.0        1.0    male       fat  29/02/2000   \n",
       "2        1.0          1.0        0.0    male       fat  29/06/1998   \n",
       "3        0.0          NaN        1.0    male   neither         NaN   \n",
       "4        1.0          1.0        0.0    male       fat  03/10/1997   \n",
       "\n",
       "   neighbours  standed_up  stress_level  money rand_num time_yesterday  \\\n",
       "0           0         0.0           0.0    5.0      888       10:00:00   \n",
       "1           0         1.0         100.0    1.0       12       08:00:00   \n",
       "2           1         0.0           0.0  100.0        9       10:00:00   \n",
       "3           0         0.0          20.0  100.0       31       10:00:00   \n",
       "4           0         0.0           2.0  100.0       86       10:00:00   \n",
       "\n",
       "    good_day  good_day2  \n",
       "0     coffee        sun  \n",
       "1       7777       8964  \n",
       "2          0          0  \n",
       "3  good food  no stress  \n",
       "4   Sunshine  Good Food  "
      ]
     },
     "execution_count": 63,
     "metadata": {},
     "output_type": "execute_result"
    }
   ],
   "source": [
    "data.head()"
   ]
  },
  {
   "cell_type": "markdown",
   "metadata": {},
   "source": [
    "## data[\"programme\"]"
   ]
  },
  {
   "cell_type": "code",
   "execution_count": 64,
   "metadata": {},
   "outputs": [
    {
     "data": {
      "text/plain": [
       "array(['artificial intelligence', 'big data', 'Computational  Science',\n",
       "       'Bioinformatics and Systems Biology', 'AI',\n",
       "       'Artificial Intelligence', 'Artificial Intelligence ',\n",
       "       'M Artificial Intelligence', 'FinTech',\n",
       "       'Artificial Intelligence MsC', 'Business analytics', 'ai',\n",
       "       'programme?', 'Masters in Artificial Intelligence',\n",
       "       'Msc. Information Studies Data Science Track UVA ',\n",
       "       'Econometrics and Operational Research', 'Finance and Technology',\n",
       "       'Computer science', 'Business Analytics', 'Computational Science',\n",
       "       'chrome', 'MSc Mathematics', 'Econometrics', 'AI for health',\n",
       "       'Data Mining techniques', 'computer scienece', 'Msc AI @ UvA',\n",
       "       'Econometrics & Operations Research',\n",
       "       'Master Artificial Intelligence', 'Artificial intelligence ',\n",
       "       'Data Science', 'MSc Econometrics & Operations Research',\n",
       "       'Computational science', 'MSc AI',\n",
       "       'Bioinformatics and systems biology msc', 'CS', 'Bioinformatics',\n",
       "       'Data mining tekkers ', 'Bioinformatics ', 'Computer Science',\n",
       "       'Econometrics and Operations Research',\n",
       "       'Master of Computer science ',\n",
       "       'Duisenberg Honours Programme in Quantitative Risk Management',\n",
       "       'Medical Natural Sciences', 'MPA', 'computational science',\n",
       "       'Computational science ', 'None', 'Computer Science ',\n",
       "       'Computer science - BDE', 'Business analytics ',\n",
       "       'Human Language Technology', 'Cheese', 'MSc. AI at UvA ',\n",
       "       'Econometrics and Data Science', 'Masters Computer Science ',\n",
       "       'QRM', 'Msc AI', 'MSc Bioinformatics', 'Masters AI ', 'PDCS',\n",
       "       'Business Analytics Master (Computational Intelligence track)',\n",
       "       'Ai', 'SEG', 'advanced', 'cs', 'Bioinformatics & Systems Biology',\n",
       "       'Artificial intelligence master', 'PhD',\n",
       "       'Msc Artificial Intelligence',\n",
       "       'Master Artificial Intelligence at UvA', 'Data Mining Techniques',\n",
       "       'IS:DS', 'MSc Bioinformatics and Systems Biology', 'MSc Finance',\n",
       "       'MSc Computer science', 'business analytics',\n",
       "       'Econometrics and data science', 'Data Science ',\n",
       "       'MSc Artificial Intelligence', 'msc econometrics',\n",
       "       'MSc in Bioinformatics and Systems Biology',\n",
       "       'Engineering and Policy Analysis, TU Delft',\n",
       "       'Artificial Intelligence - Cognitive Science',\n",
       "       'Artificial intelligence', 'Masters EOR', 'BA', 'EOR', 'F&T',\n",
       "       'Exchange program', 'Python', 'MSc in AI',\n",
       "       'Master business Analytics', 'AI ', 'Fin: QRM',\n",
       "       'Bio informatics and systems biology', 'Computational Science ',\n",
       "       'M Artificial Intelligence ', 'MSc Computational Science ',\n",
       "       'Computer Science(joint degree)', 'AI Masters',\n",
       "       'Biomolecular Sciences', 'E&OR', 'Master AI',\n",
       "       'MSc Bioinformatics and Systems Biology ',\n",
       "       'Quantitative Risk Management', 'AI Cognitive Science Track',\n",
       "       'Economtrics', 'CS Big Data Engineering ', 'CLS',\n",
       "       'Computer science ', 'Master Artificial intelligence',\n",
       "       'VU Master of AI', 'MSc Computer Science', 'Economics',\n",
       "       'Computational Science(CLS)', 'Data mining',\n",
       "       'Masters in Artificial intelligence ', 'BISB',\n",
       "       'Biomedical science', 'Masters Bioinformatics ', 'E',\n",
       "       'MSc Computational Science'], dtype=object)"
      ]
     },
     "execution_count": 64,
     "metadata": {},
     "output_type": "execute_result"
    }
   ],
   "source": [
    "data[\"programme\"].unique()"
   ]
  },
  {
   "cell_type": "markdown",
   "metadata": {},
   "source": [
    "## data[\"good_day\"]"
   ]
  },
  {
   "cell_type": "code",
   "execution_count": 65,
   "metadata": {},
   "outputs": [
    {
     "data": {
      "text/plain": [
       "array(['coffee', '7777', '0', 'good food', 'Sunshine', 'This lecture',\n",
       "       'sunshine', 'Rainy Day', 'Food', 'sun, friends and wine', 'Coffee',\n",
       "       'sun', 'drugs', 'Good sleep', 'Good mental state.', '6', 'food',\n",
       "       'Having a fun lecture', 'Flat white', 'Friends', 'Happy',\n",
       "       'See you smile', 'Having my favorite meal :)', 'Head',\n",
       "       'A good balance between productivity and rest', 'Movies',\n",
       "       'Good food', 'Sunnnn', 'alcohol', 'Datamining', 'Weather', 'Sex',\n",
       "       '1', 'Working hard', 'Beer', 'good night of sleep', 'Good weather',\n",
       "       'Saturday', 'Seeing Friends', 'Satisfaction', '2', 'Chocolate',\n",
       "       'Yes', 'Snacks', 'With family and loved ones', 'Sun', 'Cookies',\n",
       "       'Biking ', 'waking up early', 'Gym', 'whole lotta bread', '420',\n",
       "       'Having a snickers ', 'Free food', 'sleep', 'alive',\n",
       "       'No deadlines/exam', 'waking up ', 'Good food and sports',\n",
       "       'being stoic', 'game', 'Kissing thomas', 'Joy', 'Reading', 'Cake',\n",
       "       'No lectures ', 'Frozen yoghurt', 'Eat food ', 'Chocolate ',\n",
       "       'Passing assignments ', 'no homework', 'Drugs ',\n",
       "       'No complications', 'chocolate', 'Playing', 'Χρεσης',\n",
       "       'Good coffee', 'EDDA grades', 'Surveys', 'no dues',\n",
       "       'delicious food', 'Love 😓', 'Xtc', 'Kafeneion Amsterdam ',\n",
       "       'a nice dinner', 'Fun people', 'Flow state',\n",
       "       'Double fudge brownies', 'Party', 'VIKINGS!', 'Beers', 'Lasagne',\n",
       "       'Food football and sleep', 'Traveling with friends ',\n",
       "       'Nice weather', 'Lack of stress', 'SUNSHINE 😭', 'Pizza', 'Sushi',\n",
       "       'friends', 'music', 'Sun ', 'Sports', '8 hours of sleep ',\n",
       "       'Hours of sleep', 'Spending time with friends', 'Good night',\n",
       "       'coding', 'Sleep', 'Free', 'Laughter', 'Sunny', 'Productive',\n",
       "       'feeling content', 'A nice deep sleep', 'good sleep',\n",
       "       'Get up early', 'Stresslevel', 'A lot of sleep', 'exercise',\n",
       "       'Green', 'weather', 'Good night of sleep', 'SUN',\n",
       "       'Successful debugging', 'Good Sleep', 'Being with friends',\n",
       "       'A dm lecture', 'coffee in the morning', '3', \"I don't know\",\n",
       "       'Applying data mining techniques', 'no class',\n",
       "       'no stress from school', 'my cat purs on me', 'no lecture',\n",
       "       'time for myself', 'socializing', 'Sunny weather', 'Mood',\n",
       "       'blue sky with a shiny sun', 'Sun and park', 'sunshine ',\n",
       "       'Wakker worden naast Lieke', 'No obligations', 'warm weather',\n",
       "       'no work', 'Some love from friends/fam/bf', 'good weather',\n",
       "       'Andrea', 'sleep ', 'Cycling', 'sport', 'Not rain ',\n",
       "       'sleeping long', 'nice weather', 'Doing nothing important',\n",
       "       'No lectures', 'sunlight', 'thuisbezorgd', 'Lots of food',\n",
       "       'Win lottery', 'Workout', 'studying', 'Being productive',\n",
       "       'having a productive day', 'Nice dinner', 'Music',\n",
       "       'Winkel apple pie', 'Wake up late', 'smiles', 'Smile',\n",
       "       'Having coffee', 'Cat', 'insightful things', 'A good sleep',\n",
       "       'breakfast', 'Time with family and friends ',\n",
       "       'Good sleep, good sport', 'do my thing and gym',\n",
       "       'A warm sunny day with no stress', 'good',\n",
       "       'Enough time for relaxing', 'A nice calming Data Mining lecture',\n",
       "       'Lemons', 'having fun', 'Silence', 'Clear skies',\n",
       "       'Ether in the green', 'Come up with a good question',\n",
       "       'A good gym session', 'have enough sleep',\n",
       "       'happiness comes from within, but mental stimulation is always appreciated',\n",
       "       'Quality time spent', 'Sunshi', 'Coffee in the morning', 'no idea',\n",
       "       'Getting work done ', 'Highly productive ', '9', None],\n",
       "      dtype=object)"
      ]
     },
     "execution_count": 65,
     "metadata": {},
     "output_type": "execute_result"
    }
   ],
   "source": [
    "data[\"good_day\"].unique()"
   ]
  },
  {
   "cell_type": "markdown",
   "metadata": {},
   "source": [
    "## data[\"good_day2\"]"
   ]
  },
  {
   "cell_type": "code",
   "execution_count": 66,
   "metadata": {},
   "outputs": [
    {
     "data": {
      "text/plain": [
       "array(['sun', '8964', '0', 'no stress', 'Good Food', 'Sun', 'happiness',\n",
       "       'Weekend', 'Relaxation', 'relaxing, watching a show, hockey',\n",
       "       'Not coffee', 'holiday', 'beer', 'Good work', 'A challenge.', '9',\n",
       "       'sleeping', 'Hanging out with my friends', 'tv series',\n",
       "       'good food', 'wind:(', 'Water', 'Faces', 'Monk',\n",
       "       'Getting enough sleep', 'Good weather', 'A good night of sleep',\n",
       "       'Coffee', 'Croissant', 'relax', 'Datamining2', 'sleep', 'Beer',\n",
       "       'Good food', '1', 'Playing volleyball', 'Friends', 'Ajax',\n",
       "       'Nice people around', 'Saturday', 'Nice weather', 'Spare time',\n",
       "       '4', 'beach', 'Clear skies', 'No', 'gym', 'Good grades',\n",
       "       'Being in good health', 'Sleep', 'More beer', \"I don't know \",\n",
       "       'Food', 'Books', 'finishing things for the day', 'good wave check',\n",
       "       'Good coffee', '69', 'Free coffee', 'Chocolate Milk', 'eat',\n",
       "       'awake', 'not rain', 'Good sex', 'eating', '10',\n",
       "       'accepting change', 'beautiful girl', 'Alcohol ', 'More jou',\n",
       "       'Sex', 'Music', 'Pie', 'No assignments ', \"Completed to-do's\",\n",
       "       'Sleep ', 'Passing exams', 'earn money', 'Day off', 'Sport',\n",
       "       'more chocolate', 'Studying ', 'Φετα', 'No class', 'sun x 2',\n",
       "       'friends', 'pasta', 'Challeging works', 'Data mining', 'no school',\n",
       "       'friends company', 'Money', 'More Kafeneion Amsterdam ', 'date',\n",
       "       'Free time', 'the sun', 'being with the people i love', 'Wine',\n",
       "       'Angela', 'Tennis', 'My house not burning down :)',\n",
       "       'deliocious food', 'Movies', 'More lasagne',\n",
       "       'Gym study and drinks', 'Eating with family ',\n",
       "       'Feeling productive', 'Laughter ', 'Spring', 'WFH', 'Anime',\n",
       "       'A smile', 'sex', 'love', 'videogames', 'Rain', 'Meditation',\n",
       "       'no stress about uni', 'Free time ', 'feyenoord winning',\n",
       "       'Fun stuff to do', 'food', 'More Sleep', 'Warmth', 'Vacation',\n",
       "       'good times with friends and family', 'Sports',\n",
       "       'not too much stress', 'Drinking', 'working out in the gym',\n",
       "       'good dinner', 'Sunshine', 'Don’t drink day before', 'Party',\n",
       "       'Social interaction', 'Time to read ', 'good meal', 'Freedom',\n",
       "       'No EDDA', 'Sunday funday', 'no work', 'Low stress level',\n",
       "       'drinks with friends', 'Seeing my girlfriend ', 'Diet on point',\n",
       "       'Eating good food', 'Activity', 'A dm QA', 'beer in the evening',\n",
       "       '2', \"I really don't know\", 'Netflix with girlfriend',\n",
       "       'no homework', 'go to restaurant', 'seeing sun in Netherlands',\n",
       "       'Social interaction ', 'Plan', 'BBQ', 'no home assignment',\n",
       "       'Winning the lottery', 'bouldering', 'productivity', None,\n",
       "       'Happy moments', 'Weather', 'Knowing i have a spare day',\n",
       "       'Sun and chill', 'fun stuff on the planning',\n",
       "       'Geen ontbijt met Jan', 'Games', 'fun',\n",
       "       'Feeling in tune with yourself and your surroundings',\n",
       "       'not having to get up early', 'My bed', 'DMT', 'Sunlight',\n",
       "       'meeting friends', 'call my mother', 'Feeling good', 'smoke weed',\n",
       "       'Going to the gym', 'free money', 'Talking with friends',\n",
       "       'No responsibility', 'Sunny weather', 'No wind', 'Fun', 'sport',\n",
       "       'Nice whether ', 'Exercise', 'gaming', 'Going out in a sunny day',\n",
       "       'Win lottery again', 'exercise', 'Good people', 'Cookies',\n",
       "       ' progress in the course', 'learning', 'Listening/making music',\n",
       "       'being with friends/family', 'Netflix', 'Neat room', 'Drinks',\n",
       "       'breakfast', 'more smiles', 'Laugh',\n",
       "       'not thinking about tomorrow ', 'Staying with my best friends',\n",
       "       'going outside', 'Good news ', 'Meet friends', 'Good study',\n",
       "       \"lover's kiss\", 'I answered it already', 'drinks',\n",
       "       'Being productive', 'A cool glass of water', 'Lemonade',\n",
       "       'Something to achieve in the day', 'a nice meal', 'Warm weather',\n",
       "       'Chill music', 'Find a solution to the good question',\n",
       "       'Bad weather', 'make progress in anything',\n",
       "       'be healthy, having a growth mindset, mental stimulation (dopamine), exercise (endorphins), hugs (oxytocin), sunlight (serotine)',\n",
       "       'Being more productive ', 'No obligations',\n",
       "       'Hanging out with friends', 'still no idea',\n",
       "       'Doing sports (climbing)', 'Time with friends ', 'Nice food',\n",
       "       'Sleep more than 6 hours ', 'good mood'], dtype=object)"
      ]
     },
     "execution_count": 66,
     "metadata": {},
     "output_type": "execute_result"
    }
   ],
   "source": [
    "data[\"good_day2\"].unique()"
   ]
  },
  {
   "cell_type": "code",
   "execution_count": 67,
   "metadata": {},
   "outputs": [
    {
     "data": {
      "text/plain": [
       "timestamp           0\n",
       "programme           0\n",
       "ml_course           7\n",
       "ir_course          27\n",
       "stat_course        28\n",
       "db_course           7\n",
       "gender              0\n",
       "chocolate           6\n",
       "birth_date        126\n",
       "neighbours          0\n",
       "standed_up         26\n",
       "stress_level        0\n",
       "money               0\n",
       "rand_num            0\n",
       "time_yesterday      0\n",
       "good_day            1\n",
       "good_day2           2\n",
       "dtype: int64"
      ]
     },
     "execution_count": 67,
     "metadata": {},
     "output_type": "execute_result"
    }
   ],
   "source": [
    "data.isnull().sum()"
   ]
  },
  {
   "cell_type": "code",
   "execution_count": 68,
   "metadata": {},
   "outputs": [
    {
     "data": {
      "image/png": "[encoded data removed]",
      "text/plain": [
       "<Figure size 432x288 with 1 Axes>"
      ]
     },
     "metadata": {
      "needs_background": "light"
     },
     "output_type": "display_data"
    }
   ],
   "source": [
    "sns.heatmap(data.isnull(),cbar=False,cmap='plasma');"
   ]
  },
  {
   "cell_type": "code",
   "execution_count": 69,
   "metadata": {},
   "outputs": [
    {
     "data": {
      "text/html": [
       "<div>\n",
       "<style scoped>\n",
       "    .dataframe tbody tr th:only-of-type {\n",
       "        vertical-align: middle;\n",
       "    }\n",
       "\n",
       "    .dataframe tbody tr th {\n",
       "        vertical-align: top;\n",
       "    }\n",
       "\n",
       "    .dataframe thead th {\n",
       "        text-align: right;\n",
       "    }\n",
       "</style>\n",
       "<table border=\"1\" class=\"dataframe\">\n",
       "  <thead>\n",
       "    <tr style=\"text-align: right;\">\n",
       "      <th></th>\n",
       "      <th>timestamp</th>\n",
       "      <th>programme</th>\n",
       "      <th>ml_course</th>\n",
       "      <th>ir_course</th>\n",
       "      <th>stat_course</th>\n",
       "      <th>db_course</th>\n",
       "      <th>gender</th>\n",
       "      <th>chocolate</th>\n",
       "      <th>birth_date</th>\n",
       "      <th>neighbours</th>\n",
       "      <th>standed_up</th>\n",
       "      <th>stress_level</th>\n",
       "      <th>money</th>\n",
       "      <th>rand_num</th>\n",
       "      <th>time_yesterday</th>\n",
       "      <th>good_day</th>\n",
       "      <th>good_day2</th>\n",
       "    </tr>\n",
       "  </thead>\n",
       "  <tbody>\n",
       "    <tr>\n",
       "      <th>0</th>\n",
       "      <td>4-5-2022 12:12:07</td>\n",
       "      <td>artificial intelligence</td>\n",
       "      <td>1.0</td>\n",
       "      <td>0.0</td>\n",
       "      <td>1.0</td>\n",
       "      <td>1.0</td>\n",
       "      <td>female</td>\n",
       "      <td>neither</td>\n",
       "      <td>02/05/1998</td>\n",
       "      <td>0</td>\n",
       "      <td>0.0</td>\n",
       "      <td>0.0</td>\n",
       "      <td>5.0</td>\n",
       "      <td>888</td>\n",
       "      <td>10:00:00</td>\n",
       "      <td>coffee</td>\n",
       "      <td>sun</td>\n",
       "    </tr>\n",
       "    <tr>\n",
       "      <th>1</th>\n",
       "      <td>4-5-2022 12:12:07</td>\n",
       "      <td>big data</td>\n",
       "      <td>1.0</td>\n",
       "      <td>0.0</td>\n",
       "      <td>1.0</td>\n",
       "      <td>1.0</td>\n",
       "      <td>male</td>\n",
       "      <td>fat</td>\n",
       "      <td>29/02/2000</td>\n",
       "      <td>0</td>\n",
       "      <td>1.0</td>\n",
       "      <td>100.0</td>\n",
       "      <td>1.0</td>\n",
       "      <td>12</td>\n",
       "      <td>08:00:00</td>\n",
       "      <td>7777</td>\n",
       "      <td>8964</td>\n",
       "    </tr>\n",
       "    <tr>\n",
       "      <th>2</th>\n",
       "      <td>4-5-2022 12:12:09</td>\n",
       "      <td>Computational  Science</td>\n",
       "      <td>1.0</td>\n",
       "      <td>1.0</td>\n",
       "      <td>1.0</td>\n",
       "      <td>0.0</td>\n",
       "      <td>male</td>\n",
       "      <td>fat</td>\n",
       "      <td>29/06/1998</td>\n",
       "      <td>1</td>\n",
       "      <td>0.0</td>\n",
       "      <td>0.0</td>\n",
       "      <td>100.0</td>\n",
       "      <td>9</td>\n",
       "      <td>10:00:00</td>\n",
       "      <td>0</td>\n",
       "      <td>0</td>\n",
       "    </tr>\n",
       "    <tr>\n",
       "      <th>4</th>\n",
       "      <td>4-5-2022 12:12:15</td>\n",
       "      <td>AI</td>\n",
       "      <td>1.0</td>\n",
       "      <td>1.0</td>\n",
       "      <td>1.0</td>\n",
       "      <td>0.0</td>\n",
       "      <td>male</td>\n",
       "      <td>fat</td>\n",
       "      <td>03/10/1997</td>\n",
       "      <td>0</td>\n",
       "      <td>0.0</td>\n",
       "      <td>2.0</td>\n",
       "      <td>100.0</td>\n",
       "      <td>86</td>\n",
       "      <td>10:00:00</td>\n",
       "      <td>Sunshine</td>\n",
       "      <td>Good Food</td>\n",
       "    </tr>\n",
       "    <tr>\n",
       "      <th>9</th>\n",
       "      <td>4-5-2022 12:12:29</td>\n",
       "      <td>Artificial Intelligence</td>\n",
       "      <td>0.0</td>\n",
       "      <td>0.0</td>\n",
       "      <td>1.0</td>\n",
       "      <td>0.0</td>\n",
       "      <td>female</td>\n",
       "      <td>fat</td>\n",
       "      <td>21/07/2000</td>\n",
       "      <td>5</td>\n",
       "      <td>1.0</td>\n",
       "      <td>50.0</td>\n",
       "      <td>10.0</td>\n",
       "      <td>88</td>\n",
       "      <td>10:00:00</td>\n",
       "      <td>sun, friends and wine</td>\n",
       "      <td>relaxing, watching a show, hockey</td>\n",
       "    </tr>\n",
       "  </tbody>\n",
       "</table>\n",
       "</div>"
      ],
      "text/plain": [
       "           timestamp                programme  ml_course  ir_course  \\\n",
       "0  4-5-2022 12:12:07  artificial intelligence        1.0        0.0   \n",
       "1  4-5-2022 12:12:07                 big data        1.0        0.0   \n",
       "2  4-5-2022 12:12:09   Computational  Science        1.0        1.0   \n",
       "4  4-5-2022 12:12:15                       AI        1.0        1.0   \n",
       "9  4-5-2022 12:12:29  Artificial Intelligence        0.0        0.0   \n",
       "\n",
       "   stat_course  db_course  gender chocolate  birth_date  neighbours  \\\n",
       "0          1.0        1.0  female   neither  02/05/1998           0   \n",
       "1          1.0        1.0    male       fat  29/02/2000           0   \n",
       "2          1.0        0.0    male       fat  29/06/1998           1   \n",
       "4          1.0        0.0    male       fat  03/10/1997           0   \n",
       "9          1.0        0.0  female       fat  21/07/2000           5   \n",
       "\n",
       "   standed_up  stress_level  money rand_num time_yesterday  \\\n",
       "0         0.0           0.0    5.0      888       10:00:00   \n",
       "1         1.0         100.0    1.0       12       08:00:00   \n",
       "2         0.0           0.0  100.0        9       10:00:00   \n",
       "4         0.0           2.0  100.0       86       10:00:00   \n",
       "9         1.0          50.0   10.0       88       10:00:00   \n",
       "\n",
       "                good_day                          good_day2  \n",
       "0                 coffee                                sun  \n",
       "1                   7777                               8964  \n",
       "2                      0                                  0  \n",
       "4               Sunshine                          Good Food  \n",
       "9  sun, friends and wine  relaxing, watching a show, hockey  "
      ]
     },
     "execution_count": 69,
     "metadata": {},
     "output_type": "execute_result"
    }
   ],
   "source": [
    "data.dropna().head()"
   ]
  },
  {
   "cell_type": "markdown",
   "metadata": {},
   "source": [
    "### Normalizing and Scaling"
   ]
  },
  {
   "cell_type": "code",
   "execution_count": 70,
   "metadata": {},
   "outputs": [
    {
     "data": {
      "text/plain": [
       "StandardScaler()"
      ]
     },
     "execution_count": 70,
     "metadata": {},
     "output_type": "execute_result"
    }
   ],
   "source": [
    "std_scale = StandardScaler()\n",
    "std_scale"
   ]
  },
  {
   "cell_type": "code",
   "execution_count": 71,
   "metadata": {},
   "outputs": [],
   "source": [
    "data['stress_level'] = std_scale.fit_transform(data[['stress_level']])\n",
    "data['money'] = std_scale.fit_transform(data[['money']])\n",
    "data['rand_num'] = std_scale.fit_transform(data[['rand_num']])"
   ]
  },
  {
   "cell_type": "code",
   "execution_count": 72,
   "metadata": {},
   "outputs": [
    {
     "data": {
      "text/html": [
       "<div>\n",
       "<style scoped>\n",
       "    .dataframe tbody tr th:only-of-type {\n",
       "        vertical-align: middle;\n",
       "    }\n",
       "\n",
       "    .dataframe tbody tr th {\n",
       "        vertical-align: top;\n",
       "    }\n",
       "\n",
       "    .dataframe thead th {\n",
       "        text-align: right;\n",
       "    }\n",
       "</style>\n",
       "<table border=\"1\" class=\"dataframe\">\n",
       "  <thead>\n",
       "    <tr style=\"text-align: right;\">\n",
       "      <th></th>\n",
       "      <th>timestamp</th>\n",
       "      <th>programme</th>\n",
       "      <th>ml_course</th>\n",
       "      <th>ir_course</th>\n",
       "      <th>stat_course</th>\n",
       "      <th>db_course</th>\n",
       "      <th>gender</th>\n",
       "      <th>chocolate</th>\n",
       "      <th>birth_date</th>\n",
       "      <th>neighbours</th>\n",
       "      <th>standed_up</th>\n",
       "      <th>stress_level</th>\n",
       "      <th>money</th>\n",
       "      <th>rand_num</th>\n",
       "      <th>time_yesterday</th>\n",
       "      <th>good_day</th>\n",
       "      <th>good_day2</th>\n",
       "    </tr>\n",
       "  </thead>\n",
       "  <tbody>\n",
       "    <tr>\n",
       "      <th>0</th>\n",
       "      <td>4-5-2022 12:12:07</td>\n",
       "      <td>artificial intelligence</td>\n",
       "      <td>1.0</td>\n",
       "      <td>0.0</td>\n",
       "      <td>1.0</td>\n",
       "      <td>1.0</td>\n",
       "      <td>female</td>\n",
       "      <td>neither</td>\n",
       "      <td>02/05/1998</td>\n",
       "      <td>0</td>\n",
       "      <td>0.0</td>\n",
       "      <td>-1.521681</td>\n",
       "      <td>-1.009845</td>\n",
       "      <td>-0.057448</td>\n",
       "      <td>10:00:00</td>\n",
       "      <td>coffee</td>\n",
       "      <td>sun</td>\n",
       "    </tr>\n",
       "    <tr>\n",
       "      <th>1</th>\n",
       "      <td>4-5-2022 12:12:07</td>\n",
       "      <td>big data</td>\n",
       "      <td>1.0</td>\n",
       "      <td>0.0</td>\n",
       "      <td>1.0</td>\n",
       "      <td>1.0</td>\n",
       "      <td>male</td>\n",
       "      <td>fat</td>\n",
       "      <td>29/02/2000</td>\n",
       "      <td>0</td>\n",
       "      <td>1.0</td>\n",
       "      <td>1.646251</td>\n",
       "      <td>-1.114049</td>\n",
       "      <td>-0.057448</td>\n",
       "      <td>08:00:00</td>\n",
       "      <td>7777</td>\n",
       "      <td>8964</td>\n",
       "    </tr>\n",
       "    <tr>\n",
       "      <th>2</th>\n",
       "      <td>4-5-2022 12:12:09</td>\n",
       "      <td>Computational  Science</td>\n",
       "      <td>1.0</td>\n",
       "      <td>1.0</td>\n",
       "      <td>1.0</td>\n",
       "      <td>0.0</td>\n",
       "      <td>male</td>\n",
       "      <td>fat</td>\n",
       "      <td>29/06/1998</td>\n",
       "      <td>1</td>\n",
       "      <td>0.0</td>\n",
       "      <td>-1.521681</td>\n",
       "      <td>1.464992</td>\n",
       "      <td>-0.057448</td>\n",
       "      <td>10:00:00</td>\n",
       "      <td>0</td>\n",
       "      <td>0</td>\n",
       "    </tr>\n",
       "    <tr>\n",
       "      <th>4</th>\n",
       "      <td>4-5-2022 12:12:15</td>\n",
       "      <td>AI</td>\n",
       "      <td>1.0</td>\n",
       "      <td>1.0</td>\n",
       "      <td>1.0</td>\n",
       "      <td>0.0</td>\n",
       "      <td>male</td>\n",
       "      <td>fat</td>\n",
       "      <td>03/10/1997</td>\n",
       "      <td>0</td>\n",
       "      <td>0.0</td>\n",
       "      <td>-1.458322</td>\n",
       "      <td>1.464992</td>\n",
       "      <td>-0.057448</td>\n",
       "      <td>10:00:00</td>\n",
       "      <td>Sunshine</td>\n",
       "      <td>Good Food</td>\n",
       "    </tr>\n",
       "    <tr>\n",
       "      <th>9</th>\n",
       "      <td>4-5-2022 12:12:29</td>\n",
       "      <td>Artificial Intelligence</td>\n",
       "      <td>0.0</td>\n",
       "      <td>0.0</td>\n",
       "      <td>1.0</td>\n",
       "      <td>0.0</td>\n",
       "      <td>female</td>\n",
       "      <td>fat</td>\n",
       "      <td>21/07/2000</td>\n",
       "      <td>5</td>\n",
       "      <td>1.0</td>\n",
       "      <td>0.062285</td>\n",
       "      <td>-0.879590</td>\n",
       "      <td>-0.057448</td>\n",
       "      <td>10:00:00</td>\n",
       "      <td>sun, friends and wine</td>\n",
       "      <td>relaxing, watching a show, hockey</td>\n",
       "    </tr>\n",
       "  </tbody>\n",
       "</table>\n",
       "</div>"
      ],
      "text/plain": [
       "           timestamp                programme  ml_course  ir_course  \\\n",
       "0  4-5-2022 12:12:07  artificial intelligence        1.0        0.0   \n",
       "1  4-5-2022 12:12:07                 big data        1.0        0.0   \n",
       "2  4-5-2022 12:12:09   Computational  Science        1.0        1.0   \n",
       "4  4-5-2022 12:12:15                       AI        1.0        1.0   \n",
       "9  4-5-2022 12:12:29  Artificial Intelligence        0.0        0.0   \n",
       "\n",
       "   stat_course  db_course  gender chocolate  birth_date  neighbours  \\\n",
       "0          1.0        1.0  female   neither  02/05/1998           0   \n",
       "1          1.0        1.0    male       fat  29/02/2000           0   \n",
       "2          1.0        0.0    male       fat  29/06/1998           1   \n",
       "4          1.0        0.0    male       fat  03/10/1997           0   \n",
       "9          1.0        0.0  female       fat  21/07/2000           5   \n",
       "\n",
       "   standed_up  stress_level     money  rand_num time_yesterday  \\\n",
       "0         0.0     -1.521681 -1.009845 -0.057448       10:00:00   \n",
       "1         1.0      1.646251 -1.114049 -0.057448       08:00:00   \n",
       "2         0.0     -1.521681  1.464992 -0.057448       10:00:00   \n",
       "4         0.0     -1.458322  1.464992 -0.057448       10:00:00   \n",
       "9         1.0      0.062285 -0.879590 -0.057448       10:00:00   \n",
       "\n",
       "                good_day                          good_day2  \n",
       "0                 coffee                                sun  \n",
       "1                   7777                               8964  \n",
       "2                      0                                  0  \n",
       "4               Sunshine                          Good Food  \n",
       "9  sun, friends and wine  relaxing, watching a show, hockey  "
      ]
     },
     "execution_count": 72,
     "metadata": {},
     "output_type": "execute_result"
    }
   ],
   "source": [
    "data = data.dropna()\n",
    "data.head()"
   ]
  },
  {
   "cell_type": "code",
   "execution_count": 73,
   "metadata": {},
   "outputs": [
    {
     "data": {
      "text/html": [
       "<div>\n",
       "<style scoped>\n",
       "    .dataframe tbody tr th:only-of-type {\n",
       "        vertical-align: middle;\n",
       "    }\n",
       "\n",
       "    .dataframe tbody tr th {\n",
       "        vertical-align: top;\n",
       "    }\n",
       "\n",
       "    .dataframe thead th {\n",
       "        text-align: right;\n",
       "    }\n",
       "</style>\n",
       "<table border=\"1\" class=\"dataframe\">\n",
       "  <thead>\n",
       "    <tr style=\"text-align: right;\">\n",
       "      <th></th>\n",
       "      <th>ml_course</th>\n",
       "      <th>ir_course</th>\n",
       "      <th>stat_course</th>\n",
       "      <th>db_course</th>\n",
       "      <th>neighbours</th>\n",
       "      <th>standed_up</th>\n",
       "      <th>stress_level</th>\n",
       "      <th>money</th>\n",
       "      <th>rand_num</th>\n",
       "    </tr>\n",
       "  </thead>\n",
       "  <tbody>\n",
       "    <tr>\n",
       "      <th>count</th>\n",
       "      <td>128.000000</td>\n",
       "      <td>128.000000</td>\n",
       "      <td>128.000000</td>\n",
       "      <td>128.000000</td>\n",
       "      <td>128.000000</td>\n",
       "      <td>128.000000</td>\n",
       "      <td>128.000000</td>\n",
       "      <td>128.000000</td>\n",
       "      <td>1.280000e+02</td>\n",
       "    </tr>\n",
       "    <tr>\n",
       "      <th>mean</th>\n",
       "      <td>0.593750</td>\n",
       "      <td>0.257812</td>\n",
       "      <td>0.875000</td>\n",
       "      <td>0.453125</td>\n",
       "      <td>4.257812</td>\n",
       "      <td>0.132812</td>\n",
       "      <td>0.053623</td>\n",
       "      <td>-0.075313</td>\n",
       "      <td>-5.744850e-02</td>\n",
       "    </tr>\n",
       "    <tr>\n",
       "      <th>std</th>\n",
       "      <td>0.493062</td>\n",
       "      <td>0.439149</td>\n",
       "      <td>0.332018</td>\n",
       "      <td>0.499754</td>\n",
       "      <td>26.760897</td>\n",
       "      <td>0.340705</td>\n",
       "      <td>0.982551</td>\n",
       "      <td>0.978452</td>\n",
       "      <td>2.089848e-17</td>\n",
       "    </tr>\n",
       "    <tr>\n",
       "      <th>min</th>\n",
       "      <td>0.000000</td>\n",
       "      <td>0.000000</td>\n",
       "      <td>0.000000</td>\n",
       "      <td>0.000000</td>\n",
       "      <td>0.000000</td>\n",
       "      <td>0.000000</td>\n",
       "      <td>-1.521681</td>\n",
       "      <td>-1.140100</td>\n",
       "      <td>-5.744850e-02</td>\n",
       "    </tr>\n",
       "    <tr>\n",
       "      <th>25%</th>\n",
       "      <td>0.000000</td>\n",
       "      <td>0.000000</td>\n",
       "      <td>1.000000</td>\n",
       "      <td>0.000000</td>\n",
       "      <td>0.000000</td>\n",
       "      <td>0.000000</td>\n",
       "      <td>-0.840575</td>\n",
       "      <td>-1.009845</td>\n",
       "      <td>-5.744850e-02</td>\n",
       "    </tr>\n",
       "    <tr>\n",
       "      <th>50%</th>\n",
       "      <td>1.000000</td>\n",
       "      <td>0.000000</td>\n",
       "      <td>1.000000</td>\n",
       "      <td>0.000000</td>\n",
       "      <td>1.000000</td>\n",
       "      <td>0.000000</td>\n",
       "      <td>0.062285</td>\n",
       "      <td>-0.058986</td>\n",
       "      <td>-5.744850e-02</td>\n",
       "    </tr>\n",
       "    <tr>\n",
       "      <th>75%</th>\n",
       "      <td>1.000000</td>\n",
       "      <td>1.000000</td>\n",
       "      <td>1.000000</td>\n",
       "      <td>1.000000</td>\n",
       "      <td>2.000000</td>\n",
       "      <td>0.000000</td>\n",
       "      <td>0.695872</td>\n",
       "      <td>0.716028</td>\n",
       "      <td>-5.744850e-02</td>\n",
       "    </tr>\n",
       "    <tr>\n",
       "      <th>max</th>\n",
       "      <td>1.000000</td>\n",
       "      <td>1.000000</td>\n",
       "      <td>1.000000</td>\n",
       "      <td>1.000000</td>\n",
       "      <td>300.000000</td>\n",
       "      <td>1.000000</td>\n",
       "      <td>1.646251</td>\n",
       "      <td>1.464992</td>\n",
       "      <td>-5.744850e-02</td>\n",
       "    </tr>\n",
       "  </tbody>\n",
       "</table>\n",
       "</div>"
      ],
      "text/plain": [
       "        ml_course   ir_course  stat_course   db_course  neighbours  \\\n",
       "count  128.000000  128.000000   128.000000  128.000000  128.000000   \n",
       "mean     0.593750    0.257812     0.875000    0.453125    4.257812   \n",
       "std      0.493062    0.439149     0.332018    0.499754   26.760897   \n",
       "min      0.000000    0.000000     0.000000    0.000000    0.000000   \n",
       "25%      0.000000    0.000000     1.000000    0.000000    0.000000   \n",
       "50%      1.000000    0.000000     1.000000    0.000000    1.000000   \n",
       "75%      1.000000    1.000000     1.000000    1.000000    2.000000   \n",
       "max      1.000000    1.000000     1.000000    1.000000  300.000000   \n",
       "\n",
       "       standed_up  stress_level       money      rand_num  \n",
       "count  128.000000    128.000000  128.000000  1.280000e+02  \n",
       "mean     0.132812      0.053623   -0.075313 -5.744850e-02  \n",
       "std      0.340705      0.982551    0.978452  2.089848e-17  \n",
       "min      0.000000     -1.521681   -1.140100 -5.744850e-02  \n",
       "25%      0.000000     -0.840575   -1.009845 -5.744850e-02  \n",
       "50%      0.000000      0.062285   -0.058986 -5.744850e-02  \n",
       "75%      0.000000      0.695872    0.716028 -5.744850e-02  \n",
       "max      1.000000      1.646251    1.464992 -5.744850e-02  "
      ]
     },
     "execution_count": 73,
     "metadata": {},
     "output_type": "execute_result"
    }
   ],
   "source": [
    "data.describe()"
   ]
  },
  {
   "cell_type": "markdown",
   "metadata": {},
   "source": [
    "## Data Visualization"
   ]
  },
  {
   "cell_type": "code",
   "execution_count": 74,
   "metadata": {},
   "outputs": [
    {
     "data": {
      "image/png": "[encoded data removed]",
      "text/plain": [
       "<Figure size 576x432 with 1 Axes>"
      ]
     },
     "metadata": {
      "needs_background": "light"
     },
     "output_type": "display_data"
    }
   ],
   "source": [
    "# scatter plot\n",
    "plt.figure(figsize=(8,6))\n",
    "plt.plot(data['gender'])\n",
    "plt.plot(data['ir_course'])\n",
    "  \n",
    "# adding title to the plot\n",
    "plt.title(\"Gender vs IR Course\")\n",
    "  \n",
    "# setting the X and Y labels\n",
    "plt.xlabel('Information Retrieval Course')\n",
    "plt.ylabel('Gender');"
   ]
  },
  {
   "cell_type": "code",
   "execution_count": 75,
   "metadata": {},
   "outputs": [
    {
     "data": {
      "image/png": "[encoded data removed]",
      "text/plain": [
       "<Figure size 432x288 with 1 Axes>"
      ]
     },
     "metadata": {
      "needs_background": "light"
     },
     "output_type": "display_data"
    }
   ],
   "source": [
    "sns.lineplot(x=\"gender\", y=\"standed_up\", data=data,color=\"red\");"
   ]
  },
  {
   "cell_type": "code",
   "execution_count": 76,
   "metadata": {},
   "outputs": [
    {
     "data": {
      "image/png": "[encoded data removed]",
      "text/plain": [
       "<Figure size 432x288 with 1 Axes>"
      ]
     },
     "metadata": {
      "needs_background": "light"
     },
     "output_type": "display_data"
    }
   ],
   "source": [
    "sns.lineplot(x=\"gender\", y=\"ir_course\", data=data,color=\"orange\");"
   ]
  },
  {
   "cell_type": "code",
   "execution_count": 77,
   "metadata": {},
   "outputs": [
    {
     "data": {
      "image/png": "[encoded data removed]",
      "text/plain": [
       "<Figure size 432x288 with 1 Axes>"
      ]
     },
     "metadata": {
      "needs_background": "light"
     },
     "output_type": "display_data"
    }
   ],
   "source": [
    "sns.lineplot(x=\"gender\", y=\"db_course\", data=data,color=\"green\");"
   ]
  },
  {
   "cell_type": "code",
   "execution_count": 78,
   "metadata": {},
   "outputs": [
    {
     "data": {
      "image/png": "[encoded data removed]",
      "text/plain": [
       "<Figure size 576x432 with 1 Axes>"
      ]
     },
     "metadata": {
      "needs_background": "light"
     },
     "output_type": "display_data"
    }
   ],
   "source": [
    "plt.figure(figsize=(8,6))\n",
    "sns.barplot(x='db_course',y='ir_course', data=data, hue='gender',color=\"salmon\");"
   ]
  },
  {
   "cell_type": "code",
   "execution_count": 79,
   "metadata": {},
   "outputs": [
    {
     "data": {
      "image/png": "[encoded data removed]",
      "text/plain": [
       "<Figure size 576x432 with 1 Axes>"
      ]
     },
     "metadata": {
      "needs_background": "light"
     },
     "output_type": "display_data"
    }
   ],
   "source": [
    "plt.figure(figsize=(8,6))\n",
    "sns.barplot(x='rand_num',y='money', data=data, hue='gender',color=\"salmon\");"
   ]
  },
  {
   "cell_type": "code",
   "execution_count": 80,
   "metadata": {},
   "outputs": [
    {
     "data": {
      "image/png": "[encoded data removed]",
      "text/plain": [
       "<Figure size 720x576 with 1 Axes>"
      ]
     },
     "metadata": {},
     "output_type": "display_data"
    }
   ],
   "source": [
    "plt.figure(figsize=(10,8))\n",
    "colors = ['#ff9999','#66b3ff','#99ff99','#ffcc99']\n",
    "data.groupby('programme').size().plot(kind='pie', autopct='%.2f',colors=colors)\n",
    "plt.show()"
   ]
  },
  {
   "cell_type": "code",
   "execution_count": 81,
   "metadata": {},
   "outputs": [
    {
     "data": {
      "image/png": "[encoded data removed]",
      "text/plain": [
       "<Figure size 720x576 with 1 Axes>"
      ]
     },
     "metadata": {},
     "output_type": "display_data"
    }
   ],
   "source": [
    "plt.figure(figsize=(10,8))\n",
    "data.groupby('good_day').size().plot(kind='pie', autopct='%.2f')\n",
    "plt.show()"
   ]
  }
 ],
 "metadata": {
  "kernelspec": {
   "display_name": "Python 3",
   "language": "python",
   "name": "python3"
  },
  "language_info": {
   "codemirror_mode": {
    "name": "ipython",
    "version": 3
   },
   "file_extension": ".py",
   "mimetype": "text/x-python",
   "name": "python",
   "nbconvert_exporter": "python",
   "pygments_lexer": "ipython3",
   "version": "3.8.5"
  }
 },
 "nbformat": 4,
 "nbformat_minor": 4
}
